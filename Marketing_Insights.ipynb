{
 "cells": [
  {
   "cell_type": "code",
   "execution_count": 1,
   "id": "b6387f75",
   "metadata": {},
   "outputs": [],
   "source": [
    "import pandas as pd\n",
    "import numpy as np\n",
    "\n",
    "import matplotlib\n",
    "import matplotlib.pyplot as plt\n",
    "%matplotlib inline\n",
    "\n",
    "import calendar\n",
    "import seaborn as sns\n",
    "\n",
    "import scipy.stats as stats\n",
    "import pandas_profiling\n",
    "\n",
    "from sklearn.cluster import KMeans\n",
    "from sklearn.metrics import silhouette_score\n",
    "from sklearn.preprocessing import StandardScaler, MinMaxScaler\n",
    "from sklearn.decomposition import PCA\n",
    "\n",
    "from mlxtend.frequent_patterns import apriori\n",
    "from mlxtend.frequent_patterns import association_rules"
   ]
  },
  {
   "cell_type": "markdown",
   "id": "66a3f086",
   "metadata": {},
   "source": [
    "# Data"
   ]
  },
  {
   "cell_type": "code",
   "execution_count": 2,
   "id": "236cc80d",
   "metadata": {},
   "outputs": [],
   "source": [
    "customer_data = pd.read_excel(\"Datasets/CustomersData.xlsx\")"
   ]
  },
  {
   "cell_type": "code",
   "execution_count": 3,
   "id": "3b0f4c5e",
   "metadata": {},
   "outputs": [],
   "source": [
    "online_sales = pd.read_csv(\"Datasets/Online_Sales.csv\")"
   ]
  },
  {
   "cell_type": "code",
   "execution_count": 4,
   "id": "25069601",
   "metadata": {},
   "outputs": [],
   "source": [
    "marketing_spend = pd.read_csv(\"Datasets/Marketing_Spend.csv\")"
   ]
  },
  {
   "cell_type": "code",
   "execution_count": 5,
   "id": "846d0ce6",
   "metadata": {},
   "outputs": [],
   "source": [
    "disc_coupon = pd.read_csv(\"Datasets/Discount_Coupon.csv\")"
   ]
  },
  {
   "cell_type": "code",
   "execution_count": 6,
   "id": "553450aa",
   "metadata": {},
   "outputs": [],
   "source": [
    "tax_amount = pd.read_excel(\"Datasets/Tax_amount.xlsx\")"
   ]
  },
  {
   "cell_type": "code",
   "execution_count": 7,
   "id": "e3d27707",
   "metadata": {
    "scrolled": true
   },
   "outputs": [
    {
     "name": "stdout",
     "output_type": "stream",
     "text": [
      "<class 'pandas.core.frame.DataFrame'>\n",
      "RangeIndex: 1468 entries, 0 to 1467\n",
      "Data columns (total 4 columns):\n",
      " #   Column         Non-Null Count  Dtype \n",
      "---  ------         --------------  ----- \n",
      " 0   CustomerID     1468 non-null   int64 \n",
      " 1   Gender         1468 non-null   object\n",
      " 2   Location       1468 non-null   object\n",
      " 3   Tenure_Months  1468 non-null   int64 \n",
      "dtypes: int64(2), object(2)\n",
      "memory usage: 46.0+ KB\n"
     ]
    }
   ],
   "source": [
    "customer_data.info()"
   ]
  },
  {
   "cell_type": "code",
   "execution_count": 8,
   "id": "15661fae",
   "metadata": {
    "scrolled": false
   },
   "outputs": [
    {
     "name": "stdout",
     "output_type": "stream",
     "text": [
      "<class 'pandas.core.frame.DataFrame'>\n",
      "RangeIndex: 52924 entries, 0 to 52923\n",
      "Data columns (total 11 columns):\n",
      " #   Column               Non-Null Count  Dtype  \n",
      "---  ------               --------------  -----  \n",
      " 0   CustomerID           52924 non-null  int64  \n",
      " 1   Transaction_ID       52924 non-null  int64  \n",
      " 2   Transaction_Date     52924 non-null  int64  \n",
      " 3   Date                 52924 non-null  object \n",
      " 4   Product_SKU          52924 non-null  object \n",
      " 5   Product_Description  52924 non-null  object \n",
      " 6   Product_Category     52924 non-null  object \n",
      " 7   Quantity             52924 non-null  int64  \n",
      " 8   Avg_Price            52924 non-null  float64\n",
      " 9   Delivery_Charges     52924 non-null  float64\n",
      " 10  Coupon_Status        52924 non-null  object \n",
      "dtypes: float64(2), int64(4), object(5)\n",
      "memory usage: 4.4+ MB\n"
     ]
    }
   ],
   "source": [
    "online_sales.info()"
   ]
  },
  {
   "cell_type": "code",
   "execution_count": 9,
   "id": "bbfb553e",
   "metadata": {
    "scrolled": false
   },
   "outputs": [
    {
     "name": "stdout",
     "output_type": "stream",
     "text": [
      "<class 'pandas.core.frame.DataFrame'>\n",
      "RangeIndex: 365 entries, 0 to 364\n",
      "Data columns (total 3 columns):\n",
      " #   Column         Non-Null Count  Dtype  \n",
      "---  ------         --------------  -----  \n",
      " 0   Date           365 non-null    object \n",
      " 1   Offline_Spend  365 non-null    int64  \n",
      " 2   Online_Spend   365 non-null    float64\n",
      "dtypes: float64(1), int64(1), object(1)\n",
      "memory usage: 8.7+ KB\n"
     ]
    }
   ],
   "source": [
    "marketing_spend.info()"
   ]
  },
  {
   "cell_type": "code",
   "execution_count": 10,
   "id": "fa04113b",
   "metadata": {},
   "outputs": [],
   "source": [
    "# Lets make dates a datetime variable\n",
    "marketing_spend[\"Date\"] = pd.to_datetime(marketing_spend[\"Date\"])"
   ]
  },
  {
   "cell_type": "code",
   "execution_count": 11,
   "id": "ed038b36",
   "metadata": {},
   "outputs": [],
   "source": [
    "marketing_spend[\"Month\"] = marketing_spend[\"Date\"].dt.month.apply(lambda x:calendar.month_abbr[x])"
   ]
  },
  {
   "cell_type": "code",
   "execution_count": 12,
   "id": "f415a7f3",
   "metadata": {},
   "outputs": [],
   "source": [
    "marketing_spend[\"Total_Spend\"] = marketing_spend.Offline_Spend+ marketing_spend.Online_Spend"
   ]
  },
  {
   "cell_type": "raw",
   "id": "52524f0d",
   "metadata": {},
   "source": []
  },
  {
   "cell_type": "code",
   "execution_count": 13,
   "id": "c128647d",
   "metadata": {},
   "outputs": [
    {
     "name": "stdout",
     "output_type": "stream",
     "text": [
      "<class 'pandas.core.frame.DataFrame'>\n",
      "RangeIndex: 204 entries, 0 to 203\n",
      "Data columns (total 4 columns):\n",
      " #   Column             Non-Null Count  Dtype \n",
      "---  ------             --------------  ----- \n",
      " 0   Month              204 non-null    object\n",
      " 1   Product_Category   204 non-null    object\n",
      " 2   Coupon_Code        204 non-null    object\n",
      " 3   Discount_pct       204 non-null    int64 \n",
      "dtypes: int64(1), object(3)\n",
      "memory usage: 6.5+ KB\n"
     ]
    }
   ],
   "source": [
    "disc_coupon.info()"
   ]
  },
  {
   "cell_type": "code",
   "execution_count": 14,
   "id": "562800ed",
   "metadata": {},
   "outputs": [
    {
     "name": "stdout",
     "output_type": "stream",
     "text": [
      "<class 'pandas.core.frame.DataFrame'>\n",
      "RangeIndex: 20 entries, 0 to 19\n",
      "Data columns (total 2 columns):\n",
      " #   Column            Non-Null Count  Dtype  \n",
      "---  ------            --------------  -----  \n",
      " 0   Product_Category  20 non-null     object \n",
      " 1   GST               20 non-null     float64\n",
      "dtypes: float64(1), object(1)\n",
      "memory usage: 448.0+ bytes\n"
     ]
    }
   ],
   "source": [
    "tax_amount.info()"
   ]
  },
  {
   "cell_type": "code",
   "execution_count": 15,
   "id": "5ef76de7",
   "metadata": {},
   "outputs": [],
   "source": [
    "# Are the unique customer ID Equal"
   ]
  },
  {
   "cell_type": "code",
   "execution_count": 16,
   "id": "6981e5c7",
   "metadata": {},
   "outputs": [
    {
     "data": {
      "text/plain": [
       "(1468,)"
      ]
     },
     "execution_count": 16,
     "metadata": {},
     "output_type": "execute_result"
    }
   ],
   "source": [
    "online_sales.CustomerID.unique().shape"
   ]
  },
  {
   "cell_type": "code",
   "execution_count": 17,
   "id": "6b9dc384",
   "metadata": {},
   "outputs": [
    {
     "data": {
      "text/plain": [
       "1468"
      ]
     },
     "execution_count": 17,
     "metadata": {},
     "output_type": "execute_result"
    }
   ],
   "source": [
    "customer_data.CustomerID.count()"
   ]
  },
  {
   "cell_type": "markdown",
   "id": "f96cbf80",
   "metadata": {},
   "source": [
    "# Data Preparation"
   ]
  },
  {
   "cell_type": "markdown",
   "id": "75615daf",
   "metadata": {},
   "source": [
    "## Joining the customer info and the online sales info in a new dataframe"
   ]
  },
  {
   "cell_type": "code",
   "execution_count": 18,
   "id": "bcf0d367",
   "metadata": {},
   "outputs": [],
   "source": [
    "sales_customer  = pd.merge(online_sales.set_index(\"CustomerID\"),customer_data.set_index(\"CustomerID\"),left_index=True,right_index=True).reset_index()\n"
   ]
  },
  {
   "cell_type": "code",
   "execution_count": 19,
   "id": "b4763884",
   "metadata": {},
   "outputs": [
    {
     "data": {
      "text/plain": [
       "Index(['CustomerID', 'Transaction_ID', 'Transaction_Date', 'Date',\n",
       "       'Product_SKU', 'Product_Description', 'Product_Category', 'Quantity',\n",
       "       'Avg_Price', 'Delivery_Charges', 'Coupon_Status', 'Gender', 'Location',\n",
       "       'Tenure_Months'],\n",
       "      dtype='object')"
      ]
     },
     "execution_count": 19,
     "metadata": {},
     "output_type": "execute_result"
    }
   ],
   "source": [
    "sales_customer.columns"
   ]
  },
  {
   "cell_type": "code",
   "execution_count": 20,
   "id": "01bdece1",
   "metadata": {},
   "outputs": [],
   "source": [
    "sales_customer = sales_customer[['CustomerID','Gender', 'Location',\n",
    "       'Tenure_Months', 'Transaction_ID', 'Transaction_Date',\"Date\",\n",
    "       'Product_SKU', 'Product_Description', 'Product_Category', 'Quantity',\n",
    "       'Avg_Price', 'Delivery_Charges', 'Coupon_Status']]"
   ]
  },
  {
   "cell_type": "code",
   "execution_count": 21,
   "id": "3b3d7f83",
   "metadata": {},
   "outputs": [],
   "source": [
    "sales_customer.Transaction_Date = pd.to_datetime(sales_customer.Date)"
   ]
  },
  {
   "cell_type": "markdown",
   "id": "ea4d82b2",
   "metadata": {},
   "source": [
    "## Adding Dicount Coupon info"
   ]
  },
  {
   "cell_type": "code",
   "execution_count": 22,
   "id": "561e7b83",
   "metadata": {},
   "outputs": [],
   "source": [
    "# There is a space Product_Category column name\n",
    "disc_coupon.columns = ['Month', 'Product_Category', 'Coupon_Code', 'Discount_pct']"
   ]
  },
  {
   "cell_type": "code",
   "execution_count": 23,
   "id": "0510d371",
   "metadata": {},
   "outputs": [],
   "source": [
    "# Making a Month Column"
   ]
  },
  {
   "cell_type": "code",
   "execution_count": 24,
   "id": "cc470d4d",
   "metadata": {},
   "outputs": [],
   "source": [
    "import calendar\n",
    "sales_customer[\"Month\"]=sales_customer.Transaction_Date.dt.month.apply(lambda x:calendar.month_abbr[x])"
   ]
  },
  {
   "cell_type": "code",
   "execution_count": 25,
   "id": "c1ea27ca",
   "metadata": {},
   "outputs": [],
   "source": [
    "sales_customer.drop(\"Date\",axis=1,inplace=True)"
   ]
  },
  {
   "cell_type": "code",
   "execution_count": 26,
   "id": "81120c45",
   "metadata": {},
   "outputs": [],
   "source": [
    "sales_customer = pd.merge(sales_customer,disc_coupon,on=[\"Month\",\"Product_Category\"],how=\"left\")"
   ]
  },
  {
   "cell_type": "code",
   "execution_count": 27,
   "id": "34b355ab",
   "metadata": {},
   "outputs": [],
   "source": [
    "# Now we have added the necessory discount column in our data frame to to EDA"
   ]
  },
  {
   "cell_type": "markdown",
   "id": "cbd79157",
   "metadata": {},
   "source": [
    "## Adding Tax Info"
   ]
  },
  {
   "cell_type": "code",
   "execution_count": 28,
   "id": "f711e42f",
   "metadata": {},
   "outputs": [],
   "source": [
    "sales_customer = pd.merge(sales_customer,tax_amount,on=\"Product_Category\",how=\"left\")"
   ]
  },
  {
   "cell_type": "code",
   "execution_count": 29,
   "id": "2c906c42",
   "metadata": {
    "scrolled": true
   },
   "outputs": [],
   "source": [
    "sales_customer.to_csv(\"check.csv\")"
   ]
  },
  {
   "cell_type": "code",
   "execution_count": 30,
   "id": "ecfe9d1b",
   "metadata": {},
   "outputs": [],
   "source": [
    "final_df = sales_customer.copy()"
   ]
  },
  {
   "cell_type": "code",
   "execution_count": 31,
   "id": "8f61e304",
   "metadata": {},
   "outputs": [
    {
     "name": "stdout",
     "output_type": "stream",
     "text": [
      "<class 'pandas.core.frame.DataFrame'>\n",
      "Int64Index: 52924 entries, 0 to 52923\n",
      "Data columns (total 17 columns):\n",
      " #   Column               Non-Null Count  Dtype         \n",
      "---  ------               --------------  -----         \n",
      " 0   CustomerID           52924 non-null  int64         \n",
      " 1   Gender               52924 non-null  object        \n",
      " 2   Location             52924 non-null  object        \n",
      " 3   Tenure_Months        52924 non-null  int64         \n",
      " 4   Transaction_ID       52924 non-null  int64         \n",
      " 5   Transaction_Date     52924 non-null  datetime64[ns]\n",
      " 6   Product_SKU          52924 non-null  object        \n",
      " 7   Product_Description  52924 non-null  object        \n",
      " 8   Product_Category     52924 non-null  object        \n",
      " 9   Quantity             52924 non-null  int64         \n",
      " 10  Avg_Price            52924 non-null  float64       \n",
      " 11  Delivery_Charges     52924 non-null  float64       \n",
      " 12  Coupon_Status        52924 non-null  object        \n",
      " 13  Month                52924 non-null  object        \n",
      " 14  Coupon_Code          52524 non-null  object        \n",
      " 15  Discount_pct         52524 non-null  float64       \n",
      " 16  GST                  52924 non-null  float64       \n",
      "dtypes: datetime64[ns](1), float64(4), int64(4), object(8)\n",
      "memory usage: 7.3+ MB\n"
     ]
    }
   ],
   "source": [
    "final_df.info()"
   ]
  },
  {
   "cell_type": "code",
   "execution_count": 32,
   "id": "a1cdab28",
   "metadata": {},
   "outputs": [
    {
     "data": {
      "text/plain": [
       "0        0.3\n",
       "1        0.3\n",
       "2        0.3\n",
       "3        0.3\n",
       "4        0.3\n",
       "        ... \n",
       "52919    0.1\n",
       "52920    0.1\n",
       "52921    0.1\n",
       "52922    0.1\n",
       "52923    0.1\n",
       "Name: Discount_pct, Length: 52924, dtype: float64"
      ]
     },
     "execution_count": 32,
     "metadata": {},
     "output_type": "execute_result"
    }
   ],
   "source": [
    "final_df.Discount_pct = final_df.Discount_pct/100\n",
    "final_df.Discount_pct"
   ]
  },
  {
   "cell_type": "code",
   "execution_count": 33,
   "id": "98b462c8",
   "metadata": {},
   "outputs": [],
   "source": [
    "# First lets fill nan with 0 to make calculations possible\n",
    "# Where there is no discount is given \n",
    "final_df.fillna(0,inplace=True)"
   ]
  },
  {
   "cell_type": "code",
   "execution_count": 34,
   "id": "3e080771",
   "metadata": {},
   "outputs": [],
   "source": [
    "## Adding Invoice Value"
   ]
  },
  {
   "cell_type": "code",
   "execution_count": 35,
   "id": "81f400e7",
   "metadata": {},
   "outputs": [],
   "source": [
    "## We can encode coupon status to be 0 for not used and clicked and 1 for used \n",
    "# It will also make calculations easy \n",
    "# just multiply with the coupon status encoded column to add or not add the discount percentage"
   ]
  },
  {
   "cell_type": "markdown",
   "id": "96820d38",
   "metadata": {},
   "source": [
    "### I have taken clicked to be such that it was not applied on the transaction"
   ]
  },
  {
   "cell_type": "code",
   "execution_count": 36,
   "id": "8539ccd8",
   "metadata": {},
   "outputs": [
    {
     "data": {
      "text/plain": [
       "array(['Used', 'Clicked', 'Not Used'], dtype=object)"
      ]
     },
     "execution_count": 36,
     "metadata": {},
     "output_type": "execute_result"
    }
   ],
   "source": [
    "final_df.Coupon_Status.unique()"
   ]
  },
  {
   "cell_type": "code",
   "execution_count": 37,
   "id": "6627dfa6",
   "metadata": {},
   "outputs": [],
   "source": [
    "final_df[\"Invoice_Value\"] = (final_df.Quantity*final_df.Avg_Price)*(1-final_df.Discount_pct*final_df.Coupon_Status.replace(['Used', 'Clicked','Not Used'],[1,0,0]))*(1+final_df.GST)+final_df.Delivery_Charges"
   ]
  },
  {
   "cell_type": "code",
   "execution_count": 38,
   "id": "fa1234b9",
   "metadata": {},
   "outputs": [],
   "source": [
    "final_df.to_csv(\"Final_DF.csv\")"
   ]
  },
  {
   "cell_type": "markdown",
   "id": "b1be816a",
   "metadata": {},
   "source": [
    "# EDA"
   ]
  },
  {
   "cell_type": "code",
   "execution_count": 39,
   "id": "ac371389",
   "metadata": {
    "scrolled": true
   },
   "outputs": [
    {
     "data": {
      "image/png": "[encoded data removed]",
      "text/plain": [
       "<Figure size 1080x360 with 1 Axes>"
      ]
     },
     "metadata": {},
     "output_type": "display_data"
    }
   ],
   "source": [
    "plt.figure(figsize=(15,5))\n",
    "sns.boxplot(y = final_df.groupby(\"CustomerID\")[\"Invoice_Value\"].sum(),x=final_df.Location)\n",
    "plt.ylim(0,20000)\n",
    "plt.xticks(rotation=90)\n",
    "plt.show()"
   ]
  },
  {
   "cell_type": "code",
   "execution_count": 40,
   "id": "eb0facb5",
   "metadata": {
    "scrolled": false
   },
   "outputs": [
    {
     "data": {
      "image/png": "[encoded data removed]",
      "text/plain": [
       "<Figure size 1080x360 with 1 Axes>"
      ]
     },
     "metadata": {},
     "output_type": "display_data"
    }
   ],
   "source": [
    "plt.figure(figsize=(15,5))\n",
    "sns.boxplot(y = final_df.groupby(\"CustomerID\")[\"Invoice_Value\"].sum(),x=final_df.Product_Category)\n",
    "plt.ylim(0,20000)\n",
    "plt.xticks(rotation=90)\n",
    "plt.show()"
   ]
  },
  {
   "cell_type": "code",
   "execution_count": 41,
   "id": "7219bf1f",
   "metadata": {},
   "outputs": [
    {
     "data": {
      "text/html": [
       "<div>\n",
       "<style scoped>\n",
       "    .dataframe tbody tr th:only-of-type {\n",
       "        vertical-align: middle;\n",
       "    }\n",
       "\n",
       "    .dataframe tbody tr th {\n",
       "        vertical-align: top;\n",
       "    }\n",
       "\n",
       "    .dataframe thead th {\n",
       "        text-align: right;\n",
       "    }\n",
       "</style>\n",
       "<table border=\"1\" class=\"dataframe\">\n",
       "  <thead>\n",
       "    <tr style=\"text-align: right;\">\n",
       "      <th></th>\n",
       "      <th>CustomerID</th>\n",
       "      <th>Tenure_Months</th>\n",
       "      <th>Transaction_ID</th>\n",
       "      <th>Quantity</th>\n",
       "      <th>Avg_Price</th>\n",
       "      <th>Delivery_Charges</th>\n",
       "      <th>Discount_pct</th>\n",
       "      <th>GST</th>\n",
       "      <th>Invoice_Value</th>\n",
       "    </tr>\n",
       "  </thead>\n",
       "  <tbody>\n",
       "    <tr>\n",
       "      <th>count</th>\n",
       "      <td>52924.00000</td>\n",
       "      <td>52924.000000</td>\n",
       "      <td>52924.000000</td>\n",
       "      <td>52924.000000</td>\n",
       "      <td>52924.000000</td>\n",
       "      <td>52924.000000</td>\n",
       "      <td>52924.000000</td>\n",
       "      <td>52924.000000</td>\n",
       "      <td>52924.000000</td>\n",
       "    </tr>\n",
       "    <tr>\n",
       "      <th>mean</th>\n",
       "      <td>15346.70981</td>\n",
       "      <td>26.127995</td>\n",
       "      <td>32409.825675</td>\n",
       "      <td>4.497638</td>\n",
       "      <td>52.237646</td>\n",
       "      <td>10.517630</td>\n",
       "      <td>0.198024</td>\n",
       "      <td>0.137462</td>\n",
       "      <td>101.983198</td>\n",
       "    </tr>\n",
       "    <tr>\n",
       "      <th>std</th>\n",
       "      <td>1766.55602</td>\n",
       "      <td>13.478285</td>\n",
       "      <td>8648.668977</td>\n",
       "      <td>20.104711</td>\n",
       "      <td>64.006882</td>\n",
       "      <td>19.475613</td>\n",
       "      <td>0.082789</td>\n",
       "      <td>0.045825</td>\n",
       "      <td>172.365729</td>\n",
       "    </tr>\n",
       "    <tr>\n",
       "      <th>min</th>\n",
       "      <td>12346.00000</td>\n",
       "      <td>2.000000</td>\n",
       "      <td>16679.000000</td>\n",
       "      <td>1.000000</td>\n",
       "      <td>0.390000</td>\n",
       "      <td>0.000000</td>\n",
       "      <td>0.000000</td>\n",
       "      <td>0.050000</td>\n",
       "      <td>4.603500</td>\n",
       "    </tr>\n",
       "    <tr>\n",
       "      <th>25%</th>\n",
       "      <td>13869.00000</td>\n",
       "      <td>15.000000</td>\n",
       "      <td>25384.000000</td>\n",
       "      <td>1.000000</td>\n",
       "      <td>5.700000</td>\n",
       "      <td>6.000000</td>\n",
       "      <td>0.100000</td>\n",
       "      <td>0.100000</td>\n",
       "      <td>20.160000</td>\n",
       "    </tr>\n",
       "    <tr>\n",
       "      <th>50%</th>\n",
       "      <td>15311.00000</td>\n",
       "      <td>27.000000</td>\n",
       "      <td>32625.500000</td>\n",
       "      <td>1.000000</td>\n",
       "      <td>16.990000</td>\n",
       "      <td>6.000000</td>\n",
       "      <td>0.200000</td>\n",
       "      <td>0.180000</td>\n",
       "      <td>45.636200</td>\n",
       "    </tr>\n",
       "    <tr>\n",
       "      <th>75%</th>\n",
       "      <td>16996.25000</td>\n",
       "      <td>37.000000</td>\n",
       "      <td>39126.250000</td>\n",
       "      <td>2.000000</td>\n",
       "      <td>102.130000</td>\n",
       "      <td>6.500000</td>\n",
       "      <td>0.300000</td>\n",
       "      <td>0.180000</td>\n",
       "      <td>137.400000</td>\n",
       "    </tr>\n",
       "    <tr>\n",
       "      <th>max</th>\n",
       "      <td>18283.00000</td>\n",
       "      <td>50.000000</td>\n",
       "      <td>48497.000000</td>\n",
       "      <td>900.000000</td>\n",
       "      <td>355.740000</td>\n",
       "      <td>521.360000</td>\n",
       "      <td>0.300000</td>\n",
       "      <td>0.180000</td>\n",
       "      <td>8979.275000</td>\n",
       "    </tr>\n",
       "  </tbody>\n",
       "</table>\n",
       "</div>"
      ],
      "text/plain": [
       "        CustomerID  Tenure_Months  Transaction_ID      Quantity     Avg_Price  \\\n",
       "count  52924.00000   52924.000000    52924.000000  52924.000000  52924.000000   \n",
       "mean   15346.70981      26.127995    32409.825675      4.497638     52.237646   \n",
       "std     1766.55602      13.478285     8648.668977     20.104711     64.006882   \n",
       "min    12346.00000       2.000000    16679.000000      1.000000      0.390000   \n",
       "25%    13869.00000      15.000000    25384.000000      1.000000      5.700000   \n",
       "50%    15311.00000      27.000000    32625.500000      1.000000     16.990000   \n",
       "75%    16996.25000      37.000000    39126.250000      2.000000    102.130000   \n",
       "max    18283.00000      50.000000    48497.000000    900.000000    355.740000   \n",
       "\n",
       "       Delivery_Charges  Discount_pct           GST  Invoice_Value  \n",
       "count      52924.000000  52924.000000  52924.000000   52924.000000  \n",
       "mean          10.517630      0.198024      0.137462     101.983198  \n",
       "std           19.475613      0.082789      0.045825     172.365729  \n",
       "min            0.000000      0.000000      0.050000       4.603500  \n",
       "25%            6.000000      0.100000      0.100000      20.160000  \n",
       "50%            6.000000      0.200000      0.180000      45.636200  \n",
       "75%            6.500000      0.300000      0.180000     137.400000  \n",
       "max          521.360000      0.300000      0.180000    8979.275000  "
      ]
     },
     "execution_count": 41,
     "metadata": {},
     "output_type": "execute_result"
    }
   ],
   "source": [
    "final_df.describe()"
   ]
  },
  {
   "cell_type": "code",
   "execution_count": 42,
   "id": "ac605d1b",
   "metadata": {},
   "outputs": [],
   "source": [
    "### Best selling product is Nest Learning Thermostat 3rd Gen-USA - Stainless Steel. And it can be seen below"
   ]
  },
  {
   "cell_type": "code",
   "execution_count": 43,
   "id": "4d9466f6",
   "metadata": {
    "scrolled": true
   },
   "outputs": [
    {
     "data": {
      "text/html": [
       "<div>\n",
       "<style scoped>\n",
       "    .dataframe tbody tr th:only-of-type {\n",
       "        vertical-align: middle;\n",
       "    }\n",
       "\n",
       "    .dataframe tbody tr th {\n",
       "        vertical-align: top;\n",
       "    }\n",
       "\n",
       "    .dataframe thead th {\n",
       "        text-align: right;\n",
       "    }\n",
       "</style>\n",
       "<table border=\"1\" class=\"dataframe\">\n",
       "  <thead>\n",
       "    <tr style=\"text-align: right;\">\n",
       "      <th></th>\n",
       "      <th>Gender</th>\n",
       "      <th>Location</th>\n",
       "      <th>Product_SKU</th>\n",
       "      <th>Product_Description</th>\n",
       "      <th>Product_Category</th>\n",
       "      <th>Coupon_Status</th>\n",
       "      <th>Month</th>\n",
       "      <th>Coupon_Code</th>\n",
       "    </tr>\n",
       "  </thead>\n",
       "  <tbody>\n",
       "    <tr>\n",
       "      <th>count</th>\n",
       "      <td>52924</td>\n",
       "      <td>52924</td>\n",
       "      <td>52924</td>\n",
       "      <td>52924</td>\n",
       "      <td>52924</td>\n",
       "      <td>52924</td>\n",
       "      <td>52924</td>\n",
       "      <td>52924</td>\n",
       "    </tr>\n",
       "    <tr>\n",
       "      <th>unique</th>\n",
       "      <td>2</td>\n",
       "      <td>5</td>\n",
       "      <td>1145</td>\n",
       "      <td>404</td>\n",
       "      <td>20</td>\n",
       "      <td>3</td>\n",
       "      <td>12</td>\n",
       "      <td>46</td>\n",
       "    </tr>\n",
       "    <tr>\n",
       "      <th>top</th>\n",
       "      <td>F</td>\n",
       "      <td>Chicago</td>\n",
       "      <td>GGOENEBJ079499</td>\n",
       "      <td>Nest Learning Thermostat 3rd Gen-USA - Stainle...</td>\n",
       "      <td>Apparel</td>\n",
       "      <td>Clicked</td>\n",
       "      <td>Aug</td>\n",
       "      <td>SALE20</td>\n",
       "    </tr>\n",
       "    <tr>\n",
       "      <th>freq</th>\n",
       "      <td>33007</td>\n",
       "      <td>18380</td>\n",
       "      <td>3511</td>\n",
       "      <td>3511</td>\n",
       "      <td>18126</td>\n",
       "      <td>26926</td>\n",
       "      <td>6150</td>\n",
       "      <td>6373</td>\n",
       "    </tr>\n",
       "  </tbody>\n",
       "</table>\n",
       "</div>"
      ],
      "text/plain": [
       "       Gender Location     Product_SKU  \\\n",
       "count   52924    52924           52924   \n",
       "unique      2        5            1145   \n",
       "top         F  Chicago  GGOENEBJ079499   \n",
       "freq    33007    18380            3511   \n",
       "\n",
       "                                      Product_Description Product_Category  \\\n",
       "count                                               52924            52924   \n",
       "unique                                                404               20   \n",
       "top     Nest Learning Thermostat 3rd Gen-USA - Stainle...          Apparel   \n",
       "freq                                                 3511            18126   \n",
       "\n",
       "       Coupon_Status  Month Coupon_Code  \n",
       "count          52924  52924       52924  \n",
       "unique             3     12          46  \n",
       "top          Clicked    Aug      SALE20  \n",
       "freq           26926   6150        6373  "
      ]
     },
     "execution_count": 43,
     "metadata": {},
     "output_type": "execute_result"
    }
   ],
   "source": [
    "final_df.describe(include=\"object\")"
   ]
  },
  {
   "cell_type": "code",
   "execution_count": 44,
   "id": "13d0ccc0",
   "metadata": {},
   "outputs": [
    {
     "data": {
      "text/plain": [
       "Nest Learning Thermostat 3rd Gen-USA - Stainless Steel    3511\n",
       "Nest Cam Outdoor Security Camera - USA                    3328\n",
       "Nest Cam Indoor Security Camera - USA                     3230\n",
       "Google Sunglasses                                         1523\n",
       "Nest Protect Smoke + CO White Battery Alarm-USA           1361\n",
       "Name: Product_Description, dtype: int64"
      ]
     },
     "execution_count": 44,
     "metadata": {},
     "output_type": "execute_result"
    }
   ],
   "source": [
    "final_df.Product_Description.value_counts()[:5]"
   ]
  },
  {
   "cell_type": "markdown",
   "id": "0f879463",
   "metadata": {},
   "source": [
    "## Trend/Seasonality In Sales"
   ]
  },
  {
   "cell_type": "markdown",
   "id": "62c4203f",
   "metadata": {},
   "source": [
    "#### Invoice_Value_Each_Month"
   ]
  },
  {
   "cell_type": "code",
   "execution_count": 45,
   "id": "6bab6625",
   "metadata": {
    "scrolled": true
   },
   "outputs": [
    {
     "data": {
      "text/plain": [
       "Month\n",
       "Apr    477498.59102\n",
       "Aug    475796.87554\n",
       "Dec    556112.29179\n",
       "Feb    375162.04730\n",
       "Jan    494090.54875\n",
       "Jul    451878.40904\n",
       "Jun    361000.17429\n",
       "Mar    415157.79044\n",
       "May    365596.02956\n",
       "Nov    547788.12626\n",
       "Oct    480767.36981\n",
       "Sep    396510.49254\n",
       "Name: Invoice_Value, dtype: float64"
      ]
     },
     "execution_count": 45,
     "metadata": {},
     "output_type": "execute_result"
    }
   ],
   "source": [
    "final_df.groupby(\"Month\")[\"Invoice_Value\"].sum()"
   ]
  },
  {
   "cell_type": "code",
   "execution_count": 46,
   "id": "038e9667",
   "metadata": {},
   "outputs": [],
   "source": [
    "# It would be worth poltting these Sales in Comparision with the perticular month marketing spend"
   ]
  },
  {
   "cell_type": "code",
   "execution_count": 47,
   "id": "73fb40a6",
   "metadata": {
    "scrolled": true
   },
   "outputs": [
    {
     "data": {
      "image/png": "[encoded data removed]",
      "text/plain": [
       "<Figure size 1080x360 with 2 Axes>"
      ]
     },
     "metadata": {},
     "output_type": "display_data"
    }
   ],
   "source": [
    "fig,ax = plt.subplots(figsize=(15,5))\n",
    "ax2 = ax.twinx()\n",
    "\n",
    "bars = ax.bar([\"Jan\",\"Feb\",\"Mar\",\"Apr\",\"May\",\"Jun\",\"Jul\",\"Aug\",\"Sep\",\"Oct\",\"Nov\",\"Dec\"],final_df.groupby(\"Month\")[\"Invoice_Value\"].sum().loc[[\"Jan\",\"Feb\",\"Mar\",\"Apr\",\"May\",\"Jun\",\"Jul\",\"Aug\",\"Sep\"\n",
    "                                                                   ,\"Oct\",\"Nov\",\"Dec\"]],width=.9,color='lightslategrey')\n",
    "ax2.plot(marketing_spend.groupby(\"Month\").sum()[[\"Offline_Spend\"]].loc[[\"Jan\",\"Feb\",\"Mar\",\"Apr\",\"May\",\"Jun\",\"Jul\",\"Aug\",\"Sep\",\"Oct\",\"Nov\",\"Dec\"]],c=\"yellow\",label=\"Offline Spend\")\n",
    "ax2.plot(marketing_spend.groupby(\"Month\").sum()[[\"Online_Spend\"]].loc[[\"Jan\",\"Feb\",\"Mar\",\"Apr\",\"May\",\"Jun\",\"Jul\",\"Aug\",\"Sep\",\"Oct\",\"Nov\",\"Dec\"]],c=\"red\",label=\"Online Spend\")\n",
    "\n",
    "plt.legend()\n",
    "plt.show()\n",
    "#for bar in bars:\n",
    " #   plt.gca().text(bar.get_x() + bar.get_width()/2, bar.get_height()+10, str(int(bar.get_height())), \n",
    "  #               ha='center', color='black', fontsize=11)\n",
    "    \n",
    "#plt.tick_params(top=False,left=False,bottom=False,right=False,labelleft=False,labelbottom=\"on\")"
   ]
  },
  {
   "cell_type": "code",
   "execution_count": 48,
   "id": "76ea9ebb",
   "metadata": {
    "scrolled": true
   },
   "outputs": [
    {
     "data": {
      "image/png": "[encoded data removed]",
      "text/plain": [
       "<Figure size 1080x360 with 2 Axes>"
      ]
     },
     "metadata": {},
     "output_type": "display_data"
    }
   ],
   "source": [
    "fig,ax = plt.subplots(figsize=(15,5))\n",
    "ax2 = ax.twinx()\n",
    "\n",
    "bars = ax.bar([\"Jan\",\"Feb\",\"Mar\",\"Apr\",\"May\",\"Jun\",\"Jul\",\"Aug\",\"Sep\",\"Oct\",\"Nov\",\"Dec\"],final_df.groupby(\"Month\")[\"Invoice_Value\"].sum().loc[[\"Jan\",\"Feb\",\"Mar\",\"Apr\",\"May\",\"Jun\",\"Jul\",\"Aug\",\"Sep\"\n",
    "                                                                   ,\"Oct\",\"Nov\",\"Dec\"]],width=.9,color='lightslategrey')\n",
    "ax2.plot(marketing_spend.groupby(\"Month\").sum()[[\"Total_Spend\"]].loc[[\"Jan\",\"Feb\",\"Mar\",\"Apr\",\"May\",\"Jun\",\"Jul\",\"Aug\",\"Sep\",\"Oct\",\"Nov\",\"Dec\"]],c=\"yellow\",label=\"Total Spend\")\n",
    "\n",
    "\n",
    "plt.legend()\n",
    "plt.show()\n",
    "#for bar in bars:\n",
    " #   plt.gca().text(bar.get_x() + bar.get_width()/2, bar.get_height()+10, str(int(bar.get_height())), \n",
    "  #               ha='center', color='black', fontsize=11)\n",
    "    \n",
    "#plt.tick_params(top=False,left=False,bottom=False,right=False,labelleft=False,labelbottom=\"on\")"
   ]
  },
  {
   "cell_type": "code",
   "execution_count": null,
   "id": "04debacc",
   "metadata": {},
   "outputs": [],
   "source": []
  },
  {
   "cell_type": "code",
   "execution_count": null,
   "id": "afefce73",
   "metadata": {},
   "outputs": [],
   "source": []
  },
  {
   "cell_type": "code",
   "execution_count": null,
   "id": "dec4fb87",
   "metadata": {},
   "outputs": [],
   "source": []
  },
  {
   "cell_type": "code",
   "execution_count": null,
   "id": "65f0ddaa",
   "metadata": {},
   "outputs": [],
   "source": []
  },
  {
   "cell_type": "markdown",
   "id": "7576719c",
   "metadata": {},
   "source": [
    "## Cohort Analysis"
   ]
  },
  {
   "cell_type": "code",
   "execution_count": 49,
   "id": "1b60053e",
   "metadata": {},
   "outputs": [],
   "source": [
    "# We have to find customers that are new in each month\n",
    "# It means that there should be no transection befor that month for that customer"
   ]
  },
  {
   "cell_type": "markdown",
   "id": "fa58dd9a",
   "metadata": {},
   "source": [
    "### DataFrame to work with cohort analysis"
   ]
  },
  {
   "cell_type": "markdown",
   "id": "870aafff",
   "metadata": {},
   "source": [
    "‘CohortMonth’ is the time when the customers made their first purchase"
   ]
  },
  {
   "cell_type": "markdown",
   "id": "10e0dec4",
   "metadata": {},
   "source": [
    " ‘CohortIndex’ is the column where we get the difference between the first purchase and all the purchases that the customer made later."
   ]
  },
  {
   "cell_type": "markdown",
   "id": "9dee8512",
   "metadata": {},
   "source": [
    "‘groupby’ the customers by ‘CohortMonth’ and ‘CohortIndex’ so that we can identify the customers who came to purchase in the same month with the same interval"
   ]
  },
  {
   "cell_type": "code",
   "execution_count": 50,
   "id": "5ed51716",
   "metadata": {},
   "outputs": [],
   "source": [
    "cohort_df = final_df.copy()"
   ]
  },
  {
   "cell_type": "code",
   "execution_count": 51,
   "id": "86c02e6d",
   "metadata": {},
   "outputs": [],
   "source": [
    "cohort_df[\"Cohort_Date\"] = cohort_df.groupby(\"CustomerID\")[\"Transaction_Date\"].transform(min)"
   ]
  },
  {
   "cell_type": "code",
   "execution_count": 52,
   "id": "2c2864fc",
   "metadata": {},
   "outputs": [],
   "source": [
    "cohort_df[\"Cohort_Month\"] = cohort_df[\"Cohort_Date\"].dt.month"
   ]
  },
  {
   "cell_type": "code",
   "execution_count": 53,
   "id": "a146fe98",
   "metadata": {},
   "outputs": [],
   "source": [
    "def get_date_int(df, column):\n",
    "    year = df[column].dt.year\n",
    "    month = df[column].dt.month\n",
    "    date = df[column].dt.date\n",
    "    return year, month, date\n",
    "\n",
    "Invoice_Year, Invoice_Month, _ = get_date_int(cohort_df, 'Transaction_Date')\n",
    "Cohort_Year, Cohort_Month , _ = get_date_int(cohort_df, 'Cohort_Date')\n",
    "\n",
    "Year_Diff = Invoice_Year - Cohort_Year\n",
    "Month_Diff = Invoice_Month - Cohort_Month\n",
    "\n",
    "cohort_df['Cohort_Index'] = Year_Diff*12 + Month_Diff +1"
   ]
  },
  {
   "cell_type": "code",
   "execution_count": 54,
   "id": "6a0d6243",
   "metadata": {},
   "outputs": [
    {
     "data": {
      "text/html": [
       "<div>\n",
       "<style scoped>\n",
       "    .dataframe tbody tr th:only-of-type {\n",
       "        vertical-align: middle;\n",
       "    }\n",
       "\n",
       "    .dataframe tbody tr th {\n",
       "        vertical-align: top;\n",
       "    }\n",
       "\n",
       "    .dataframe thead th {\n",
       "        text-align: right;\n",
       "    }\n",
       "</style>\n",
       "<table border=\"1\" class=\"dataframe\">\n",
       "  <thead>\n",
       "    <tr style=\"text-align: right;\">\n",
       "      <th></th>\n",
       "      <th>CustomerID</th>\n",
       "      <th>Gender</th>\n",
       "      <th>Location</th>\n",
       "      <th>Tenure_Months</th>\n",
       "      <th>Transaction_ID</th>\n",
       "      <th>Transaction_Date</th>\n",
       "      <th>Product_SKU</th>\n",
       "      <th>Product_Description</th>\n",
       "      <th>Product_Category</th>\n",
       "      <th>Quantity</th>\n",
       "      <th>Avg_Price</th>\n",
       "      <th>Delivery_Charges</th>\n",
       "      <th>Coupon_Status</th>\n",
       "      <th>Month</th>\n",
       "      <th>Coupon_Code</th>\n",
       "      <th>Discount_pct</th>\n",
       "      <th>GST</th>\n",
       "      <th>Invoice_Value</th>\n",
       "      <th>Cohort_Date</th>\n",
       "      <th>Cohort_Index</th>\n",
       "    </tr>\n",
       "    <tr>\n",
       "      <th>Cohort_Month</th>\n",
       "      <th></th>\n",
       "      <th></th>\n",
       "      <th></th>\n",
       "      <th></th>\n",
       "      <th></th>\n",
       "      <th></th>\n",
       "      <th></th>\n",
       "      <th></th>\n",
       "      <th></th>\n",
       "      <th></th>\n",
       "      <th></th>\n",
       "      <th></th>\n",
       "      <th></th>\n",
       "      <th></th>\n",
       "      <th></th>\n",
       "      <th></th>\n",
       "      <th></th>\n",
       "      <th></th>\n",
       "      <th></th>\n",
       "      <th></th>\n",
       "    </tr>\n",
       "  </thead>\n",
       "  <tbody>\n",
       "    <tr>\n",
       "      <th>1</th>\n",
       "      <td>10938</td>\n",
       "      <td>10938</td>\n",
       "      <td>10938</td>\n",
       "      <td>10938</td>\n",
       "      <td>10938</td>\n",
       "      <td>10938</td>\n",
       "      <td>10938</td>\n",
       "      <td>10938</td>\n",
       "      <td>10938</td>\n",
       "      <td>10938</td>\n",
       "      <td>10938</td>\n",
       "      <td>10938</td>\n",
       "      <td>10938</td>\n",
       "      <td>10938</td>\n",
       "      <td>10938</td>\n",
       "      <td>10938</td>\n",
       "      <td>10938</td>\n",
       "      <td>10938</td>\n",
       "      <td>10938</td>\n",
       "      <td>10938</td>\n",
       "    </tr>\n",
       "    <tr>\n",
       "      <th>2</th>\n",
       "      <td>6214</td>\n",
       "      <td>6214</td>\n",
       "      <td>6214</td>\n",
       "      <td>6214</td>\n",
       "      <td>6214</td>\n",
       "      <td>6214</td>\n",
       "      <td>6214</td>\n",
       "      <td>6214</td>\n",
       "      <td>6214</td>\n",
       "      <td>6214</td>\n",
       "      <td>6214</td>\n",
       "      <td>6214</td>\n",
       "      <td>6214</td>\n",
       "      <td>6214</td>\n",
       "      <td>6214</td>\n",
       "      <td>6214</td>\n",
       "      <td>6214</td>\n",
       "      <td>6214</td>\n",
       "      <td>6214</td>\n",
       "      <td>6214</td>\n",
       "    </tr>\n",
       "    <tr>\n",
       "      <th>3</th>\n",
       "      <td>7669</td>\n",
       "      <td>7669</td>\n",
       "      <td>7669</td>\n",
       "      <td>7669</td>\n",
       "      <td>7669</td>\n",
       "      <td>7669</td>\n",
       "      <td>7669</td>\n",
       "      <td>7669</td>\n",
       "      <td>7669</td>\n",
       "      <td>7669</td>\n",
       "      <td>7669</td>\n",
       "      <td>7669</td>\n",
       "      <td>7669</td>\n",
       "      <td>7669</td>\n",
       "      <td>7669</td>\n",
       "      <td>7669</td>\n",
       "      <td>7669</td>\n",
       "      <td>7669</td>\n",
       "      <td>7669</td>\n",
       "      <td>7669</td>\n",
       "    </tr>\n",
       "    <tr>\n",
       "      <th>4</th>\n",
       "      <td>5015</td>\n",
       "      <td>5015</td>\n",
       "      <td>5015</td>\n",
       "      <td>5015</td>\n",
       "      <td>5015</td>\n",
       "      <td>5015</td>\n",
       "      <td>5015</td>\n",
       "      <td>5015</td>\n",
       "      <td>5015</td>\n",
       "      <td>5015</td>\n",
       "      <td>5015</td>\n",
       "      <td>5015</td>\n",
       "      <td>5015</td>\n",
       "      <td>5015</td>\n",
       "      <td>5015</td>\n",
       "      <td>5015</td>\n",
       "      <td>5015</td>\n",
       "      <td>5015</td>\n",
       "      <td>5015</td>\n",
       "      <td>5015</td>\n",
       "    </tr>\n",
       "    <tr>\n",
       "      <th>5</th>\n",
       "      <td>4539</td>\n",
       "      <td>4539</td>\n",
       "      <td>4539</td>\n",
       "      <td>4539</td>\n",
       "      <td>4539</td>\n",
       "      <td>4539</td>\n",
       "      <td>4539</td>\n",
       "      <td>4539</td>\n",
       "      <td>4539</td>\n",
       "      <td>4539</td>\n",
       "      <td>4539</td>\n",
       "      <td>4539</td>\n",
       "      <td>4539</td>\n",
       "      <td>4539</td>\n",
       "      <td>4539</td>\n",
       "      <td>4539</td>\n",
       "      <td>4539</td>\n",
       "      <td>4539</td>\n",
       "      <td>4539</td>\n",
       "      <td>4539</td>\n",
       "    </tr>\n",
       "    <tr>\n",
       "      <th>6</th>\n",
       "      <td>3754</td>\n",
       "      <td>3754</td>\n",
       "      <td>3754</td>\n",
       "      <td>3754</td>\n",
       "      <td>3754</td>\n",
       "      <td>3754</td>\n",
       "      <td>3754</td>\n",
       "      <td>3754</td>\n",
       "      <td>3754</td>\n",
       "      <td>3754</td>\n",
       "      <td>3754</td>\n",
       "      <td>3754</td>\n",
       "      <td>3754</td>\n",
       "      <td>3754</td>\n",
       "      <td>3754</td>\n",
       "      <td>3754</td>\n",
       "      <td>3754</td>\n",
       "      <td>3754</td>\n",
       "      <td>3754</td>\n",
       "      <td>3754</td>\n",
       "    </tr>\n",
       "    <tr>\n",
       "      <th>7</th>\n",
       "      <td>2984</td>\n",
       "      <td>2984</td>\n",
       "      <td>2984</td>\n",
       "      <td>2984</td>\n",
       "      <td>2984</td>\n",
       "      <td>2984</td>\n",
       "      <td>2984</td>\n",
       "      <td>2984</td>\n",
       "      <td>2984</td>\n",
       "      <td>2984</td>\n",
       "      <td>2984</td>\n",
       "      <td>2984</td>\n",
       "      <td>2984</td>\n",
       "      <td>2984</td>\n",
       "      <td>2984</td>\n",
       "      <td>2984</td>\n",
       "      <td>2984</td>\n",
       "      <td>2984</td>\n",
       "      <td>2984</td>\n",
       "      <td>2984</td>\n",
       "    </tr>\n",
       "    <tr>\n",
       "      <th>8</th>\n",
       "      <td>3691</td>\n",
       "      <td>3691</td>\n",
       "      <td>3691</td>\n",
       "      <td>3691</td>\n",
       "      <td>3691</td>\n",
       "      <td>3691</td>\n",
       "      <td>3691</td>\n",
       "      <td>3691</td>\n",
       "      <td>3691</td>\n",
       "      <td>3691</td>\n",
       "      <td>3691</td>\n",
       "      <td>3691</td>\n",
       "      <td>3691</td>\n",
       "      <td>3691</td>\n",
       "      <td>3691</td>\n",
       "      <td>3691</td>\n",
       "      <td>3691</td>\n",
       "      <td>3691</td>\n",
       "      <td>3691</td>\n",
       "      <td>3691</td>\n",
       "    </tr>\n",
       "    <tr>\n",
       "      <th>9</th>\n",
       "      <td>1893</td>\n",
       "      <td>1893</td>\n",
       "      <td>1893</td>\n",
       "      <td>1893</td>\n",
       "      <td>1893</td>\n",
       "      <td>1893</td>\n",
       "      <td>1893</td>\n",
       "      <td>1893</td>\n",
       "      <td>1893</td>\n",
       "      <td>1893</td>\n",
       "      <td>1893</td>\n",
       "      <td>1893</td>\n",
       "      <td>1893</td>\n",
       "      <td>1893</td>\n",
       "      <td>1893</td>\n",
       "      <td>1893</td>\n",
       "      <td>1893</td>\n",
       "      <td>1893</td>\n",
       "      <td>1893</td>\n",
       "      <td>1893</td>\n",
       "    </tr>\n",
       "    <tr>\n",
       "      <th>10</th>\n",
       "      <td>2226</td>\n",
       "      <td>2226</td>\n",
       "      <td>2226</td>\n",
       "      <td>2226</td>\n",
       "      <td>2226</td>\n",
       "      <td>2226</td>\n",
       "      <td>2226</td>\n",
       "      <td>2226</td>\n",
       "      <td>2226</td>\n",
       "      <td>2226</td>\n",
       "      <td>2226</td>\n",
       "      <td>2226</td>\n",
       "      <td>2226</td>\n",
       "      <td>2226</td>\n",
       "      <td>2226</td>\n",
       "      <td>2226</td>\n",
       "      <td>2226</td>\n",
       "      <td>2226</td>\n",
       "      <td>2226</td>\n",
       "      <td>2226</td>\n",
       "    </tr>\n",
       "    <tr>\n",
       "      <th>11</th>\n",
       "      <td>1820</td>\n",
       "      <td>1820</td>\n",
       "      <td>1820</td>\n",
       "      <td>1820</td>\n",
       "      <td>1820</td>\n",
       "      <td>1820</td>\n",
       "      <td>1820</td>\n",
       "      <td>1820</td>\n",
       "      <td>1820</td>\n",
       "      <td>1820</td>\n",
       "      <td>1820</td>\n",
       "      <td>1820</td>\n",
       "      <td>1820</td>\n",
       "      <td>1820</td>\n",
       "      <td>1820</td>\n",
       "      <td>1820</td>\n",
       "      <td>1820</td>\n",
       "      <td>1820</td>\n",
       "      <td>1820</td>\n",
       "      <td>1820</td>\n",
       "    </tr>\n",
       "    <tr>\n",
       "      <th>12</th>\n",
       "      <td>2181</td>\n",
       "      <td>2181</td>\n",
       "      <td>2181</td>\n",
       "      <td>2181</td>\n",
       "      <td>2181</td>\n",
       "      <td>2181</td>\n",
       "      <td>2181</td>\n",
       "      <td>2181</td>\n",
       "      <td>2181</td>\n",
       "      <td>2181</td>\n",
       "      <td>2181</td>\n",
       "      <td>2181</td>\n",
       "      <td>2181</td>\n",
       "      <td>2181</td>\n",
       "      <td>2181</td>\n",
       "      <td>2181</td>\n",
       "      <td>2181</td>\n",
       "      <td>2181</td>\n",
       "      <td>2181</td>\n",
       "      <td>2181</td>\n",
       "    </tr>\n",
       "  </tbody>\n",
       "</table>\n",
       "</div>"
      ],
      "text/plain": [
       "              CustomerID  Gender  Location  Tenure_Months  Transaction_ID  \\\n",
       "Cohort_Month                                                                \n",
       "1                  10938   10938     10938          10938           10938   \n",
       "2                   6214    6214      6214           6214            6214   \n",
       "3                   7669    7669      7669           7669            7669   \n",
       "4                   5015    5015      5015           5015            5015   \n",
       "5                   4539    4539      4539           4539            4539   \n",
       "6                   3754    3754      3754           3754            3754   \n",
       "7                   2984    2984      2984           2984            2984   \n",
       "8                   3691    3691      3691           3691            3691   \n",
       "9                   1893    1893      1893           1893            1893   \n",
       "10                  2226    2226      2226           2226            2226   \n",
       "11                  1820    1820      1820           1820            1820   \n",
       "12                  2181    2181      2181           2181            2181   \n",
       "\n",
       "              Transaction_Date  Product_SKU  Product_Description  \\\n",
       "Cohort_Month                                                       \n",
       "1                        10938        10938                10938   \n",
       "2                         6214         6214                 6214   \n",
       "3                         7669         7669                 7669   \n",
       "4                         5015         5015                 5015   \n",
       "5                         4539         4539                 4539   \n",
       "6                         3754         3754                 3754   \n",
       "7                         2984         2984                 2984   \n",
       "8                         3691         3691                 3691   \n",
       "9                         1893         1893                 1893   \n",
       "10                        2226         2226                 2226   \n",
       "11                        1820         1820                 1820   \n",
       "12                        2181         2181                 2181   \n",
       "\n",
       "              Product_Category  Quantity  Avg_Price  Delivery_Charges  \\\n",
       "Cohort_Month                                                            \n",
       "1                        10938     10938      10938             10938   \n",
       "2                         6214      6214       6214              6214   \n",
       "3                         7669      7669       7669              7669   \n",
       "4                         5015      5015       5015              5015   \n",
       "5                         4539      4539       4539              4539   \n",
       "6                         3754      3754       3754              3754   \n",
       "7                         2984      2984       2984              2984   \n",
       "8                         3691      3691       3691              3691   \n",
       "9                         1893      1893       1893              1893   \n",
       "10                        2226      2226       2226              2226   \n",
       "11                        1820      1820       1820              1820   \n",
       "12                        2181      2181       2181              2181   \n",
       "\n",
       "              Coupon_Status  Month  Coupon_Code  Discount_pct    GST  \\\n",
       "Cohort_Month                                                           \n",
       "1                     10938  10938        10938         10938  10938   \n",
       "2                      6214   6214         6214          6214   6214   \n",
       "3                      7669   7669         7669          7669   7669   \n",
       "4                      5015   5015         5015          5015   5015   \n",
       "5                      4539   4539         4539          4539   4539   \n",
       "6                      3754   3754         3754          3754   3754   \n",
       "7                      2984   2984         2984          2984   2984   \n",
       "8                      3691   3691         3691          3691   3691   \n",
       "9                      1893   1893         1893          1893   1893   \n",
       "10                     2226   2226         2226          2226   2226   \n",
       "11                     1820   1820         1820          1820   1820   \n",
       "12                     2181   2181         2181          2181   2181   \n",
       "\n",
       "              Invoice_Value  Cohort_Date  Cohort_Index  \n",
       "Cohort_Month                                            \n",
       "1                     10938        10938         10938  \n",
       "2                      6214         6214          6214  \n",
       "3                      7669         7669          7669  \n",
       "4                      5015         5015          5015  \n",
       "5                      4539         4539          4539  \n",
       "6                      3754         3754          3754  \n",
       "7                      2984         2984          2984  \n",
       "8                      3691         3691          3691  \n",
       "9                      1893         1893          1893  \n",
       "10                     2226         2226          2226  \n",
       "11                     1820         1820          1820  \n",
       "12                     2181         2181          2181  "
      ]
     },
     "execution_count": 54,
     "metadata": {},
     "output_type": "execute_result"
    }
   ],
   "source": [
    "cohort_df.groupby(\"Cohort_Month\").count()"
   ]
  },
  {
   "cell_type": "code",
   "execution_count": 55,
   "id": "9aa6e979",
   "metadata": {},
   "outputs": [],
   "source": [
    "cohort_monthwise = cohort_df.pivot_table(values=\"CustomerID\",index=\"Cohort_Month\",columns=\"Cohort_Index\",aggfunc=pd.Series.nunique)"
   ]
  },
  {
   "cell_type": "code",
   "execution_count": 56,
   "id": "e286744b",
   "metadata": {},
   "outputs": [
    {
     "data": {
      "text/plain": [
       "Cohort_Index\n",
       "1     0.398148\n",
       "2     0.024074\n",
       "3     0.044444\n",
       "4     0.062963\n",
       "5     0.042593\n",
       "6     0.081481\n",
       "7     0.064815\n",
       "8     0.087037\n",
       "9     0.042593\n",
       "10    0.051852\n",
       "11    0.037037\n",
       "12    0.062963\n",
       "Name: 1, dtype: float64"
      ]
     },
     "execution_count": 56,
     "metadata": {},
     "output_type": "execute_result"
    }
   ],
   "source": [
    "cohort_monthwise.iloc[0]/cohort_monthwise.iloc[0].sum()"
   ]
  },
  {
   "cell_type": "code",
   "execution_count": 57,
   "id": "437100d3",
   "metadata": {},
   "outputs": [
    {
     "name": "stderr",
     "output_type": "stream",
     "text": [
      "<ipython-input-57-fb70fb3287be>:1: DeprecationWarning: The default dtype for empty Series will be 'object' instead of 'float64' in a future version. Specify a dtype explicitly to silence this warning.\n",
      "  cohort_monthwise[\"Total\"] = pd.Series()\n"
     ]
    }
   ],
   "source": [
    "cohort_monthwise[\"Total\"] = pd.Series()"
   ]
  },
  {
   "cell_type": "code",
   "execution_count": 58,
   "id": "8c850835",
   "metadata": {},
   "outputs": [],
   "source": [
    "for i in range(12):\n",
    "    cohort_monthwise[\"Total\"].iloc[i]= cohort_monthwise.iloc[i].sum()"
   ]
  },
  {
   "cell_type": "code",
   "execution_count": 59,
   "id": "cf6911c0",
   "metadata": {},
   "outputs": [
    {
     "data": {
      "text/html": [
       "<div>\n",
       "<style scoped>\n",
       "    .dataframe tbody tr th:only-of-type {\n",
       "        vertical-align: middle;\n",
       "    }\n",
       "\n",
       "    .dataframe tbody tr th {\n",
       "        vertical-align: top;\n",
       "    }\n",
       "\n",
       "    .dataframe thead th {\n",
       "        text-align: right;\n",
       "    }\n",
       "</style>\n",
       "<table border=\"1\" class=\"dataframe\">\n",
       "  <thead>\n",
       "    <tr style=\"text-align: right;\">\n",
       "      <th>Cohort_Index</th>\n",
       "      <th>1</th>\n",
       "      <th>2</th>\n",
       "      <th>3</th>\n",
       "      <th>4</th>\n",
       "      <th>5</th>\n",
       "      <th>6</th>\n",
       "      <th>7</th>\n",
       "      <th>8</th>\n",
       "      <th>9</th>\n",
       "      <th>10</th>\n",
       "      <th>11</th>\n",
       "      <th>12</th>\n",
       "      <th>Total</th>\n",
       "    </tr>\n",
       "    <tr>\n",
       "      <th>Cohort_Month</th>\n",
       "      <th></th>\n",
       "      <th></th>\n",
       "      <th></th>\n",
       "      <th></th>\n",
       "      <th></th>\n",
       "      <th></th>\n",
       "      <th></th>\n",
       "      <th></th>\n",
       "      <th></th>\n",
       "      <th></th>\n",
       "      <th></th>\n",
       "      <th></th>\n",
       "      <th></th>\n",
       "    </tr>\n",
       "  </thead>\n",
       "  <tbody>\n",
       "    <tr>\n",
       "      <th>1</th>\n",
       "      <td>215.0</td>\n",
       "      <td>13.0</td>\n",
       "      <td>24.0</td>\n",
       "      <td>34.0</td>\n",
       "      <td>23.0</td>\n",
       "      <td>44.0</td>\n",
       "      <td>35.0</td>\n",
       "      <td>47.0</td>\n",
       "      <td>23.0</td>\n",
       "      <td>28.0</td>\n",
       "      <td>20.0</td>\n",
       "      <td>34.0</td>\n",
       "      <td>540.0</td>\n",
       "    </tr>\n",
       "    <tr>\n",
       "      <th>2</th>\n",
       "      <td>96.0</td>\n",
       "      <td>7.0</td>\n",
       "      <td>9.0</td>\n",
       "      <td>16.0</td>\n",
       "      <td>17.0</td>\n",
       "      <td>22.0</td>\n",
       "      <td>19.0</td>\n",
       "      <td>15.0</td>\n",
       "      <td>12.0</td>\n",
       "      <td>11.0</td>\n",
       "      <td>16.0</td>\n",
       "      <td>NaN</td>\n",
       "      <td>240.0</td>\n",
       "    </tr>\n",
       "    <tr>\n",
       "      <th>3</th>\n",
       "      <td>177.0</td>\n",
       "      <td>18.0</td>\n",
       "      <td>35.0</td>\n",
       "      <td>25.0</td>\n",
       "      <td>32.0</td>\n",
       "      <td>33.0</td>\n",
       "      <td>22.0</td>\n",
       "      <td>22.0</td>\n",
       "      <td>15.0</td>\n",
       "      <td>19.0</td>\n",
       "      <td>NaN</td>\n",
       "      <td>NaN</td>\n",
       "      <td>398.0</td>\n",
       "    </tr>\n",
       "    <tr>\n",
       "      <th>4</th>\n",
       "      <td>163.0</td>\n",
       "      <td>14.0</td>\n",
       "      <td>24.0</td>\n",
       "      <td>24.0</td>\n",
       "      <td>18.0</td>\n",
       "      <td>15.0</td>\n",
       "      <td>10.0</td>\n",
       "      <td>16.0</td>\n",
       "      <td>12.0</td>\n",
       "      <td>NaN</td>\n",
       "      <td>NaN</td>\n",
       "      <td>NaN</td>\n",
       "      <td>296.0</td>\n",
       "    </tr>\n",
       "    <tr>\n",
       "      <th>5</th>\n",
       "      <td>112.0</td>\n",
       "      <td>12.0</td>\n",
       "      <td>9.0</td>\n",
       "      <td>13.0</td>\n",
       "      <td>10.0</td>\n",
       "      <td>13.0</td>\n",
       "      <td>14.0</td>\n",
       "      <td>8.0</td>\n",
       "      <td>NaN</td>\n",
       "      <td>NaN</td>\n",
       "      <td>NaN</td>\n",
       "      <td>NaN</td>\n",
       "      <td>191.0</td>\n",
       "    </tr>\n",
       "    <tr>\n",
       "      <th>6</th>\n",
       "      <td>137.0</td>\n",
       "      <td>20.0</td>\n",
       "      <td>22.0</td>\n",
       "      <td>12.0</td>\n",
       "      <td>11.0</td>\n",
       "      <td>14.0</td>\n",
       "      <td>11.0</td>\n",
       "      <td>NaN</td>\n",
       "      <td>NaN</td>\n",
       "      <td>NaN</td>\n",
       "      <td>NaN</td>\n",
       "      <td>NaN</td>\n",
       "      <td>227.0</td>\n",
       "    </tr>\n",
       "    <tr>\n",
       "      <th>7</th>\n",
       "      <td>94.0</td>\n",
       "      <td>13.0</td>\n",
       "      <td>4.0</td>\n",
       "      <td>6.0</td>\n",
       "      <td>11.0</td>\n",
       "      <td>9.0</td>\n",
       "      <td>NaN</td>\n",
       "      <td>NaN</td>\n",
       "      <td>NaN</td>\n",
       "      <td>NaN</td>\n",
       "      <td>NaN</td>\n",
       "      <td>NaN</td>\n",
       "      <td>137.0</td>\n",
       "    </tr>\n",
       "    <tr>\n",
       "      <th>8</th>\n",
       "      <td>135.0</td>\n",
       "      <td>14.0</td>\n",
       "      <td>15.0</td>\n",
       "      <td>10.0</td>\n",
       "      <td>8.0</td>\n",
       "      <td>NaN</td>\n",
       "      <td>NaN</td>\n",
       "      <td>NaN</td>\n",
       "      <td>NaN</td>\n",
       "      <td>NaN</td>\n",
       "      <td>NaN</td>\n",
       "      <td>NaN</td>\n",
       "      <td>182.0</td>\n",
       "    </tr>\n",
       "    <tr>\n",
       "      <th>9</th>\n",
       "      <td>78.0</td>\n",
       "      <td>6.0</td>\n",
       "      <td>3.0</td>\n",
       "      <td>2.0</td>\n",
       "      <td>NaN</td>\n",
       "      <td>NaN</td>\n",
       "      <td>NaN</td>\n",
       "      <td>NaN</td>\n",
       "      <td>NaN</td>\n",
       "      <td>NaN</td>\n",
       "      <td>NaN</td>\n",
       "      <td>NaN</td>\n",
       "      <td>89.0</td>\n",
       "    </tr>\n",
       "    <tr>\n",
       "      <th>10</th>\n",
       "      <td>87.0</td>\n",
       "      <td>6.0</td>\n",
       "      <td>4.0</td>\n",
       "      <td>NaN</td>\n",
       "      <td>NaN</td>\n",
       "      <td>NaN</td>\n",
       "      <td>NaN</td>\n",
       "      <td>NaN</td>\n",
       "      <td>NaN</td>\n",
       "      <td>NaN</td>\n",
       "      <td>NaN</td>\n",
       "      <td>NaN</td>\n",
       "      <td>97.0</td>\n",
       "    </tr>\n",
       "    <tr>\n",
       "      <th>11</th>\n",
       "      <td>68.0</td>\n",
       "      <td>7.0</td>\n",
       "      <td>NaN</td>\n",
       "      <td>NaN</td>\n",
       "      <td>NaN</td>\n",
       "      <td>NaN</td>\n",
       "      <td>NaN</td>\n",
       "      <td>NaN</td>\n",
       "      <td>NaN</td>\n",
       "      <td>NaN</td>\n",
       "      <td>NaN</td>\n",
       "      <td>NaN</td>\n",
       "      <td>75.0</td>\n",
       "    </tr>\n",
       "    <tr>\n",
       "      <th>12</th>\n",
       "      <td>106.0</td>\n",
       "      <td>NaN</td>\n",
       "      <td>NaN</td>\n",
       "      <td>NaN</td>\n",
       "      <td>NaN</td>\n",
       "      <td>NaN</td>\n",
       "      <td>NaN</td>\n",
       "      <td>NaN</td>\n",
       "      <td>NaN</td>\n",
       "      <td>NaN</td>\n",
       "      <td>NaN</td>\n",
       "      <td>NaN</td>\n",
       "      <td>106.0</td>\n",
       "    </tr>\n",
       "  </tbody>\n",
       "</table>\n",
       "</div>"
      ],
      "text/plain": [
       "Cohort_Index      1     2     3     4     5     6     7     8     9    10  \\\n",
       "Cohort_Month                                                                \n",
       "1             215.0  13.0  24.0  34.0  23.0  44.0  35.0  47.0  23.0  28.0   \n",
       "2              96.0   7.0   9.0  16.0  17.0  22.0  19.0  15.0  12.0  11.0   \n",
       "3             177.0  18.0  35.0  25.0  32.0  33.0  22.0  22.0  15.0  19.0   \n",
       "4             163.0  14.0  24.0  24.0  18.0  15.0  10.0  16.0  12.0   NaN   \n",
       "5             112.0  12.0   9.0  13.0  10.0  13.0  14.0   8.0   NaN   NaN   \n",
       "6             137.0  20.0  22.0  12.0  11.0  14.0  11.0   NaN   NaN   NaN   \n",
       "7              94.0  13.0   4.0   6.0  11.0   9.0   NaN   NaN   NaN   NaN   \n",
       "8             135.0  14.0  15.0  10.0   8.0   NaN   NaN   NaN   NaN   NaN   \n",
       "9              78.0   6.0   3.0   2.0   NaN   NaN   NaN   NaN   NaN   NaN   \n",
       "10             87.0   6.0   4.0   NaN   NaN   NaN   NaN   NaN   NaN   NaN   \n",
       "11             68.0   7.0   NaN   NaN   NaN   NaN   NaN   NaN   NaN   NaN   \n",
       "12            106.0   NaN   NaN   NaN   NaN   NaN   NaN   NaN   NaN   NaN   \n",
       "\n",
       "Cohort_Index    11    12  Total  \n",
       "Cohort_Month                     \n",
       "1             20.0  34.0  540.0  \n",
       "2             16.0   NaN  240.0  \n",
       "3              NaN   NaN  398.0  \n",
       "4              NaN   NaN  296.0  \n",
       "5              NaN   NaN  191.0  \n",
       "6              NaN   NaN  227.0  \n",
       "7              NaN   NaN  137.0  \n",
       "8              NaN   NaN  182.0  \n",
       "9              NaN   NaN   89.0  \n",
       "10             NaN   NaN   97.0  \n",
       "11             NaN   NaN   75.0  \n",
       "12             NaN   NaN  106.0  "
      ]
     },
     "execution_count": 59,
     "metadata": {},
     "output_type": "execute_result"
    }
   ],
   "source": [
    "cohort_monthwise"
   ]
  },
  {
   "cell_type": "code",
   "execution_count": 60,
   "id": "8e68d213",
   "metadata": {},
   "outputs": [
    {
     "data": {
      "image/png": "[encoded data removed]",
      "text/plain": [
       "<Figure size 1080x360 with 2 Axes>"
      ]
     },
     "metadata": {},
     "output_type": "display_data"
    }
   ],
   "source": [
    "plt.figure(figsize=(15,5))\n",
    "plt.title(\"Retention Rate\")\n",
    "sns.heatmap(data=cohort_monthwise,\n",
    "           annot=True,\n",
    "           cmap=\"BuGn\"\n",
    "           )\n",
    "plt.show()"
   ]
  },
  {
   "cell_type": "markdown",
   "id": "0b357d1f",
   "metadata": {},
   "source": [
    "### Customers Added Each Month"
   ]
  },
  {
   "cell_type": "code",
   "execution_count": 61,
   "id": "d855a71b",
   "metadata": {},
   "outputs": [],
   "source": [
    "customers_every_month = cohort_monthwise[\"Total\"]"
   ]
  },
  {
   "cell_type": "code",
   "execution_count": 62,
   "id": "20c31316",
   "metadata": {},
   "outputs": [
    {
     "data": {
      "image/png": "[encoded data removed]",
      "text/plain": [
       "<Figure size 1080x360 with 1 Axes>"
      ]
     },
     "metadata": {},
     "output_type": "display_data"
    }
   ],
   "source": [
    "plt.figure(figsize=(15,5))\n",
    "bars = plt.bar([\"jan\",\"feb\",\"mar\",\"apr\",\"may\",\"jun\",\"jul\",\"aug\",\"sep\",\"oct\",\"nov\",\"dec\"],customers_every_month,color=\"lightslategray\")\n",
    "for bar in bars:\n",
    "    plt.gca().text(bar.get_x() + bar.get_width()/2, bar.get_height()+10, str(int(bar.get_height())), \n",
    "                 ha='center', color='black', fontsize=11)\n",
    "    \n",
    "plt.tick_params(top=False,left=False,bottom=False,right=False,labelleft=False,labelbottom=\"on\")"
   ]
  },
  {
   "cell_type": "markdown",
   "id": "49708ffd",
   "metadata": {},
   "source": [
    "### Cohort"
   ]
  },
  {
   "cell_type": "code",
   "execution_count": 63,
   "id": "266478c8",
   "metadata": {},
   "outputs": [],
   "source": [
    "for i in range(12):\n",
    "    cohort_monthwise.iloc[i] = cohort_monthwise.iloc[i]/cohort_monthwise.iloc[i,:-1].sum()"
   ]
  },
  {
   "cell_type": "code",
   "execution_count": 64,
   "id": "316574a2",
   "metadata": {},
   "outputs": [
    {
     "data": {
      "text/html": [
       "<div>\n",
       "<style scoped>\n",
       "    .dataframe tbody tr th:only-of-type {\n",
       "        vertical-align: middle;\n",
       "    }\n",
       "\n",
       "    .dataframe tbody tr th {\n",
       "        vertical-align: top;\n",
       "    }\n",
       "\n",
       "    .dataframe thead th {\n",
       "        text-align: right;\n",
       "    }\n",
       "</style>\n",
       "<table border=\"1\" class=\"dataframe\">\n",
       "  <thead>\n",
       "    <tr style=\"text-align: right;\">\n",
       "      <th>Cohort_Index</th>\n",
       "      <th>1</th>\n",
       "      <th>2</th>\n",
       "      <th>3</th>\n",
       "      <th>4</th>\n",
       "      <th>5</th>\n",
       "      <th>6</th>\n",
       "      <th>7</th>\n",
       "      <th>8</th>\n",
       "      <th>9</th>\n",
       "      <th>10</th>\n",
       "      <th>11</th>\n",
       "      <th>12</th>\n",
       "      <th>Total</th>\n",
       "    </tr>\n",
       "    <tr>\n",
       "      <th>Cohort_Month</th>\n",
       "      <th></th>\n",
       "      <th></th>\n",
       "      <th></th>\n",
       "      <th></th>\n",
       "      <th></th>\n",
       "      <th></th>\n",
       "      <th></th>\n",
       "      <th></th>\n",
       "      <th></th>\n",
       "      <th></th>\n",
       "      <th></th>\n",
       "      <th></th>\n",
       "      <th></th>\n",
       "    </tr>\n",
       "  </thead>\n",
       "  <tbody>\n",
       "    <tr>\n",
       "      <th>1</th>\n",
       "      <td>0.398148</td>\n",
       "      <td>0.024074</td>\n",
       "      <td>0.044444</td>\n",
       "      <td>0.062963</td>\n",
       "      <td>0.042593</td>\n",
       "      <td>0.081481</td>\n",
       "      <td>0.064815</td>\n",
       "      <td>0.087037</td>\n",
       "      <td>0.042593</td>\n",
       "      <td>0.051852</td>\n",
       "      <td>0.037037</td>\n",
       "      <td>0.062963</td>\n",
       "      <td>1.0</td>\n",
       "    </tr>\n",
       "    <tr>\n",
       "      <th>2</th>\n",
       "      <td>0.400000</td>\n",
       "      <td>0.029167</td>\n",
       "      <td>0.037500</td>\n",
       "      <td>0.066667</td>\n",
       "      <td>0.070833</td>\n",
       "      <td>0.091667</td>\n",
       "      <td>0.079167</td>\n",
       "      <td>0.062500</td>\n",
       "      <td>0.050000</td>\n",
       "      <td>0.045833</td>\n",
       "      <td>0.066667</td>\n",
       "      <td>NaN</td>\n",
       "      <td>1.0</td>\n",
       "    </tr>\n",
       "    <tr>\n",
       "      <th>3</th>\n",
       "      <td>0.444724</td>\n",
       "      <td>0.045226</td>\n",
       "      <td>0.087940</td>\n",
       "      <td>0.062814</td>\n",
       "      <td>0.080402</td>\n",
       "      <td>0.082915</td>\n",
       "      <td>0.055276</td>\n",
       "      <td>0.055276</td>\n",
       "      <td>0.037688</td>\n",
       "      <td>0.047739</td>\n",
       "      <td>NaN</td>\n",
       "      <td>NaN</td>\n",
       "      <td>1.0</td>\n",
       "    </tr>\n",
       "    <tr>\n",
       "      <th>4</th>\n",
       "      <td>0.550676</td>\n",
       "      <td>0.047297</td>\n",
       "      <td>0.081081</td>\n",
       "      <td>0.081081</td>\n",
       "      <td>0.060811</td>\n",
       "      <td>0.050676</td>\n",
       "      <td>0.033784</td>\n",
       "      <td>0.054054</td>\n",
       "      <td>0.040541</td>\n",
       "      <td>NaN</td>\n",
       "      <td>NaN</td>\n",
       "      <td>NaN</td>\n",
       "      <td>1.0</td>\n",
       "    </tr>\n",
       "    <tr>\n",
       "      <th>5</th>\n",
       "      <td>0.586387</td>\n",
       "      <td>0.062827</td>\n",
       "      <td>0.047120</td>\n",
       "      <td>0.068063</td>\n",
       "      <td>0.052356</td>\n",
       "      <td>0.068063</td>\n",
       "      <td>0.073298</td>\n",
       "      <td>0.041885</td>\n",
       "      <td>NaN</td>\n",
       "      <td>NaN</td>\n",
       "      <td>NaN</td>\n",
       "      <td>NaN</td>\n",
       "      <td>1.0</td>\n",
       "    </tr>\n",
       "    <tr>\n",
       "      <th>6</th>\n",
       "      <td>0.603524</td>\n",
       "      <td>0.088106</td>\n",
       "      <td>0.096916</td>\n",
       "      <td>0.052863</td>\n",
       "      <td>0.048458</td>\n",
       "      <td>0.061674</td>\n",
       "      <td>0.048458</td>\n",
       "      <td>NaN</td>\n",
       "      <td>NaN</td>\n",
       "      <td>NaN</td>\n",
       "      <td>NaN</td>\n",
       "      <td>NaN</td>\n",
       "      <td>1.0</td>\n",
       "    </tr>\n",
       "    <tr>\n",
       "      <th>7</th>\n",
       "      <td>0.686131</td>\n",
       "      <td>0.094891</td>\n",
       "      <td>0.029197</td>\n",
       "      <td>0.043796</td>\n",
       "      <td>0.080292</td>\n",
       "      <td>0.065693</td>\n",
       "      <td>NaN</td>\n",
       "      <td>NaN</td>\n",
       "      <td>NaN</td>\n",
       "      <td>NaN</td>\n",
       "      <td>NaN</td>\n",
       "      <td>NaN</td>\n",
       "      <td>1.0</td>\n",
       "    </tr>\n",
       "    <tr>\n",
       "      <th>8</th>\n",
       "      <td>0.741758</td>\n",
       "      <td>0.076923</td>\n",
       "      <td>0.082418</td>\n",
       "      <td>0.054945</td>\n",
       "      <td>0.043956</td>\n",
       "      <td>NaN</td>\n",
       "      <td>NaN</td>\n",
       "      <td>NaN</td>\n",
       "      <td>NaN</td>\n",
       "      <td>NaN</td>\n",
       "      <td>NaN</td>\n",
       "      <td>NaN</td>\n",
       "      <td>1.0</td>\n",
       "    </tr>\n",
       "    <tr>\n",
       "      <th>9</th>\n",
       "      <td>0.876404</td>\n",
       "      <td>0.067416</td>\n",
       "      <td>0.033708</td>\n",
       "      <td>0.022472</td>\n",
       "      <td>NaN</td>\n",
       "      <td>NaN</td>\n",
       "      <td>NaN</td>\n",
       "      <td>NaN</td>\n",
       "      <td>NaN</td>\n",
       "      <td>NaN</td>\n",
       "      <td>NaN</td>\n",
       "      <td>NaN</td>\n",
       "      <td>1.0</td>\n",
       "    </tr>\n",
       "    <tr>\n",
       "      <th>10</th>\n",
       "      <td>0.896907</td>\n",
       "      <td>0.061856</td>\n",
       "      <td>0.041237</td>\n",
       "      <td>NaN</td>\n",
       "      <td>NaN</td>\n",
       "      <td>NaN</td>\n",
       "      <td>NaN</td>\n",
       "      <td>NaN</td>\n",
       "      <td>NaN</td>\n",
       "      <td>NaN</td>\n",
       "      <td>NaN</td>\n",
       "      <td>NaN</td>\n",
       "      <td>1.0</td>\n",
       "    </tr>\n",
       "    <tr>\n",
       "      <th>11</th>\n",
       "      <td>0.906667</td>\n",
       "      <td>0.093333</td>\n",
       "      <td>NaN</td>\n",
       "      <td>NaN</td>\n",
       "      <td>NaN</td>\n",
       "      <td>NaN</td>\n",
       "      <td>NaN</td>\n",
       "      <td>NaN</td>\n",
       "      <td>NaN</td>\n",
       "      <td>NaN</td>\n",
       "      <td>NaN</td>\n",
       "      <td>NaN</td>\n",
       "      <td>1.0</td>\n",
       "    </tr>\n",
       "    <tr>\n",
       "      <th>12</th>\n",
       "      <td>1.000000</td>\n",
       "      <td>NaN</td>\n",
       "      <td>NaN</td>\n",
       "      <td>NaN</td>\n",
       "      <td>NaN</td>\n",
       "      <td>NaN</td>\n",
       "      <td>NaN</td>\n",
       "      <td>NaN</td>\n",
       "      <td>NaN</td>\n",
       "      <td>NaN</td>\n",
       "      <td>NaN</td>\n",
       "      <td>NaN</td>\n",
       "      <td>1.0</td>\n",
       "    </tr>\n",
       "  </tbody>\n",
       "</table>\n",
       "</div>"
      ],
      "text/plain": [
       "Cohort_Index         1         2         3         4         5         6  \\\n",
       "Cohort_Month                                                               \n",
       "1             0.398148  0.024074  0.044444  0.062963  0.042593  0.081481   \n",
       "2             0.400000  0.029167  0.037500  0.066667  0.070833  0.091667   \n",
       "3             0.444724  0.045226  0.087940  0.062814  0.080402  0.082915   \n",
       "4             0.550676  0.047297  0.081081  0.081081  0.060811  0.050676   \n",
       "5             0.586387  0.062827  0.047120  0.068063  0.052356  0.068063   \n",
       "6             0.603524  0.088106  0.096916  0.052863  0.048458  0.061674   \n",
       "7             0.686131  0.094891  0.029197  0.043796  0.080292  0.065693   \n",
       "8             0.741758  0.076923  0.082418  0.054945  0.043956       NaN   \n",
       "9             0.876404  0.067416  0.033708  0.022472       NaN       NaN   \n",
       "10            0.896907  0.061856  0.041237       NaN       NaN       NaN   \n",
       "11            0.906667  0.093333       NaN       NaN       NaN       NaN   \n",
       "12            1.000000       NaN       NaN       NaN       NaN       NaN   \n",
       "\n",
       "Cohort_Index         7         8         9        10        11        12  \\\n",
       "Cohort_Month                                                               \n",
       "1             0.064815  0.087037  0.042593  0.051852  0.037037  0.062963   \n",
       "2             0.079167  0.062500  0.050000  0.045833  0.066667       NaN   \n",
       "3             0.055276  0.055276  0.037688  0.047739       NaN       NaN   \n",
       "4             0.033784  0.054054  0.040541       NaN       NaN       NaN   \n",
       "5             0.073298  0.041885       NaN       NaN       NaN       NaN   \n",
       "6             0.048458       NaN       NaN       NaN       NaN       NaN   \n",
       "7                  NaN       NaN       NaN       NaN       NaN       NaN   \n",
       "8                  NaN       NaN       NaN       NaN       NaN       NaN   \n",
       "9                  NaN       NaN       NaN       NaN       NaN       NaN   \n",
       "10                 NaN       NaN       NaN       NaN       NaN       NaN   \n",
       "11                 NaN       NaN       NaN       NaN       NaN       NaN   \n",
       "12                 NaN       NaN       NaN       NaN       NaN       NaN   \n",
       "\n",
       "Cohort_Index  Total  \n",
       "Cohort_Month         \n",
       "1               1.0  \n",
       "2               1.0  \n",
       "3               1.0  \n",
       "4               1.0  \n",
       "5               1.0  \n",
       "6               1.0  \n",
       "7               1.0  \n",
       "8               1.0  \n",
       "9               1.0  \n",
       "10              1.0  \n",
       "11              1.0  \n",
       "12              1.0  "
      ]
     },
     "execution_count": 64,
     "metadata": {},
     "output_type": "execute_result"
    }
   ],
   "source": [
    "cohort_monthwise"
   ]
  },
  {
   "cell_type": "code",
   "execution_count": 65,
   "id": "4899d7cd",
   "metadata": {},
   "outputs": [],
   "source": [
    "cohort_monthwise = cohort_monthwise.round(2)*100"
   ]
  },
  {
   "cell_type": "code",
   "execution_count": 66,
   "id": "33c1a3d5",
   "metadata": {},
   "outputs": [
    {
     "data": {
      "image/png": "[encoded data removed]",
      "text/plain": [
       "<Figure size 1080x360 with 2 Axes>"
      ]
     },
     "metadata": {},
     "output_type": "display_data"
    }
   ],
   "source": [
    "plt.figure(figsize=(15,5))\n",
    "plt.title(\"Retention Rate\")\n",
    "sns.heatmap(data=cohort_monthwise,\n",
    "           annot=True,\n",
    "           cmap=\"BuGn\"\n",
    "           )\n",
    "plt.show()"
   ]
  },
  {
   "cell_type": "code",
   "execution_count": null,
   "id": "61b82c87",
   "metadata": {},
   "outputs": [],
   "source": []
  },
  {
   "cell_type": "markdown",
   "id": "45197634",
   "metadata": {},
   "source": [
    "# Segmentation"
   ]
  },
  {
   "cell_type": "markdown",
   "id": "050119df",
   "metadata": {},
   "source": [
    "## RFM"
   ]
  },
  {
   "cell_type": "markdown",
   "id": "625acde8",
   "metadata": {},
   "source": [
    "### Data Preparation"
   ]
  },
  {
   "cell_type": "code",
   "execution_count": 67,
   "id": "2fbf99e6",
   "metadata": {},
   "outputs": [
    {
     "data": {
      "text/html": [
       "<div>\n",
       "<style scoped>\n",
       "    .dataframe tbody tr th:only-of-type {\n",
       "        vertical-align: middle;\n",
       "    }\n",
       "\n",
       "    .dataframe tbody tr th {\n",
       "        vertical-align: top;\n",
       "    }\n",
       "\n",
       "    .dataframe thead th {\n",
       "        text-align: right;\n",
       "    }\n",
       "</style>\n",
       "<table border=\"1\" class=\"dataframe\">\n",
       "  <thead>\n",
       "    <tr style=\"text-align: right;\">\n",
       "      <th></th>\n",
       "      <th>CustomerID</th>\n",
       "      <th>Gender</th>\n",
       "      <th>Location</th>\n",
       "      <th>Tenure_Months</th>\n",
       "      <th>Transaction_ID</th>\n",
       "      <th>Transaction_Date</th>\n",
       "      <th>Product_SKU</th>\n",
       "      <th>Product_Description</th>\n",
       "      <th>Product_Category</th>\n",
       "      <th>Quantity</th>\n",
       "      <th>Avg_Price</th>\n",
       "      <th>Delivery_Charges</th>\n",
       "      <th>Coupon_Status</th>\n",
       "      <th>Month</th>\n",
       "      <th>Coupon_Code</th>\n",
       "      <th>Discount_pct</th>\n",
       "      <th>GST</th>\n",
       "      <th>Invoice_Value</th>\n",
       "    </tr>\n",
       "  </thead>\n",
       "  <tbody>\n",
       "    <tr>\n",
       "      <th>0</th>\n",
       "      <td>12346</td>\n",
       "      <td>F</td>\n",
       "      <td>New York</td>\n",
       "      <td>31</td>\n",
       "      <td>38223</td>\n",
       "      <td>2019-09-15</td>\n",
       "      <td>GGOEAAAJ080816</td>\n",
       "      <td>Android Men's Engineer Short Sleeve Tee Charcoal</td>\n",
       "      <td>Apparel</td>\n",
       "      <td>1</td>\n",
       "      <td>19.99</td>\n",
       "      <td>75.00</td>\n",
       "      <td>Used</td>\n",
       "      <td>Sep</td>\n",
       "      <td>SALE30</td>\n",
       "      <td>0.3</td>\n",
       "      <td>0.18</td>\n",
       "      <td>91.51174</td>\n",
       "    </tr>\n",
       "    <tr>\n",
       "      <th>1</th>\n",
       "      <td>12346</td>\n",
       "      <td>F</td>\n",
       "      <td>New York</td>\n",
       "      <td>31</td>\n",
       "      <td>38223</td>\n",
       "      <td>2019-09-15</td>\n",
       "      <td>GGOEGOAR013099</td>\n",
       "      <td>Google Stylus Pen w/ LED Light</td>\n",
       "      <td>Office</td>\n",
       "      <td>2</td>\n",
       "      <td>5.50</td>\n",
       "      <td>75.00</td>\n",
       "      <td>Used</td>\n",
       "      <td>Sep</td>\n",
       "      <td>OFF30</td>\n",
       "      <td>0.3</td>\n",
       "      <td>0.10</td>\n",
       "      <td>83.47000</td>\n",
       "    </tr>\n",
       "    <tr>\n",
       "      <th>2</th>\n",
       "      <td>12347</td>\n",
       "      <td>M</td>\n",
       "      <td>New York</td>\n",
       "      <td>20</td>\n",
       "      <td>23979</td>\n",
       "      <td>2019-03-24</td>\n",
       "      <td>GGOEGOAQ020099</td>\n",
       "      <td>Four Color Retractable Pen</td>\n",
       "      <td>Office</td>\n",
       "      <td>1</td>\n",
       "      <td>2.99</td>\n",
       "      <td>14.41</td>\n",
       "      <td>Clicked</td>\n",
       "      <td>Mar</td>\n",
       "      <td>OFF30</td>\n",
       "      <td>0.3</td>\n",
       "      <td>0.10</td>\n",
       "      <td>17.69900</td>\n",
       "    </tr>\n",
       "    <tr>\n",
       "      <th>3</th>\n",
       "      <td>12347</td>\n",
       "      <td>M</td>\n",
       "      <td>New York</td>\n",
       "      <td>20</td>\n",
       "      <td>23979</td>\n",
       "      <td>2019-03-24</td>\n",
       "      <td>GGOEGOCT019199</td>\n",
       "      <td>Red Spiral Google Notebook</td>\n",
       "      <td>Office</td>\n",
       "      <td>1</td>\n",
       "      <td>9.99</td>\n",
       "      <td>14.41</td>\n",
       "      <td>Used</td>\n",
       "      <td>Mar</td>\n",
       "      <td>OFF30</td>\n",
       "      <td>0.3</td>\n",
       "      <td>0.10</td>\n",
       "      <td>22.10230</td>\n",
       "    </tr>\n",
       "    <tr>\n",
       "      <th>4</th>\n",
       "      <td>12347</td>\n",
       "      <td>M</td>\n",
       "      <td>New York</td>\n",
       "      <td>20</td>\n",
       "      <td>23980</td>\n",
       "      <td>2019-03-24</td>\n",
       "      <td>GGOENEBJ079499</td>\n",
       "      <td>Nest Learning Thermostat 3rd Gen-USA - Stainle...</td>\n",
       "      <td>Nest-USA</td>\n",
       "      <td>1</td>\n",
       "      <td>149.00</td>\n",
       "      <td>6.50</td>\n",
       "      <td>Used</td>\n",
       "      <td>Mar</td>\n",
       "      <td>ELEC30</td>\n",
       "      <td>0.3</td>\n",
       "      <td>0.10</td>\n",
       "      <td>121.23000</td>\n",
       "    </tr>\n",
       "  </tbody>\n",
       "</table>\n",
       "</div>"
      ],
      "text/plain": [
       "   CustomerID Gender  Location  Tenure_Months  Transaction_ID  \\\n",
       "0       12346      F  New York             31           38223   \n",
       "1       12346      F  New York             31           38223   \n",
       "2       12347      M  New York             20           23979   \n",
       "3       12347      M  New York             20           23979   \n",
       "4       12347      M  New York             20           23980   \n",
       "\n",
       "  Transaction_Date     Product_SKU  \\\n",
       "0       2019-09-15  GGOEAAAJ080816   \n",
       "1       2019-09-15  GGOEGOAR013099   \n",
       "2       2019-03-24  GGOEGOAQ020099   \n",
       "3       2019-03-24  GGOEGOCT019199   \n",
       "4       2019-03-24  GGOENEBJ079499   \n",
       "\n",
       "                                 Product_Description Product_Category  \\\n",
       "0   Android Men's Engineer Short Sleeve Tee Charcoal          Apparel   \n",
       "1                     Google Stylus Pen w/ LED Light           Office   \n",
       "2                         Four Color Retractable Pen           Office   \n",
       "3                         Red Spiral Google Notebook           Office   \n",
       "4  Nest Learning Thermostat 3rd Gen-USA - Stainle...         Nest-USA   \n",
       "\n",
       "   Quantity  Avg_Price  Delivery_Charges Coupon_Status Month Coupon_Code  \\\n",
       "0         1      19.99             75.00          Used   Sep      SALE30   \n",
       "1         2       5.50             75.00          Used   Sep       OFF30   \n",
       "2         1       2.99             14.41       Clicked   Mar       OFF30   \n",
       "3         1       9.99             14.41          Used   Mar       OFF30   \n",
       "4         1     149.00              6.50          Used   Mar      ELEC30   \n",
       "\n",
       "   Discount_pct   GST  Invoice_Value  \n",
       "0           0.3  0.18       91.51174  \n",
       "1           0.3  0.10       83.47000  \n",
       "2           0.3  0.10       17.69900  \n",
       "3           0.3  0.10       22.10230  \n",
       "4           0.3  0.10      121.23000  "
      ]
     },
     "execution_count": 67,
     "metadata": {},
     "output_type": "execute_result"
    }
   ],
   "source": [
    "final_df.head()"
   ]
  },
  {
   "cell_type": "code",
   "execution_count": 68,
   "id": "8d4dd76e",
   "metadata": {},
   "outputs": [],
   "source": [
    "monetary = final_df.groupby(\"CustomerID\")[\"Invoice_Value\"].sum()"
   ]
  },
  {
   "cell_type": "code",
   "execution_count": 69,
   "id": "e04e87f7",
   "metadata": {},
   "outputs": [],
   "source": [
    "frequency = final_df.CustomerID.value_counts()"
   ]
  },
  {
   "cell_type": "code",
   "execution_count": 70,
   "id": "48c4717a",
   "metadata": {},
   "outputs": [],
   "source": [
    "# For Recency we can use the last transection date \n",
    "date_last_trans = final_df.groupby(\"CustomerID\")[\"Transaction_Date\"].max()"
   ]
  },
  {
   "cell_type": "code",
   "execution_count": 71,
   "id": "63cb0889",
   "metadata": {
    "scrolled": true
   },
   "outputs": [
    {
     "name": "stderr",
     "output_type": "stream",
     "text": [
      "<ipython-input-71-bf5820c6fd2a>:2: FutureWarning: The pandas.datetime class is deprecated and will be removed from pandas in a future version. Import from datetime module instead.\n",
      "  recency = pd.datetime(2019,12,31)-date_last_trans\n"
     ]
    }
   ],
   "source": [
    "# I've Choosed the date from which to countthe days of last transsaction to be 31/12/2019\n",
    "recency = pd.datetime(2019,12,31)-date_last_trans"
   ]
  },
  {
   "cell_type": "code",
   "execution_count": 72,
   "id": "79a81598",
   "metadata": {},
   "outputs": [],
   "source": [
    "CustomerID = monetary.index"
   ]
  },
  {
   "cell_type": "code",
   "execution_count": 73,
   "id": "8cc19011",
   "metadata": {},
   "outputs": [],
   "source": [
    "# Lets make the dataframe"
   ]
  },
  {
   "cell_type": "code",
   "execution_count": 74,
   "id": "74d2527f",
   "metadata": {},
   "outputs": [],
   "source": [
    "rfm_df = pd.DataFrame([CustomerID,recency,frequency,monetary]).T"
   ]
  },
  {
   "cell_type": "code",
   "execution_count": 75,
   "id": "5bff3226",
   "metadata": {},
   "outputs": [],
   "source": [
    "rfm_df.columns = [\"CustomerID\",\"Recency\",\"Frequency\",\"Monetary\"]"
   ]
  },
  {
   "cell_type": "code",
   "execution_count": 76,
   "id": "ba451bf8",
   "metadata": {},
   "outputs": [
    {
     "name": "stdout",
     "output_type": "stream",
     "text": [
      "<class 'pandas.core.frame.DataFrame'>\n",
      "RangeIndex: 1468 entries, 0 to 1467\n",
      "Data columns (total 4 columns):\n",
      " #   Column      Non-Null Count  Dtype          \n",
      "---  ------      --------------  -----          \n",
      " 0   CustomerID  1468 non-null   object         \n",
      " 1   Recency     1468 non-null   timedelta64[ns]\n",
      " 2   Frequency   1468 non-null   object         \n",
      " 3   Monetary    1468 non-null   object         \n",
      "dtypes: object(3), timedelta64[ns](1)\n",
      "memory usage: 46.0+ KB\n"
     ]
    }
   ],
   "source": [
    "rfm_df.info()"
   ]
  },
  {
   "cell_type": "markdown",
   "id": "840dd4b9",
   "metadata": {},
   "source": [
    "### Parameter for the Segmentation"
   ]
  },
  {
   "cell_type": "code",
   "execution_count": 77,
   "id": "ab3ad8b6",
   "metadata": {},
   "outputs": [],
   "source": [
    "rfm_df.Frequency = rfm_df.Frequency.astype(\"int\")"
   ]
  },
  {
   "cell_type": "code",
   "execution_count": 78,
   "id": "9d51f8b3",
   "metadata": {},
   "outputs": [],
   "source": [
    "rfm_df.Monetary = rfm_df.Monetary.astype(\"int\")"
   ]
  },
  {
   "cell_type": "code",
   "execution_count": 79,
   "id": "e3f1f532",
   "metadata": {},
   "outputs": [],
   "source": [
    "rfm_df.Recency = rfm_df.Recency.dt.days"
   ]
  },
  {
   "cell_type": "code",
   "execution_count": 80,
   "id": "4490e1e8",
   "metadata": {
    "scrolled": false
   },
   "outputs": [
    {
     "data": {
      "text/html": [
       "<div>\n",
       "<style scoped>\n",
       "    .dataframe tbody tr th:only-of-type {\n",
       "        vertical-align: middle;\n",
       "    }\n",
       "\n",
       "    .dataframe tbody tr th {\n",
       "        vertical-align: top;\n",
       "    }\n",
       "\n",
       "    .dataframe thead th {\n",
       "        text-align: right;\n",
       "    }\n",
       "</style>\n",
       "<table border=\"1\" class=\"dataframe\">\n",
       "  <thead>\n",
       "    <tr style=\"text-align: right;\">\n",
       "      <th></th>\n",
       "      <th>Recency</th>\n",
       "      <th>Frequency</th>\n",
       "      <th>Monetary</th>\n",
       "    </tr>\n",
       "  </thead>\n",
       "  <tbody>\n",
       "    <tr>\n",
       "      <th>0.33</th>\n",
       "      <td>78.00</td>\n",
       "      <td>13.0</td>\n",
       "      <td>1089.22</td>\n",
       "    </tr>\n",
       "    <tr>\n",
       "      <th>0.67</th>\n",
       "      <td>187.89</td>\n",
       "      <td>35.0</td>\n",
       "      <td>3489.56</td>\n",
       "    </tr>\n",
       "  </tbody>\n",
       "</table>\n",
       "</div>"
      ],
      "text/plain": [
       "      Recency  Frequency  Monetary\n",
       "0.33    78.00       13.0   1089.22\n",
       "0.67   187.89       35.0   3489.56"
      ]
     },
     "execution_count": 80,
     "metadata": {},
     "output_type": "execute_result"
    }
   ],
   "source": [
    "rfm_df.quantile([.33,.67])"
   ]
  },
  {
   "cell_type": "markdown",
   "id": "2af9be13",
   "metadata": {},
   "source": [
    "### RFM Analysis"
   ]
  },
  {
   "cell_type": "code",
   "execution_count": 81,
   "id": "b6034648",
   "metadata": {},
   "outputs": [],
   "source": [
    "rfm_df[\"r_seg\"] = np.where(rfm_df.Recency<=78,\"Active\",np.where(rfm_df.Recency<=187.9,\"At Risk\",\"Churn\"))"
   ]
  },
  {
   "cell_type": "code",
   "execution_count": 82,
   "id": "e33ed2e9",
   "metadata": {},
   "outputs": [],
   "source": [
    "rfm_df[\"f_seg\"] = np.where(rfm_df.Frequency<=13,1,np.where(rfm_df.Frequency<=35,2,3))"
   ]
  },
  {
   "cell_type": "code",
   "execution_count": 83,
   "id": "808b2fe2",
   "metadata": {},
   "outputs": [],
   "source": [
    "rfm_df[\"m_seg\"] = np.where(rfm_df.Monetary<=940.11,1,np.where(rfm_df.Monetary<=3034.78,2,3))"
   ]
  },
  {
   "cell_type": "code",
   "execution_count": 84,
   "id": "0e2622fb",
   "metadata": {},
   "outputs": [],
   "source": [
    "# Lets also make the fm_seg \n",
    "rfm_df[\"fm_seg\"] = np.where((rfm_df.f_seg==3)&(rfm_df.m_seg==3),\"Platinum\",\n",
    "                            np.where(((rfm_df.f_seg==3)&(rfm_df.m_seg==2))|((rfm_df.f_seg==2)&(rfm_df.m_seg==3)),\"Gold\",\n",
    "                            np.where(((rfm_df.f_seg==2)&(rfm_df.m_seg==2))|((rfm_df.f_seg==1)&(rfm_df.m_seg==3))|((rfm_df.f_seg==3)&(rfm_df.m_seg==1)),\"Silver\",\"Standard\")))"
   ]
  },
  {
   "cell_type": "code",
   "execution_count": 85,
   "id": "abdd1d4f",
   "metadata": {},
   "outputs": [
    {
     "data": {
      "text/html": [
       "<div>\n",
       "<style scoped>\n",
       "    .dataframe tbody tr th:only-of-type {\n",
       "        vertical-align: middle;\n",
       "    }\n",
       "\n",
       "    .dataframe tbody tr th {\n",
       "        vertical-align: top;\n",
       "    }\n",
       "\n",
       "    .dataframe thead th {\n",
       "        text-align: right;\n",
       "    }\n",
       "</style>\n",
       "<table border=\"1\" class=\"dataframe\">\n",
       "  <thead>\n",
       "    <tr style=\"text-align: right;\">\n",
       "      <th></th>\n",
       "      <th>CustomerID</th>\n",
       "      <th>Tenure_Months</th>\n",
       "      <th>Transaction_ID</th>\n",
       "      <th>Quantity</th>\n",
       "      <th>Avg_Price</th>\n",
       "      <th>Delivery_Charges</th>\n",
       "      <th>Discount_pct</th>\n",
       "      <th>GST</th>\n",
       "      <th>Invoice_Value</th>\n",
       "    </tr>\n",
       "  </thead>\n",
       "  <tbody>\n",
       "    <tr>\n",
       "      <th>0</th>\n",
       "      <td>12346</td>\n",
       "      <td>62</td>\n",
       "      <td>76446</td>\n",
       "      <td>3</td>\n",
       "      <td>25.49</td>\n",
       "      <td>150.00</td>\n",
       "      <td>0.6</td>\n",
       "      <td>0.28</td>\n",
       "      <td>174.98174</td>\n",
       "    </tr>\n",
       "    <tr>\n",
       "      <th>1</th>\n",
       "      <td>12347</td>\n",
       "      <td>1200</td>\n",
       "      <td>1972760</td>\n",
       "      <td>342</td>\n",
       "      <td>3746.16</td>\n",
       "      <td>665.14</td>\n",
       "      <td>14.8</td>\n",
       "      <td>7.77</td>\n",
       "      <td>15686.84396</td>\n",
       "    </tr>\n",
       "    <tr>\n",
       "      <th>2</th>\n",
       "      <td>12348</td>\n",
       "      <td>897</td>\n",
       "      <td>774484</td>\n",
       "      <td>209</td>\n",
       "      <td>336.52</td>\n",
       "      <td>197.15</td>\n",
       "      <td>5.7</td>\n",
       "      <td>3.42</td>\n",
       "      <td>1689.55594</td>\n",
       "    </tr>\n",
       "    <tr>\n",
       "      <th>3</th>\n",
       "      <td>12350</td>\n",
       "      <td>425</td>\n",
       "      <td>796889</td>\n",
       "      <td>21</td>\n",
       "      <td>1312.40</td>\n",
       "      <td>127.88</td>\n",
       "      <td>5.1</td>\n",
       "      <td>2.16</td>\n",
       "      <td>1467.43528</td>\n",
       "    </tr>\n",
       "    <tr>\n",
       "      <th>4</th>\n",
       "      <td>12356</td>\n",
       "      <td>1116</td>\n",
       "      <td>1375803</td>\n",
       "      <td>56</td>\n",
       "      <td>1244.83</td>\n",
       "      <td>637.49</td>\n",
       "      <td>10.8</td>\n",
       "      <td>5.34</td>\n",
       "      <td>2007.42900</td>\n",
       "    </tr>\n",
       "    <tr>\n",
       "      <th>...</th>\n",
       "      <td>...</td>\n",
       "      <td>...</td>\n",
       "      <td>...</td>\n",
       "      <td>...</td>\n",
       "      <td>...</td>\n",
       "      <td>...</td>\n",
       "      <td>...</td>\n",
       "      <td>...</td>\n",
       "      <td>...</td>\n",
       "    </tr>\n",
       "    <tr>\n",
       "      <th>1463</th>\n",
       "      <td>18259</td>\n",
       "      <td>35</td>\n",
       "      <td>174149</td>\n",
       "      <td>46</td>\n",
       "      <td>84.73</td>\n",
       "      <td>278.33</td>\n",
       "      <td>0.6</td>\n",
       "      <td>1.13</td>\n",
       "      <td>860.68600</td>\n",
       "    </tr>\n",
       "    <tr>\n",
       "      <th>1464</th>\n",
       "      <td>18260</td>\n",
       "      <td>1720</td>\n",
       "      <td>1379321</td>\n",
       "      <td>141</td>\n",
       "      <td>1114.89</td>\n",
       "      <td>632.42</td>\n",
       "      <td>8.6</td>\n",
       "      <td>5.41</td>\n",
       "      <td>3016.54372</td>\n",
       "    </tr>\n",
       "    <tr>\n",
       "      <th>1465</th>\n",
       "      <td>18269</td>\n",
       "      <td>200</td>\n",
       "      <td>204995</td>\n",
       "      <td>10</td>\n",
       "      <td>89.34</td>\n",
       "      <td>51.50</td>\n",
       "      <td>1.0</td>\n",
       "      <td>1.36</td>\n",
       "      <td>166.90750</td>\n",
       "    </tr>\n",
       "    <tr>\n",
       "      <th>1466</th>\n",
       "      <td>18277</td>\n",
       "      <td>47</td>\n",
       "      <td>41388</td>\n",
       "      <td>2</td>\n",
       "      <td>149.00</td>\n",
       "      <td>6.00</td>\n",
       "      <td>0.1</td>\n",
       "      <td>0.10</td>\n",
       "      <td>333.80000</td>\n",
       "    </tr>\n",
       "    <tr>\n",
       "      <th>1467</th>\n",
       "      <td>18283</td>\n",
       "      <td>3672</td>\n",
       "      <td>3752666</td>\n",
       "      <td>155</td>\n",
       "      <td>5658.00</td>\n",
       "      <td>717.74</td>\n",
       "      <td>10.1</td>\n",
       "      <td>13.70</td>\n",
       "      <td>7356.85141</td>\n",
       "    </tr>\n",
       "  </tbody>\n",
       "</table>\n",
       "<p>1468 rows × 9 columns</p>\n",
       "</div>"
      ],
      "text/plain": [
       "      CustomerID  Tenure_Months  Transaction_ID  Quantity  Avg_Price  \\\n",
       "0          12346             62           76446         3      25.49   \n",
       "1          12347           1200         1972760       342    3746.16   \n",
       "2          12348            897          774484       209     336.52   \n",
       "3          12350            425          796889        21    1312.40   \n",
       "4          12356           1116         1375803        56    1244.83   \n",
       "...          ...            ...             ...       ...        ...   \n",
       "1463       18259             35          174149        46      84.73   \n",
       "1464       18260           1720         1379321       141    1114.89   \n",
       "1465       18269            200          204995        10      89.34   \n",
       "1466       18277             47           41388         2     149.00   \n",
       "1467       18283           3672         3752666       155    5658.00   \n",
       "\n",
       "      Delivery_Charges  Discount_pct    GST  Invoice_Value  \n",
       "0               150.00           0.6   0.28      174.98174  \n",
       "1               665.14          14.8   7.77    15686.84396  \n",
       "2               197.15           5.7   3.42     1689.55594  \n",
       "3               127.88           5.1   2.16     1467.43528  \n",
       "4               637.49          10.8   5.34     2007.42900  \n",
       "...                ...           ...    ...            ...  \n",
       "1463            278.33           0.6   1.13      860.68600  \n",
       "1464            632.42           8.6   5.41     3016.54372  \n",
       "1465             51.50           1.0   1.36      166.90750  \n",
       "1466              6.00           0.1   0.10      333.80000  \n",
       "1467            717.74          10.1  13.70     7356.85141  \n",
       "\n",
       "[1468 rows x 9 columns]"
      ]
     },
     "execution_count": 85,
     "metadata": {},
     "output_type": "execute_result"
    }
   ],
   "source": [
    "final_df.groupby(\"CustomerID\").sum().reset_index()"
   ]
  },
  {
   "cell_type": "code",
   "execution_count": 86,
   "id": "0d43f89f",
   "metadata": {},
   "outputs": [],
   "source": [
    "profiling = pd.merge(final_df.groupby(\"CustomerID\").sum().reset_index(),rfm_df,on=\"CustomerID\")"
   ]
  },
  {
   "cell_type": "code",
   "execution_count": 87,
   "id": "969d0993",
   "metadata": {},
   "outputs": [],
   "source": [
    "profiling_output = profiling[[\"Avg_Price\",\"Delivery_Charges\",\"Discount_pct\",\"GST\",\"Invoice_Value\",\"Recency\",\"Frequency\",\"Monetary\",\"r_seg\",\"fm_seg\"]].groupby([\"r_seg\",\"fm_seg\"]).mean().T"
   ]
  },
  {
   "cell_type": "code",
   "execution_count": 88,
   "id": "007804cc",
   "metadata": {},
   "outputs": [],
   "source": [
    "profiling_output.to_csv(\"rfm_segmentation.csv\")"
   ]
  },
  {
   "cell_type": "code",
   "execution_count": 89,
   "id": "e593fe75",
   "metadata": {
    "scrolled": true
   },
   "outputs": [
    {
     "data": {
      "text/html": [
       "<div>\n",
       "<style scoped>\n",
       "    .dataframe tbody tr th:only-of-type {\n",
       "        vertical-align: middle;\n",
       "    }\n",
       "\n",
       "    .dataframe tbody tr th {\n",
       "        vertical-align: top;\n",
       "    }\n",
       "\n",
       "    .dataframe thead tr th {\n",
       "        text-align: left;\n",
       "    }\n",
       "</style>\n",
       "<table border=\"1\" class=\"dataframe\">\n",
       "  <thead>\n",
       "    <tr>\n",
       "      <th>r_seg</th>\n",
       "      <th colspan=\"4\" halign=\"left\">Active</th>\n",
       "      <th colspan=\"4\" halign=\"left\">At Risk</th>\n",
       "      <th colspan=\"4\" halign=\"left\">Churn</th>\n",
       "    </tr>\n",
       "    <tr>\n",
       "      <th>fm_seg</th>\n",
       "      <th>Gold</th>\n",
       "      <th>Platinum</th>\n",
       "      <th>Silver</th>\n",
       "      <th>Standard</th>\n",
       "      <th>Gold</th>\n",
       "      <th>Platinum</th>\n",
       "      <th>Silver</th>\n",
       "      <th>Standard</th>\n",
       "      <th>Gold</th>\n",
       "      <th>Platinum</th>\n",
       "      <th>Silver</th>\n",
       "      <th>Standard</th>\n",
       "    </tr>\n",
       "  </thead>\n",
       "  <tbody>\n",
       "    <tr>\n",
       "      <th>Avg_Price</th>\n",
       "      <td>3544.035606</td>\n",
       "      <td>4293.554021</td>\n",
       "      <td>2892.282532</td>\n",
       "      <td>688.278738</td>\n",
       "      <td>2218.936396</td>\n",
       "      <td>3327.856250</td>\n",
       "      <td>1552.262022</td>\n",
       "      <td>518.008231</td>\n",
       "      <td>1921.422353</td>\n",
       "      <td>2494.145500</td>\n",
       "      <td>1412.410542</td>\n",
       "      <td>461.077919</td>\n",
       "    </tr>\n",
       "    <tr>\n",
       "      <th>Delivery_Charges</th>\n",
       "      <td>675.965758</td>\n",
       "      <td>757.814742</td>\n",
       "      <td>458.165844</td>\n",
       "      <td>106.572621</td>\n",
       "      <td>500.490450</td>\n",
       "      <td>759.998750</td>\n",
       "      <td>317.876721</td>\n",
       "      <td>109.110136</td>\n",
       "      <td>445.844706</td>\n",
       "      <td>673.985500</td>\n",
       "      <td>347.991446</td>\n",
       "      <td>118.363401</td>\n",
       "    </tr>\n",
       "    <tr>\n",
       "      <th>Discount_pct</th>\n",
       "      <td>12.210606</td>\n",
       "      <td>14.349485</td>\n",
       "      <td>10.088961</td>\n",
       "      <td>2.884466</td>\n",
       "      <td>9.856757</td>\n",
       "      <td>12.564286</td>\n",
       "      <td>6.678689</td>\n",
       "      <td>2.514966</td>\n",
       "      <td>7.075490</td>\n",
       "      <td>10.195000</td>\n",
       "      <td>5.351205</td>\n",
       "      <td>2.143147</td>\n",
       "    </tr>\n",
       "    <tr>\n",
       "      <th>GST</th>\n",
       "      <td>8.189318</td>\n",
       "      <td>9.220000</td>\n",
       "      <td>6.237662</td>\n",
       "      <td>1.749612</td>\n",
       "      <td>7.112703</td>\n",
       "      <td>10.187143</td>\n",
       "      <td>4.830000</td>\n",
       "      <td>1.847823</td>\n",
       "      <td>5.201078</td>\n",
       "      <td>7.090500</td>\n",
       "      <td>3.996386</td>\n",
       "      <td>1.561726</td>\n",
       "    </tr>\n",
       "    <tr>\n",
       "      <th>Invoice_Value</th>\n",
       "      <td>6982.103922</td>\n",
       "      <td>8192.953024</td>\n",
       "      <td>5069.345065</td>\n",
       "      <td>1165.491055</td>\n",
       "      <td>4531.180565</td>\n",
       "      <td>7538.810118</td>\n",
       "      <td>2928.215077</td>\n",
       "      <td>916.946758</td>\n",
       "      <td>4108.154915</td>\n",
       "      <td>5832.271868</td>\n",
       "      <td>2853.690796</td>\n",
       "      <td>888.837634</td>\n",
       "    </tr>\n",
       "    <tr>\n",
       "      <th>Recency</th>\n",
       "      <td>37.106061</td>\n",
       "      <td>33.525773</td>\n",
       "      <td>35.779221</td>\n",
       "      <td>34.533981</td>\n",
       "      <td>130.693694</td>\n",
       "      <td>121.785714</td>\n",
       "      <td>130.666667</td>\n",
       "      <td>133.931973</td>\n",
       "      <td>274.333333</td>\n",
       "      <td>261.550000</td>\n",
       "      <td>266.644578</td>\n",
       "      <td>264.979695</td>\n",
       "    </tr>\n",
       "    <tr>\n",
       "      <th>Frequency</th>\n",
       "      <td>53.106061</td>\n",
       "      <td>81.288660</td>\n",
       "      <td>22.844156</td>\n",
       "      <td>12.000000</td>\n",
       "      <td>58.162162</td>\n",
       "      <td>73.803571</td>\n",
       "      <td>43.994536</td>\n",
       "      <td>11.727891</td>\n",
       "      <td>41.068627</td>\n",
       "      <td>81.000000</td>\n",
       "      <td>29.825301</td>\n",
       "      <td>10.918782</td>\n",
       "    </tr>\n",
       "    <tr>\n",
       "      <th>Monetary</th>\n",
       "      <td>6981.606061</td>\n",
       "      <td>8192.422680</td>\n",
       "      <td>5068.805195</td>\n",
       "      <td>1164.961165</td>\n",
       "      <td>4530.711712</td>\n",
       "      <td>7538.357143</td>\n",
       "      <td>2927.715847</td>\n",
       "      <td>916.489796</td>\n",
       "      <td>4107.676471</td>\n",
       "      <td>5831.850000</td>\n",
       "      <td>2853.216867</td>\n",
       "      <td>888.299492</td>\n",
       "    </tr>\n",
       "  </tbody>\n",
       "</table>\n",
       "</div>"
      ],
      "text/plain": [
       "r_seg                  Active                                         \\\n",
       "fm_seg                   Gold     Platinum       Silver     Standard   \n",
       "Avg_Price         3544.035606  4293.554021  2892.282532   688.278738   \n",
       "Delivery_Charges   675.965758   757.814742   458.165844   106.572621   \n",
       "Discount_pct        12.210606    14.349485    10.088961     2.884466   \n",
       "GST                  8.189318     9.220000     6.237662     1.749612   \n",
       "Invoice_Value     6982.103922  8192.953024  5069.345065  1165.491055   \n",
       "Recency             37.106061    33.525773    35.779221    34.533981   \n",
       "Frequency           53.106061    81.288660    22.844156    12.000000   \n",
       "Monetary          6981.606061  8192.422680  5068.805195  1164.961165   \n",
       "\n",
       "r_seg                 At Risk                                        \\\n",
       "fm_seg                   Gold     Platinum       Silver    Standard   \n",
       "Avg_Price         2218.936396  3327.856250  1552.262022  518.008231   \n",
       "Delivery_Charges   500.490450   759.998750   317.876721  109.110136   \n",
       "Discount_pct         9.856757    12.564286     6.678689    2.514966   \n",
       "GST                  7.112703    10.187143     4.830000    1.847823   \n",
       "Invoice_Value     4531.180565  7538.810118  2928.215077  916.946758   \n",
       "Recency            130.693694   121.785714   130.666667  133.931973   \n",
       "Frequency           58.162162    73.803571    43.994536   11.727891   \n",
       "Monetary          4530.711712  7538.357143  2927.715847  916.489796   \n",
       "\n",
       "r_seg                   Churn                                        \n",
       "fm_seg                   Gold     Platinum       Silver    Standard  \n",
       "Avg_Price         1921.422353  2494.145500  1412.410542  461.077919  \n",
       "Delivery_Charges   445.844706   673.985500   347.991446  118.363401  \n",
       "Discount_pct         7.075490    10.195000     5.351205    2.143147  \n",
       "GST                  5.201078     7.090500     3.996386    1.561726  \n",
       "Invoice_Value     4108.154915  5832.271868  2853.690796  888.837634  \n",
       "Recency            274.333333   261.550000   266.644578  264.979695  \n",
       "Frequency           41.068627    81.000000    29.825301   10.918782  \n",
       "Monetary          4107.676471  5831.850000  2853.216867  888.299492  "
      ]
     },
     "execution_count": 89,
     "metadata": {},
     "output_type": "execute_result"
    }
   ],
   "source": [
    "profiling_output"
   ]
  },
  {
   "cell_type": "markdown",
   "id": "fc2cd55f",
   "metadata": {},
   "source": [
    "## Strategy\n",
    "\n",
    "There can be applied three type of campaigns\n",
    "1. Endorsement Programme: For the platinum customers having high frequency and high montary value some advertisement programmes can be operated.\n",
    "2. Reactivation programmes: can be applied to those customers that have high monetary value but are in at risk category in the recency segment\n",
    "3. Win Back Strategy: can be applies to those high monetary value customers that are churned or have large recency. So that their loyalty can be regained"
   ]
  },
  {
   "cell_type": "raw",
   "id": "fcd0d6ec",
   "metadata": {},
   "source": []
  },
  {
   "cell_type": "raw",
   "id": "dc37b162",
   "metadata": {},
   "source": []
  },
  {
   "cell_type": "markdown",
   "id": "7536a79e",
   "metadata": {},
   "source": [
    "## K-Means Algo"
   ]
  },
  {
   "cell_type": "markdown",
   "id": "ba90c5ff",
   "metadata": {},
   "source": [
    "### Data Preparation"
   ]
  },
  {
   "cell_type": "code",
   "execution_count": 90,
   "id": "fe7ca44e",
   "metadata": {},
   "outputs": [],
   "source": [
    "kmeans_df = final_df.copy()"
   ]
  },
  {
   "cell_type": "code",
   "execution_count": 91,
   "id": "90060727",
   "metadata": {},
   "outputs": [
    {
     "data": {
      "text/plain": [
       "array(['Apparel', 'Office', 'Nest-USA', 'Bags', 'Drinkware', 'Headgear',\n",
       "       'Google', 'Lifestyle', 'Nest', 'Accessories', 'Nest-Canada',\n",
       "       'Notebooks & Journals', 'Bottles', 'Backpacks', 'Waze',\n",
       "       'Gift Cards', 'Fun', 'Housewares', 'Android', 'More Bags'],\n",
       "      dtype=object)"
      ]
     },
     "execution_count": 91,
     "metadata": {},
     "output_type": "execute_result"
    }
   ],
   "source": [
    "# We will use codings for 1,2,3,4,5 for 'New York', 'California', 'Chicago', 'New Jersey', 'Washington DC' respectively\n",
    "# Ands Male with 1 and female with 0 in gender\n",
    "# In coupon status 1,2,0 for 'Used', 'Clicked', 'Not Used'\n",
    "final_df.Location.unique()\n",
    "final_df.Coupon_Status.unique()\n",
    "\n",
    "# Since we will have to make dummy variables of all these categorical variables we should not add this product category column\n",
    "# Lets have it! Don't ask me why.\n",
    "#'Apparel', 'Office', 'Nest-USA', 'Bags', 'Drinkware', 'Headgear','Google', 'Lifestyle', 'Nest', 'Accessories', 'Nest-Canada',\n",
    "#'Notebooks & Journals', 'Bottles', 'Backpacks', 'Waze',\n",
    "#'Gift Cards', 'Fun', 'Housewares', 'Android', 'More Bags'\n",
    "np.arange(0,20,1)\n",
    "\n",
    "final_df.Product_Category.unique()"
   ]
  },
  {
   "cell_type": "code",
   "execution_count": 92,
   "id": "a4266fc2",
   "metadata": {},
   "outputs": [],
   "source": [
    "kmeans_df.Location = kmeans_df.Location.replace(['New York', 'California', 'Chicago', 'New Jersey', 'Washington DC'],[0,1,2,3,4])   \n",
    "kmeans_df.Gender = kmeans_df.Gender.replace([\"M\",\"F\"],[1,0]) \n",
    "kmeans_df.Coupon_Status = kmeans_df.Coupon_Status.replace(['Used', 'Clicked', 'Not Used'],[1,2,0]) \n",
    "kmeans_df.Product_Category = kmeans_df.Product_Category.replace(['Apparel', 'Office', 'Nest-USA', 'Bags', 'Drinkware', 'Headgear',\n",
    "       'Google', 'Lifestyle', 'Nest', 'Accessories', 'Nest-Canada',\n",
    "       'Notebooks & Journals', 'Bottles', 'Backpacks', 'Waze',\n",
    "       'Gift Cards', 'Fun', 'Housewares', 'Android', 'More Bags'],[0,1,2,3,4,5,6,7,8,9,10,11,12,13,14,15,16,17,18,19]) "
   ]
  },
  {
   "cell_type": "code",
   "execution_count": 93,
   "id": "39c4cdcd",
   "metadata": {},
   "outputs": [],
   "source": [
    "# Columns to drop \"Transaction_Date\",\"Transaction_ID\",\"Customer_ID\",\"Product_SKU\",\"Product_Description\",\"Month\"\n",
    "kmeans_df.drop([\"Transaction_Date\",\"Transaction_ID\",\"CustomerID\",\"Product_SKU\",\"Product_Description\",\"Month\",\"Coupon_Code\"],axis=1,inplace=True)"
   ]
  },
  {
   "cell_type": "code",
   "execution_count": 94,
   "id": "ecf4f5fe",
   "metadata": {},
   "outputs": [],
   "source": [
    "# Have to make dummy of location, Coupon_Status and Product_Category\n",
    "kmeans_df = pd.get_dummies(kmeans_df,columns=[\"Location\",\"Coupon_Status\",\"Product_Category\"],drop_first=True,prefix=[\"Location\",\n",
    "                                                                                                                   \"Coupon_Status\",\n",
    "                                                                                                                   \"Product_Category\"])"
   ]
  },
  {
   "cell_type": "code",
   "execution_count": 95,
   "id": "6bf2ec2e",
   "metadata": {
    "scrolled": true
   },
   "outputs": [],
   "source": [
    "# There are no nan values \n",
    "# No need to treat them"
   ]
  },
  {
   "cell_type": "code",
   "execution_count": 96,
   "id": "86f642dc",
   "metadata": {},
   "outputs": [],
   "source": [
    "# Outlier Treatment\n",
    "def outlier_capping(x):\n",
    "    x = x.clip(lower=x.quantile(.01),upper=x.quantile(.99))\n",
    "    return x\n",
    "kmeans_df = kmeans_df.apply(lambda x:outlier_capping(x))"
   ]
  },
  {
   "cell_type": "code",
   "execution_count": 97,
   "id": "45e3d902",
   "metadata": {
    "scrolled": true
   },
   "outputs": [
    {
     "data": {
      "text/plain": [
       "array([0, 1], dtype=uint8)"
      ]
     },
     "execution_count": 97,
     "metadata": {},
     "output_type": "execute_result"
    }
   ],
   "source": [
    "# Some columns are just of 0 s only\n",
    "# What does it means?\n",
    "kmeans_df.Product_Category_7.unique()"
   ]
  },
  {
   "cell_type": "markdown",
   "id": "722830e1",
   "metadata": {},
   "source": [
    "### PCA"
   ]
  },
  {
   "cell_type": "markdown",
   "id": "8a4161fc",
   "metadata": {},
   "source": [
    "For Variable Reduction using Factor loadings"
   ]
  },
  {
   "cell_type": "markdown",
   "id": "7b660231",
   "metadata": {},
   "source": [
    "#### Standardization of the data"
   ]
  },
  {
   "cell_type": "code",
   "execution_count": 98,
   "id": "e6633441",
   "metadata": {},
   "outputs": [],
   "source": [
    "from sklearn.preprocessing import StandardScaler, MinMaxScaler\n",
    "from sklearn.decomposition import PCA # Principal Component analusis (Variable Reduction)"
   ]
  },
  {
   "cell_type": "code",
   "execution_count": 99,
   "id": "244a51b6",
   "metadata": {},
   "outputs": [],
   "source": [
    "sc = StandardScaler()"
   ]
  },
  {
   "cell_type": "code",
   "execution_count": 100,
   "id": "8a6c8353",
   "metadata": {},
   "outputs": [],
   "source": [
    "std_model = sc.fit(kmeans_df)"
   ]
  },
  {
   "cell_type": "code",
   "execution_count": 101,
   "id": "1f32ff2c",
   "metadata": {},
   "outputs": [
    {
     "data": {
      "text/plain": [
       "array([[-0.7767995 ,  0.36147411, -0.30911652, ...,  0.        ,\n",
       "         0.        ,  0.        ],\n",
       "       [-0.7767995 ,  0.36147411, -0.19181001, ...,  0.        ,\n",
       "         0.        ,  0.        ],\n",
       "       [ 1.28733348, -0.45466116, -0.30911652, ...,  0.        ,\n",
       "         0.        ,  0.        ],\n",
       "       ...,\n",
       "       [-0.7767995 ,  0.73244469, -0.19181001, ...,  0.        ,\n",
       "         0.        ,  0.        ],\n",
       "       [-0.7767995 ,  0.73244469, -0.30911652, ...,  0.        ,\n",
       "         0.        ,  0.        ],\n",
       "       [-0.7767995 ,  0.73244469, -0.30911652, ...,  0.        ,\n",
       "         0.        ,  0.        ]])"
      ]
     },
     "execution_count": 101,
     "metadata": {},
     "output_type": "execute_result"
    }
   ],
   "source": [
    "std_model.transform(kmeans_df)"
   ]
  },
  {
   "cell_type": "code",
   "execution_count": 102,
   "id": "63562667",
   "metadata": {},
   "outputs": [],
   "source": [
    "kmeans_scaled = pd.DataFrame(std_model.transform(kmeans_df),columns=kmeans_df.columns)"
   ]
  },
  {
   "cell_type": "code",
   "execution_count": 103,
   "id": "8f2d9fce",
   "metadata": {},
   "outputs": [
    {
     "data": {
      "text/plain": [
       "(52924, 33)"
      ]
     },
     "execution_count": 103,
     "metadata": {},
     "output_type": "execute_result"
    }
   ],
   "source": [
    "kmeans_scaled.shape"
   ]
  },
  {
   "cell_type": "code",
   "execution_count": 104,
   "id": "393dbcd5",
   "metadata": {},
   "outputs": [
    {
     "data": {
      "text/plain": [
       "(52924, 33)"
      ]
     },
     "execution_count": 104,
     "metadata": {},
     "output_type": "execute_result"
    }
   ],
   "source": [
    "kmeans_df.shape"
   ]
  },
  {
   "cell_type": "code",
   "execution_count": 105,
   "id": "cccda3c9",
   "metadata": {},
   "outputs": [],
   "source": [
    "pca_model = PCA(n_components=33)\n",
    "pca_model = pca_model.fit(kmeans_scaled)"
   ]
  },
  {
   "cell_type": "code",
   "execution_count": 106,
   "id": "64694987",
   "metadata": {},
   "outputs": [
    {
     "data": {
      "text/plain": [
       "array([3.00305520e+00, 1.74767363e+00, 1.69183310e+00, 1.48808252e+00,\n",
       "       1.37526524e+00, 1.16602393e+00, 1.14419316e+00, 1.12551068e+00,\n",
       "       1.06971643e+00, 1.06134301e+00, 1.04286229e+00, 1.01888805e+00,\n",
       "       1.00713493e+00, 9.85022822e-01, 9.46595376e-01, 9.26369169e-01,\n",
       "       7.20985190e-01, 5.38734906e-01, 2.91201042e-01, 2.74077795e-01,\n",
       "       2.22855326e-01, 1.08463738e-01, 4.45470648e-02, 2.31719460e-32,\n",
       "       2.31719460e-32, 2.31719460e-32, 2.31719460e-32, 2.31719460e-32,\n",
       "       2.31719460e-32, 2.31719460e-32, 2.31719460e-32, 2.31719460e-32,\n",
       "       2.31719460e-32])"
      ]
     },
     "execution_count": 106,
     "metadata": {},
     "output_type": "execute_result"
    }
   ],
   "source": [
    "# eigen values of the PC vector\n",
    "pca_model.explained_variance_"
   ]
  },
  {
   "cell_type": "code",
   "execution_count": 107,
   "id": "52a8eeb5",
   "metadata": {},
   "outputs": [
    {
     "data": {
      "text/plain": [
       "array([0.131, 0.076, 0.074, 0.065, 0.06 , 0.051, 0.05 , 0.049, 0.047,\n",
       "       0.046, 0.045, 0.044, 0.044, 0.043, 0.041, 0.04 , 0.031, 0.023,\n",
       "       0.013, 0.012, 0.01 , 0.005, 0.002, 0.   , 0.   , 0.   , 0.   ,\n",
       "       0.   , 0.   , 0.   , 0.   , 0.   , 0.   ])"
      ]
     },
     "execution_count": 107,
     "metadata": {},
     "output_type": "execute_result"
    }
   ],
   "source": [
    "# It can be shown here that total of 10 PCs explain almost 80% of the variance in the data \n",
    "pca_model.explained_variance_ratio_.round(3)"
   ]
  },
  {
   "cell_type": "code",
   "execution_count": 108,
   "id": "90806da8",
   "metadata": {},
   "outputs": [
    {
     "data": {
      "text/plain": [
       "array([0.13056515, 0.20654952, 0.2801061 , 0.34480411, 0.40459712,\n",
       "       0.45529286, 0.50503945, 0.55397377, 0.6004823 , 0.64662678,\n",
       "       0.69196776, 0.7362664 , 0.78005405, 0.82288032, 0.86403586,\n",
       "       0.90431202, 0.93565861, 0.95908143, 0.9717421 , 0.9836583 ,\n",
       "       0.99334748, 0.99806321, 1.        , 1.        , 1.        ,\n",
       "       1.        , 1.        , 1.        , 1.        , 1.        ,\n",
       "       1.        , 1.        , 1.        ])"
      ]
     },
     "execution_count": 108,
     "metadata": {},
     "output_type": "execute_result"
    }
   ],
   "source": [
    "np.cumsum(pca_model.explained_variance_ratio_)"
   ]
  },
  {
   "cell_type": "code",
   "execution_count": 109,
   "id": "d69036d8",
   "metadata": {},
   "outputs": [],
   "source": [
    "# We can directly use these PCs to fit our model "
   ]
  },
  {
   "cell_type": "code",
   "execution_count": 110,
   "id": "3019ee8b",
   "metadata": {},
   "outputs": [],
   "source": [
    "# We canm have onlu 14 components that explain the most of variance in our data"
   ]
  },
  {
   "cell_type": "code",
   "execution_count": 111,
   "id": "0f33f638",
   "metadata": {},
   "outputs": [],
   "source": [
    "pca_model = PCA(n_components=14)\n",
    "pca_model = pca_model.fit(kmeans_scaled)"
   ]
  },
  {
   "cell_type": "code",
   "execution_count": 112,
   "id": "606f199f",
   "metadata": {},
   "outputs": [
    {
     "data": {
      "text/plain": [
       "0.8228803203687134"
      ]
     },
     "execution_count": 112,
     "metadata": {},
     "output_type": "execute_result"
    }
   ],
   "source": [
    "# This explains 78% percent of the variance\n",
    "np.sum(pca_model.explained_variance_ratio_)"
   ]
  },
  {
   "cell_type": "code",
   "execution_count": 113,
   "id": "db8d8866",
   "metadata": {},
   "outputs": [
    {
     "data": {
      "text/plain": [
       "array([[-1.379141  , -0.16159512,  2.69703194, ..., -0.02686708,\n",
       "         0.6263534 ,  0.9909073 ],\n",
       "       [-1.05965335,  0.62820965,  4.48746927, ...,  0.18421883,\n",
       "         0.38466721,  0.67782055],\n",
       "       [-0.768219  ,  1.57405227,  0.70186481, ...,  0.3390628 ,\n",
       "         0.18069723, -0.32203   ],\n",
       "       ...,\n",
       "       [-1.15498743, -1.77484472,  0.15352928, ..., -0.47037778,\n",
       "         0.6876317 , -0.36968909],\n",
       "       [-1.32286534,  1.15010775, -0.64103245, ..., -0.44279747,\n",
       "         0.78527902, -0.15710103],\n",
       "       [-1.31969289,  1.15021123, -0.6409598 , ..., -0.44275771,\n",
       "         0.78512667, -0.15684087]])"
      ]
     },
     "execution_count": 113,
     "metadata": {},
     "output_type": "execute_result"
    }
   ],
   "source": [
    "# It gives an array lets transform these into a dataframe\n",
    "pca_model.transform(kmeans_scaled)"
   ]
  },
  {
   "cell_type": "code",
   "execution_count": 114,
   "id": "790fbb2c",
   "metadata": {},
   "outputs": [],
   "source": [
    "PCs = pd.DataFrame(pca_model.transform(kmeans_scaled),columns = [\"PC1\",\"PC2\",\"PC3\",\"PC4\",\"PC5\",\"PC6\",\"PC7\",\"PC8\",\"PC9\",\"PC10\",\"PC11\",\"PC12\",\"PC13\",\"PC14\"])"
   ]
  },
  {
   "cell_type": "code",
   "execution_count": 115,
   "id": "11a5c5ec",
   "metadata": {},
   "outputs": [
    {
     "data": {
      "text/html": [
       "<div>\n",
       "<style scoped>\n",
       "    .dataframe tbody tr th:only-of-type {\n",
       "        vertical-align: middle;\n",
       "    }\n",
       "\n",
       "    .dataframe tbody tr th {\n",
       "        vertical-align: top;\n",
       "    }\n",
       "\n",
       "    .dataframe thead th {\n",
       "        text-align: right;\n",
       "    }\n",
       "</style>\n",
       "<table border=\"1\" class=\"dataframe\">\n",
       "  <thead>\n",
       "    <tr style=\"text-align: right;\">\n",
       "      <th></th>\n",
       "      <th>PC1</th>\n",
       "      <th>PC2</th>\n",
       "      <th>PC3</th>\n",
       "      <th>PC4</th>\n",
       "      <th>PC5</th>\n",
       "      <th>PC6</th>\n",
       "      <th>PC7</th>\n",
       "      <th>PC8</th>\n",
       "      <th>PC9</th>\n",
       "      <th>PC10</th>\n",
       "      <th>PC11</th>\n",
       "      <th>PC12</th>\n",
       "      <th>PC13</th>\n",
       "      <th>PC14</th>\n",
       "    </tr>\n",
       "  </thead>\n",
       "  <tbody>\n",
       "    <tr>\n",
       "      <th>0</th>\n",
       "      <td>-1.379141</td>\n",
       "      <td>-0.161595</td>\n",
       "      <td>2.697032</td>\n",
       "      <td>0.095700</td>\n",
       "      <td>2.019488</td>\n",
       "      <td>-0.162646</td>\n",
       "      <td>0.827250</td>\n",
       "      <td>0.196918</td>\n",
       "      <td>0.258297</td>\n",
       "      <td>0.273530</td>\n",
       "      <td>0.103012</td>\n",
       "      <td>-0.026867</td>\n",
       "      <td>0.626353</td>\n",
       "      <td>0.990907</td>\n",
       "    </tr>\n",
       "    <tr>\n",
       "      <th>1</th>\n",
       "      <td>-1.059653</td>\n",
       "      <td>0.628210</td>\n",
       "      <td>4.487469</td>\n",
       "      <td>0.118321</td>\n",
       "      <td>0.031867</td>\n",
       "      <td>0.186137</td>\n",
       "      <td>0.594771</td>\n",
       "      <td>-0.043145</td>\n",
       "      <td>-0.604463</td>\n",
       "      <td>-0.678885</td>\n",
       "      <td>-0.021838</td>\n",
       "      <td>0.184219</td>\n",
       "      <td>0.384667</td>\n",
       "      <td>0.677821</td>\n",
       "    </tr>\n",
       "    <tr>\n",
       "      <th>2</th>\n",
       "      <td>-0.768219</td>\n",
       "      <td>1.574052</td>\n",
       "      <td>0.701865</td>\n",
       "      <td>0.027634</td>\n",
       "      <td>-2.084924</td>\n",
       "      <td>0.165443</td>\n",
       "      <td>-0.177102</td>\n",
       "      <td>0.530024</td>\n",
       "      <td>-0.990340</td>\n",
       "      <td>-1.020111</td>\n",
       "      <td>-0.136650</td>\n",
       "      <td>0.339063</td>\n",
       "      <td>0.180697</td>\n",
       "      <td>-0.322030</td>\n",
       "    </tr>\n",
       "    <tr>\n",
       "      <th>3</th>\n",
       "      <td>-0.805891</td>\n",
       "      <td>-0.917034</td>\n",
       "      <td>2.161712</td>\n",
       "      <td>-0.059130</td>\n",
       "      <td>-1.771314</td>\n",
       "      <td>0.170730</td>\n",
       "      <td>-0.144431</td>\n",
       "      <td>0.525229</td>\n",
       "      <td>-0.991959</td>\n",
       "      <td>-0.993548</td>\n",
       "      <td>-0.092718</td>\n",
       "      <td>0.340308</td>\n",
       "      <td>0.169130</td>\n",
       "      <td>-0.273278</td>\n",
       "    </tr>\n",
       "    <tr>\n",
       "      <th>4</th>\n",
       "      <td>2.135502</td>\n",
       "      <td>-1.952342</td>\n",
       "      <td>0.283964</td>\n",
       "      <td>-0.027250</td>\n",
       "      <td>0.293178</td>\n",
       "      <td>0.191068</td>\n",
       "      <td>-0.443282</td>\n",
       "      <td>0.200202</td>\n",
       "      <td>-0.382375</td>\n",
       "      <td>-0.167182</td>\n",
       "      <td>-0.134075</td>\n",
       "      <td>0.011793</td>\n",
       "      <td>0.601801</td>\n",
       "      <td>0.153558</td>\n",
       "    </tr>\n",
       "    <tr>\n",
       "      <th>...</th>\n",
       "      <td>...</td>\n",
       "      <td>...</td>\n",
       "      <td>...</td>\n",
       "      <td>...</td>\n",
       "      <td>...</td>\n",
       "      <td>...</td>\n",
       "      <td>...</td>\n",
       "      <td>...</td>\n",
       "      <td>...</td>\n",
       "      <td>...</td>\n",
       "      <td>...</td>\n",
       "      <td>...</td>\n",
       "      <td>...</td>\n",
       "      <td>...</td>\n",
       "    </tr>\n",
       "    <tr>\n",
       "      <th>52919</th>\n",
       "      <td>-1.322785</td>\n",
       "      <td>-1.829951</td>\n",
       "      <td>0.082381</td>\n",
       "      <td>-0.328160</td>\n",
       "      <td>-0.058414</td>\n",
       "      <td>2.705052</td>\n",
       "      <td>1.750475</td>\n",
       "      <td>-0.233366</td>\n",
       "      <td>0.115784</td>\n",
       "      <td>0.318964</td>\n",
       "      <td>0.138405</td>\n",
       "      <td>-0.465417</td>\n",
       "      <td>0.694364</td>\n",
       "      <td>-0.403498</td>\n",
       "    </tr>\n",
       "    <tr>\n",
       "      <th>52920</th>\n",
       "      <td>-1.241878</td>\n",
       "      <td>-1.840795</td>\n",
       "      <td>0.064450</td>\n",
       "      <td>-0.327899</td>\n",
       "      <td>-0.039717</td>\n",
       "      <td>2.702333</td>\n",
       "      <td>1.756407</td>\n",
       "      <td>-0.231487</td>\n",
       "      <td>0.113055</td>\n",
       "      <td>0.311549</td>\n",
       "      <td>0.137189</td>\n",
       "      <td>-0.464901</td>\n",
       "      <td>0.688391</td>\n",
       "      <td>-0.404899</td>\n",
       "    </tr>\n",
       "    <tr>\n",
       "      <th>52921</th>\n",
       "      <td>-1.154987</td>\n",
       "      <td>-1.774845</td>\n",
       "      <td>0.153529</td>\n",
       "      <td>-0.320946</td>\n",
       "      <td>0.061719</td>\n",
       "      <td>2.710141</td>\n",
       "      <td>1.762383</td>\n",
       "      <td>-0.231287</td>\n",
       "      <td>0.113582</td>\n",
       "      <td>0.302497</td>\n",
       "      <td>0.134956</td>\n",
       "      <td>-0.470378</td>\n",
       "      <td>0.687632</td>\n",
       "      <td>-0.369689</td>\n",
       "    </tr>\n",
       "    <tr>\n",
       "      <th>52922</th>\n",
       "      <td>-1.322865</td>\n",
       "      <td>1.150108</td>\n",
       "      <td>-0.641032</td>\n",
       "      <td>-0.195135</td>\n",
       "      <td>0.245283</td>\n",
       "      <td>2.692707</td>\n",
       "      <td>1.743576</td>\n",
       "      <td>-0.164362</td>\n",
       "      <td>0.289129</td>\n",
       "      <td>0.425486</td>\n",
       "      <td>0.138376</td>\n",
       "      <td>-0.442797</td>\n",
       "      <td>0.785279</td>\n",
       "      <td>-0.157101</td>\n",
       "    </tr>\n",
       "    <tr>\n",
       "      <th>52923</th>\n",
       "      <td>-1.319693</td>\n",
       "      <td>1.150211</td>\n",
       "      <td>-0.640960</td>\n",
       "      <td>-0.195075</td>\n",
       "      <td>0.246690</td>\n",
       "      <td>2.692602</td>\n",
       "      <td>1.743831</td>\n",
       "      <td>-0.164229</td>\n",
       "      <td>0.289194</td>\n",
       "      <td>0.425330</td>\n",
       "      <td>0.138375</td>\n",
       "      <td>-0.442758</td>\n",
       "      <td>0.785127</td>\n",
       "      <td>-0.156841</td>\n",
       "    </tr>\n",
       "  </tbody>\n",
       "</table>\n",
       "<p>52924 rows × 14 columns</p>\n",
       "</div>"
      ],
      "text/plain": [
       "            PC1       PC2       PC3       PC4       PC5       PC6       PC7  \\\n",
       "0     -1.379141 -0.161595  2.697032  0.095700  2.019488 -0.162646  0.827250   \n",
       "1     -1.059653  0.628210  4.487469  0.118321  0.031867  0.186137  0.594771   \n",
       "2     -0.768219  1.574052  0.701865  0.027634 -2.084924  0.165443 -0.177102   \n",
       "3     -0.805891 -0.917034  2.161712 -0.059130 -1.771314  0.170730 -0.144431   \n",
       "4      2.135502 -1.952342  0.283964 -0.027250  0.293178  0.191068 -0.443282   \n",
       "...         ...       ...       ...       ...       ...       ...       ...   \n",
       "52919 -1.322785 -1.829951  0.082381 -0.328160 -0.058414  2.705052  1.750475   \n",
       "52920 -1.241878 -1.840795  0.064450 -0.327899 -0.039717  2.702333  1.756407   \n",
       "52921 -1.154987 -1.774845  0.153529 -0.320946  0.061719  2.710141  1.762383   \n",
       "52922 -1.322865  1.150108 -0.641032 -0.195135  0.245283  2.692707  1.743576   \n",
       "52923 -1.319693  1.150211 -0.640960 -0.195075  0.246690  2.692602  1.743831   \n",
       "\n",
       "            PC8       PC9      PC10      PC11      PC12      PC13      PC14  \n",
       "0      0.196918  0.258297  0.273530  0.103012 -0.026867  0.626353  0.990907  \n",
       "1     -0.043145 -0.604463 -0.678885 -0.021838  0.184219  0.384667  0.677821  \n",
       "2      0.530024 -0.990340 -1.020111 -0.136650  0.339063  0.180697 -0.322030  \n",
       "3      0.525229 -0.991959 -0.993548 -0.092718  0.340308  0.169130 -0.273278  \n",
       "4      0.200202 -0.382375 -0.167182 -0.134075  0.011793  0.601801  0.153558  \n",
       "...         ...       ...       ...       ...       ...       ...       ...  \n",
       "52919 -0.233366  0.115784  0.318964  0.138405 -0.465417  0.694364 -0.403498  \n",
       "52920 -0.231487  0.113055  0.311549  0.137189 -0.464901  0.688391 -0.404899  \n",
       "52921 -0.231287  0.113582  0.302497  0.134956 -0.470378  0.687632 -0.369689  \n",
       "52922 -0.164362  0.289129  0.425486  0.138376 -0.442797  0.785279 -0.157101  \n",
       "52923 -0.164229  0.289194  0.425330  0.138375 -0.442758  0.785127 -0.156841  \n",
       "\n",
       "[52924 rows x 14 columns]"
      ]
     },
     "execution_count": 115,
     "metadata": {},
     "output_type": "execute_result"
    }
   ],
   "source": [
    "PCs"
   ]
  },
  {
   "cell_type": "code",
   "execution_count": 116,
   "id": "9408380b",
   "metadata": {},
   "outputs": [],
   "source": [
    "loadings = pd.DataFrame((pca_model.components_.T*np.sqrt(pca_model.explained_variance_)).T,columns= kmeans_scaled.columns).T"
   ]
  },
  {
   "cell_type": "code",
   "execution_count": 117,
   "id": "b9c33fb8",
   "metadata": {},
   "outputs": [],
   "source": [
    "loadings.columns = [\"PC1\",\"PC2\",\"PC3\",\"PC4\",\"PC5\",\"PC6\",\"PC7\",\"PC8\",\"PC9\",\"PC10\",\"PC11\",\"PC12\",\"PC13\",\"PC14\"]"
   ]
  },
  {
   "cell_type": "code",
   "execution_count": 118,
   "id": "5008d11d",
   "metadata": {},
   "outputs": [],
   "source": [
    "loadings.to_csv(\"loadings1.csv\")"
   ]
  },
  {
   "cell_type": "code",
   "execution_count": 119,
   "id": "79186a5d",
   "metadata": {},
   "outputs": [
    {
     "data": {
      "text/plain": [
       "Index(['Gender', 'Tenure_Months', 'Quantity', 'Avg_Price', 'Delivery_Charges',\n",
       "       'Discount_pct', 'GST', 'Invoice_Value', 'Location_1', 'Location_2',\n",
       "       'Location_3', 'Location_4', 'Coupon_Status_1', 'Coupon_Status_2',\n",
       "       'Product_Category_1', 'Product_Category_2', 'Product_Category_3',\n",
       "       'Product_Category_4', 'Product_Category_5', 'Product_Category_6',\n",
       "       'Product_Category_7', 'Product_Category_8', 'Product_Category_9',\n",
       "       'Product_Category_10', 'Product_Category_11', 'Product_Category_12',\n",
       "       'Product_Category_13', 'Product_Category_14', 'Product_Category_15',\n",
       "       'Product_Category_16', 'Product_Category_17', 'Product_Category_18',\n",
       "       'Product_Category_19'],\n",
       "      dtype='object')"
      ]
     },
     "execution_count": 119,
     "metadata": {},
     "output_type": "execute_result"
    }
   ],
   "source": [
    "kmeans_df.columns"
   ]
  },
  {
   "cell_type": "code",
   "execution_count": 120,
   "id": "316a29fc",
   "metadata": {},
   "outputs": [],
   "source": [
    "selected_vars = [\"Tenure_Months\",\"Quantity\",\"Avg_Price\",\"Delivery_Charges\",\"Discount_pct\",\"GST\",\"Invoice_Value\",\"Product_Category_8\",\"Location_3\"]"
   ]
  },
  {
   "cell_type": "code",
   "execution_count": 121,
   "id": "74720dfe",
   "metadata": {},
   "outputs": [],
   "source": [
    "input_for_segmentation = kmeans_df[selected_vars]"
   ]
  },
  {
   "cell_type": "code",
   "execution_count": null,
   "id": "a998f7dc",
   "metadata": {},
   "outputs": [],
   "source": []
  },
  {
   "cell_type": "code",
   "execution_count": null,
   "id": "db9f11f2",
   "metadata": {},
   "outputs": [],
   "source": []
  },
  {
   "cell_type": "markdown",
   "id": "b6ab79ff",
   "metadata": {},
   "source": [
    "### Model"
   ]
  },
  {
   "cell_type": "markdown",
   "id": "c750c0ef",
   "metadata": {},
   "source": [
    "#### Elbow Analysis"
   ]
  },
  {
   "cell_type": "code",
   "execution_count": 122,
   "id": "adc167d9",
   "metadata": {},
   "outputs": [],
   "source": [
    "cluster_errors=[]\n",
    "for cluster_num in range(2,12):\n",
    "    model = KMeans(n_clusters=cluster_num,random_state=123) #state for centroids\n",
    "    model = model.fit(input_for_segmentation)\n",
    "    \n",
    "    cluster_errors.append(model.inertia_)\n",
    "df = pd.DataFrame({\"num_clusters\":range(2,12),\"cluster_error\":cluster_errors})"
   ]
  },
  {
   "cell_type": "code",
   "execution_count": 123,
   "id": "63016d46",
   "metadata": {
    "scrolled": true
   },
   "outputs": [
    {
     "data": {
      "image/png": "[encoded data removed]",
      "text/plain": [
       "<Figure size 1080x360 with 1 Axes>"
      ]
     },
     "metadata": {},
     "output_type": "display_data"
    }
   ],
   "source": [
    "plt.figure(figsize=(15,5))\n",
    "df.cluster_error.plot()\n",
    "plt.show()"
   ]
  },
  {
   "cell_type": "code",
   "execution_count": 124,
   "id": "86ded598",
   "metadata": {},
   "outputs": [],
   "source": [
    "# It can be seen froom the curve that the inertia is is not increasing that rapidely after the 4 segments so we can take\n",
    "# 4 or 5 segments for profiling the customers"
   ]
  },
  {
   "cell_type": "code",
   "execution_count": 125,
   "id": "3d8ef2fd",
   "metadata": {},
   "outputs": [],
   "source": [
    "km_3 = KMeans(n_clusters=3,random_state=123).fit(input_for_segmentation)\n",
    "km_4 = KMeans(n_clusters=4,random_state=123).fit(input_for_segmentation)\n",
    "km_5 = KMeans(n_clusters=5,random_state=123).fit(input_for_segmentation)\n",
    "km_6 = KMeans(n_clusters=6,random_state=123).fit(input_for_segmentation)\n",
    "km_7 = KMeans(n_clusters=7,random_state=123).fit(input_for_segmentation)\n",
    "km_8 = KMeans(n_clusters=8,random_state=123).fit(input_for_segmentation)"
   ]
  },
  {
   "cell_type": "code",
   "execution_count": 126,
   "id": "6debbb32",
   "metadata": {},
   "outputs": [],
   "source": [
    "## lets add thes to a dataframe to analyse them\n",
    "profiling_df  = final_df.copy()"
   ]
  },
  {
   "cell_type": "code",
   "execution_count": 127,
   "id": "fbbaedc7",
   "metadata": {},
   "outputs": [],
   "source": [
    "kmeans_df[\"cluster3\"] = km_3.labels_\n",
    "kmeans_df[\"cluster4\"] = km_4.labels_\n",
    "kmeans_df[\"cluster5\"] = km_5.labels_\n",
    "kmeans_df[\"cluster6\"] = km_6.labels_\n",
    "kmeans_df[\"cluster7\"] = km_7.labels_\n",
    "kmeans_df[\"cluster8\"] = km_8.labels_"
   ]
  },
  {
   "cell_type": "code",
   "execution_count": 128,
   "id": "bff5b069",
   "metadata": {},
   "outputs": [
    {
     "data": {
      "text/plain": [
       "0    28805\n",
       "3    10590\n",
       "2     7095\n",
       "1     3276\n",
       "5     1853\n",
       "4     1305\n",
       "Name: cluster6, dtype: int64"
      ]
     },
     "execution_count": 128,
     "metadata": {},
     "output_type": "execute_result"
    }
   ],
   "source": [
    "kmeans_df.cluster6.value_counts()"
   ]
  },
  {
   "cell_type": "markdown",
   "id": "9a58eeae",
   "metadata": {},
   "source": [
    "### Profiling"
   ]
  },
  {
   "cell_type": "code",
   "execution_count": 129,
   "id": "a0cbc334",
   "metadata": {},
   "outputs": [],
   "source": [
    "profiling_output = pd.concat([kmeans_df.apply(np.mean).T,kmeans_df.groupby(\"cluster3\").mean().T,kmeans_df.groupby(\"cluster4\").mean().T,\n",
    "kmeans_df.groupby(\"cluster5\").mean().T,kmeans_df.groupby(\"cluster6\").mean().T,kmeans_df.groupby(\"cluster7\").mean().T,kmeans_df.groupby(\"cluster8\").mean().T],axis=1)"
   ]
  },
  {
   "cell_type": "code",
   "execution_count": 130,
   "id": "521dd061",
   "metadata": {},
   "outputs": [],
   "source": [
    "size=pd.concat([pd.Series(kmeans_df.cluster3.size), pd.Series.sort_index(kmeans_df.cluster3.value_counts()), pd.Series.sort_index(kmeans_df.cluster4.value_counts()),\n",
    "           pd.Series.sort_index(kmeans_df.cluster5.value_counts()), pd.Series.sort_index(kmeans_df.cluster6.value_counts()),\n",
    "           pd.Series.sort_index(kmeans_df.cluster7.value_counts()), pd.Series.sort_index(kmeans_df.cluster8.value_counts())])"
   ]
  },
  {
   "cell_type": "code",
   "execution_count": 131,
   "id": "616a21d1",
   "metadata": {},
   "outputs": [],
   "source": [
    "Seg_size=pd.DataFrame(size, columns=['Seg_size'])\n",
    "Seg_Pct = pd.DataFrame(size/kmeans_df.cluster3.size, columns=['Seg_Pct'])"
   ]
  },
  {
   "cell_type": "code",
   "execution_count": 132,
   "id": "eb817d9a",
   "metadata": {},
   "outputs": [],
   "source": [
    "profiling_output_final=pd.concat([Seg_size.T, Seg_Pct.T, profiling_output], axis=0)"
   ]
  },
  {
   "cell_type": "code",
   "execution_count": 133,
   "id": "8b864b1c",
   "metadata": {},
   "outputs": [],
   "source": [
    "profiling_output_final.columns = ['Overall', 'KM3_1', 'KM3_2', 'KM3_3',\n",
    "                                'KM4_1', 'KM4_2', 'KM4_3', 'KM4_4',\n",
    "                                'KM5_1', 'KM5_2', 'KM5_3', 'KM5_4', 'KM5_5',\n",
    "                                'KM6_1', 'KM6_2', 'KM6_3', 'KM6_4', 'KM6_5','KM6_6',\n",
    "                                'KM7_1', 'KM7_2', 'KM7_3', 'KM7_4', 'KM7_5','KM7_6','KM7_7',\n",
    "                                'KM8_1', 'KM8_2', 'KM8_3', 'KM8_4', 'KM8_5','KM8_6','KM8_7','KM8_8',]"
   ]
  },
  {
   "cell_type": "code",
   "execution_count": 134,
   "id": "461242c2",
   "metadata": {},
   "outputs": [],
   "source": [
    "profiling_output_final.to_csv(\"profiling_output1.csv\")"
   ]
  },
  {
   "cell_type": "markdown",
   "id": "5e059f76",
   "metadata": {},
   "source": [
    "### Inference"
   ]
  },
  {
   "cell_type": "markdown",
   "id": "64cda18b",
   "metadata": {},
   "source": [
    "We can use 6 segments of the customers\n",
    "1. Label 1 and label 4 can be said to be premium customers the constitute 8% of the total customers and are good Quantity, Delivery_Charges, Average_Price and Invoice_Value. Actually their invoice value is way higher than the average invoice value. This implies that they are high revenue generating customers. If a person in this category has low retention then they can be enticed with advertisements. Label 4 Customes have very high Invoice_Value but they are also minimal in numbers only 2% of the customers\n",
    "\n",
    "2. Here label 3 and label 5 Customers are good and similar in Average_Price and InvoiceValue and are bad performer in Delivery_Charges, Quantity and GST. They are 24% of the total number of customers. We can segment them as Gold customers because they are also the one that have higher Invoice_Value\n",
    "\n",
    "3. label 2 customers are higher than average in quantity purchased and Delivery charges but have a average Invoice Value.\n",
    "\n",
    "4. label 0 customers are the customers that can be called standard customers they are 54% of the total number of customers and are lower than average in Quantity, Average_Price and Invoice_Value\n"
   ]
  },
  {
   "cell_type": "raw",
   "id": "e9a33253",
   "metadata": {},
   "source": []
  },
  {
   "cell_type": "raw",
   "id": "c3ea65a6",
   "metadata": {},
   "source": []
  },
  {
   "cell_type": "markdown",
   "id": "b2db37e6",
   "metadata": {},
   "source": [
    "# Cross-Selling(Recommendation)"
   ]
  },
  {
   "cell_type": "markdown",
   "id": "3a2278a0",
   "metadata": {},
   "source": [
    "We will use Market Basket Analysis approach for Cross selling of products."
   ]
  },
  {
   "cell_type": "code",
   "execution_count": 135,
   "id": "ffb2a757",
   "metadata": {},
   "outputs": [],
   "source": [
    "df_mba = final_df[[\"CustomerID\",\"Product_Description\",\"Quantity\"]]"
   ]
  },
  {
   "cell_type": "code",
   "execution_count": 136,
   "id": "58490673",
   "metadata": {},
   "outputs": [],
   "source": [
    "def check(x):\n",
    "    if x>0:\n",
    "        return 1\n",
    "    else:\n",
    "        return 0 \n",
    "input_data = df_mba.pivot_table(columns = \"Product_Description\",index = \"CustomerID\",values=\"Quantity\").fillna(0).applymap(check)"
   ]
  },
  {
   "cell_type": "code",
   "execution_count": 137,
   "id": "58b215f2",
   "metadata": {},
   "outputs": [
    {
     "data": {
      "text/html": [
       "<div>\n",
       "<style scoped>\n",
       "    .dataframe tbody tr th:only-of-type {\n",
       "        vertical-align: middle;\n",
       "    }\n",
       "\n",
       "    .dataframe tbody tr th {\n",
       "        vertical-align: top;\n",
       "    }\n",
       "\n",
       "    .dataframe thead th {\n",
       "        text-align: right;\n",
       "    }\n",
       "</style>\n",
       "<table border=\"1\" class=\"dataframe\">\n",
       "  <thead>\n",
       "    <tr style=\"text-align: right;\">\n",
       "      <th>Product_Description</th>\n",
       "      <th>1 oz Hand Sanitizer</th>\n",
       "      <th>20 oz Stainless Steel Insulated Tumbler</th>\n",
       "      <th>22 oz Android Bottle</th>\n",
       "      <th>22 oz YouTube Bottle Infuser</th>\n",
       "      <th>23 oz Wide Mouth Sport Bottle</th>\n",
       "      <th>24 oz YouTube Sergeant Stripe Bottle</th>\n",
       "      <th>25L Classic Rucksack</th>\n",
       "      <th>26 oz Double Wall Insulated Bottle</th>\n",
       "      <th>7&amp;quot; Dog Frisbee</th>\n",
       "      <th>8 pc Android Sticker Sheet</th>\n",
       "      <th>...</th>\n",
       "      <th>YouTube Twill Cap</th>\n",
       "      <th>YouTube Women's Favorite Tee White</th>\n",
       "      <th>YouTube Women's Fleece Hoodie Black</th>\n",
       "      <th>YouTube Women's Racer Back Tank Black</th>\n",
       "      <th>YouTube Women's Short Sleeve Hero Tee Charcoal</th>\n",
       "      <th>YouTube Women's Short Sleeve Tri-blend Badge Tee Charcoal</th>\n",
       "      <th>YouTube Women's Short Sleeve Tri-blend Badge Tee Grey</th>\n",
       "      <th>YouTube Womens 3/4 Sleeve Baseball Raglan White/Black</th>\n",
       "      <th>YouTube Wool Heather Cap Heather/Black</th>\n",
       "      <th>YouTube Youth Short Sleeve Tee Red</th>\n",
       "    </tr>\n",
       "    <tr>\n",
       "      <th>CustomerID</th>\n",
       "      <th></th>\n",
       "      <th></th>\n",
       "      <th></th>\n",
       "      <th></th>\n",
       "      <th></th>\n",
       "      <th></th>\n",
       "      <th></th>\n",
       "      <th></th>\n",
       "      <th></th>\n",
       "      <th></th>\n",
       "      <th></th>\n",
       "      <th></th>\n",
       "      <th></th>\n",
       "      <th></th>\n",
       "      <th></th>\n",
       "      <th></th>\n",
       "      <th></th>\n",
       "      <th></th>\n",
       "      <th></th>\n",
       "      <th></th>\n",
       "      <th></th>\n",
       "    </tr>\n",
       "  </thead>\n",
       "  <tbody>\n",
       "    <tr>\n",
       "      <th>12346</th>\n",
       "      <td>0</td>\n",
       "      <td>0</td>\n",
       "      <td>0</td>\n",
       "      <td>0</td>\n",
       "      <td>0</td>\n",
       "      <td>0</td>\n",
       "      <td>0</td>\n",
       "      <td>0</td>\n",
       "      <td>0</td>\n",
       "      <td>0</td>\n",
       "      <td>...</td>\n",
       "      <td>0</td>\n",
       "      <td>0</td>\n",
       "      <td>0</td>\n",
       "      <td>0</td>\n",
       "      <td>0</td>\n",
       "      <td>0</td>\n",
       "      <td>0</td>\n",
       "      <td>0</td>\n",
       "      <td>0</td>\n",
       "      <td>0</td>\n",
       "    </tr>\n",
       "    <tr>\n",
       "      <th>12347</th>\n",
       "      <td>0</td>\n",
       "      <td>0</td>\n",
       "      <td>0</td>\n",
       "      <td>0</td>\n",
       "      <td>0</td>\n",
       "      <td>1</td>\n",
       "      <td>0</td>\n",
       "      <td>0</td>\n",
       "      <td>0</td>\n",
       "      <td>0</td>\n",
       "      <td>...</td>\n",
       "      <td>0</td>\n",
       "      <td>0</td>\n",
       "      <td>0</td>\n",
       "      <td>0</td>\n",
       "      <td>0</td>\n",
       "      <td>1</td>\n",
       "      <td>0</td>\n",
       "      <td>0</td>\n",
       "      <td>0</td>\n",
       "      <td>0</td>\n",
       "    </tr>\n",
       "    <tr>\n",
       "      <th>12348</th>\n",
       "      <td>0</td>\n",
       "      <td>0</td>\n",
       "      <td>0</td>\n",
       "      <td>0</td>\n",
       "      <td>0</td>\n",
       "      <td>0</td>\n",
       "      <td>0</td>\n",
       "      <td>1</td>\n",
       "      <td>0</td>\n",
       "      <td>0</td>\n",
       "      <td>...</td>\n",
       "      <td>0</td>\n",
       "      <td>0</td>\n",
       "      <td>0</td>\n",
       "      <td>0</td>\n",
       "      <td>0</td>\n",
       "      <td>0</td>\n",
       "      <td>0</td>\n",
       "      <td>0</td>\n",
       "      <td>0</td>\n",
       "      <td>0</td>\n",
       "    </tr>\n",
       "    <tr>\n",
       "      <th>12350</th>\n",
       "      <td>0</td>\n",
       "      <td>0</td>\n",
       "      <td>0</td>\n",
       "      <td>0</td>\n",
       "      <td>0</td>\n",
       "      <td>0</td>\n",
       "      <td>0</td>\n",
       "      <td>0</td>\n",
       "      <td>0</td>\n",
       "      <td>0</td>\n",
       "      <td>...</td>\n",
       "      <td>0</td>\n",
       "      <td>0</td>\n",
       "      <td>0</td>\n",
       "      <td>0</td>\n",
       "      <td>0</td>\n",
       "      <td>0</td>\n",
       "      <td>0</td>\n",
       "      <td>0</td>\n",
       "      <td>0</td>\n",
       "      <td>0</td>\n",
       "    </tr>\n",
       "    <tr>\n",
       "      <th>12356</th>\n",
       "      <td>0</td>\n",
       "      <td>0</td>\n",
       "      <td>0</td>\n",
       "      <td>0</td>\n",
       "      <td>0</td>\n",
       "      <td>0</td>\n",
       "      <td>0</td>\n",
       "      <td>0</td>\n",
       "      <td>0</td>\n",
       "      <td>0</td>\n",
       "      <td>...</td>\n",
       "      <td>0</td>\n",
       "      <td>0</td>\n",
       "      <td>0</td>\n",
       "      <td>0</td>\n",
       "      <td>0</td>\n",
       "      <td>0</td>\n",
       "      <td>0</td>\n",
       "      <td>0</td>\n",
       "      <td>0</td>\n",
       "      <td>0</td>\n",
       "    </tr>\n",
       "  </tbody>\n",
       "</table>\n",
       "<p>5 rows × 404 columns</p>\n",
       "</div>"
      ],
      "text/plain": [
       "Product_Description  1 oz Hand Sanitizer  \\\n",
       "CustomerID                                 \n",
       "12346                                  0   \n",
       "12347                                  0   \n",
       "12348                                  0   \n",
       "12350                                  0   \n",
       "12356                                  0   \n",
       "\n",
       "Product_Description  20 oz Stainless Steel Insulated Tumbler  \\\n",
       "CustomerID                                                     \n",
       "12346                                                      0   \n",
       "12347                                                      0   \n",
       "12348                                                      0   \n",
       "12350                                                      0   \n",
       "12356                                                      0   \n",
       "\n",
       "Product_Description  22 oz Android Bottle  22 oz YouTube Bottle Infuser  \\\n",
       "CustomerID                                                                \n",
       "12346                                   0                             0   \n",
       "12347                                   0                             0   \n",
       "12348                                   0                             0   \n",
       "12350                                   0                             0   \n",
       "12356                                   0                             0   \n",
       "\n",
       "Product_Description  23 oz Wide Mouth Sport Bottle  \\\n",
       "CustomerID                                           \n",
       "12346                                            0   \n",
       "12347                                            0   \n",
       "12348                                            0   \n",
       "12350                                            0   \n",
       "12356                                            0   \n",
       "\n",
       "Product_Description  24 oz YouTube Sergeant Stripe Bottle  \\\n",
       "CustomerID                                                  \n",
       "12346                                                   0   \n",
       "12347                                                   1   \n",
       "12348                                                   0   \n",
       "12350                                                   0   \n",
       "12356                                                   0   \n",
       "\n",
       "Product_Description  25L Classic Rucksack  26 oz Double Wall Insulated Bottle  \\\n",
       "CustomerID                                                                      \n",
       "12346                                   0                                   0   \n",
       "12347                                   0                                   0   \n",
       "12348                                   0                                   1   \n",
       "12350                                   0                                   0   \n",
       "12356                                   0                                   0   \n",
       "\n",
       "Product_Description  7&quot; Dog Frisbee  8 pc Android Sticker Sheet  ...  \\\n",
       "CustomerID                                                            ...   \n",
       "12346                                  0                           0  ...   \n",
       "12347                                  0                           0  ...   \n",
       "12348                                  0                           0  ...   \n",
       "12350                                  0                           0  ...   \n",
       "12356                                  0                           0  ...   \n",
       "\n",
       "Product_Description  YouTube Twill Cap  YouTube Women's Favorite Tee White  \\\n",
       "CustomerID                                                                   \n",
       "12346                                0                                   0   \n",
       "12347                                0                                   0   \n",
       "12348                                0                                   0   \n",
       "12350                                0                                   0   \n",
       "12356                                0                                   0   \n",
       "\n",
       "Product_Description  YouTube Women's Fleece Hoodie Black  \\\n",
       "CustomerID                                                 \n",
       "12346                                                  0   \n",
       "12347                                                  0   \n",
       "12348                                                  0   \n",
       "12350                                                  0   \n",
       "12356                                                  0   \n",
       "\n",
       "Product_Description  YouTube Women's Racer Back Tank Black  \\\n",
       "CustomerID                                                   \n",
       "12346                                                    0   \n",
       "12347                                                    0   \n",
       "12348                                                    0   \n",
       "12350                                                    0   \n",
       "12356                                                    0   \n",
       "\n",
       "Product_Description  YouTube Women's Short Sleeve Hero Tee Charcoal  \\\n",
       "CustomerID                                                            \n",
       "12346                                                             0   \n",
       "12347                                                             0   \n",
       "12348                                                             0   \n",
       "12350                                                             0   \n",
       "12356                                                             0   \n",
       "\n",
       "Product_Description  YouTube Women's Short Sleeve Tri-blend Badge Tee Charcoal  \\\n",
       "CustomerID                                                                       \n",
       "12346                                                                0           \n",
       "12347                                                                1           \n",
       "12348                                                                0           \n",
       "12350                                                                0           \n",
       "12356                                                                0           \n",
       "\n",
       "Product_Description  YouTube Women's Short Sleeve Tri-blend Badge Tee Grey  \\\n",
       "CustomerID                                                                   \n",
       "12346                                                                0       \n",
       "12347                                                                0       \n",
       "12348                                                                0       \n",
       "12350                                                                0       \n",
       "12356                                                                0       \n",
       "\n",
       "Product_Description  YouTube Womens 3/4 Sleeve Baseball Raglan White/Black  \\\n",
       "CustomerID                                                                   \n",
       "12346                                                                0       \n",
       "12347                                                                0       \n",
       "12348                                                                0       \n",
       "12350                                                                0       \n",
       "12356                                                                0       \n",
       "\n",
       "Product_Description  YouTube Wool Heather Cap Heather/Black  \\\n",
       "CustomerID                                                    \n",
       "12346                                                     0   \n",
       "12347                                                     0   \n",
       "12348                                                     0   \n",
       "12350                                                     0   \n",
       "12356                                                     0   \n",
       "\n",
       "Product_Description  YouTube Youth Short Sleeve Tee Red  \n",
       "CustomerID                                               \n",
       "12346                                                 0  \n",
       "12347                                                 0  \n",
       "12348                                                 0  \n",
       "12350                                                 0  \n",
       "12356                                                 0  \n",
       "\n",
       "[5 rows x 404 columns]"
      ]
     },
     "execution_count": 137,
     "metadata": {},
     "output_type": "execute_result"
    }
   ],
   "source": [
    "input_data.head()"
   ]
  },
  {
   "cell_type": "markdown",
   "id": "15cccb0f",
   "metadata": {},
   "source": [
    "## Model"
   ]
  },
  {
   "cell_type": "code",
   "execution_count": 138,
   "id": "32e906f1",
   "metadata": {},
   "outputs": [],
   "source": [
    "frequent_itemset = apriori(input_data,use_colnames=True,min_support=0.07)"
   ]
  },
  {
   "cell_type": "code",
   "execution_count": 139,
   "id": "0c47f6b8",
   "metadata": {},
   "outputs": [
    {
     "data": {
      "text/html": [
       "<div>\n",
       "<style scoped>\n",
       "    .dataframe tbody tr th:only-of-type {\n",
       "        vertical-align: middle;\n",
       "    }\n",
       "\n",
       "    .dataframe tbody tr th {\n",
       "        vertical-align: top;\n",
       "    }\n",
       "\n",
       "    .dataframe thead th {\n",
       "        text-align: right;\n",
       "    }\n",
       "</style>\n",
       "<table border=\"1\" class=\"dataframe\">\n",
       "  <thead>\n",
       "    <tr style=\"text-align: right;\">\n",
       "      <th></th>\n",
       "      <th>support</th>\n",
       "      <th>itemsets</th>\n",
       "    </tr>\n",
       "  </thead>\n",
       "  <tbody>\n",
       "    <tr>\n",
       "      <th>0</th>\n",
       "      <td>0.076294</td>\n",
       "      <td>(1 oz Hand Sanitizer)</td>\n",
       "    </tr>\n",
       "    <tr>\n",
       "      <th>1</th>\n",
       "      <td>0.082425</td>\n",
       "      <td>(22 oz Android Bottle)</td>\n",
       "    </tr>\n",
       "    <tr>\n",
       "      <th>2</th>\n",
       "      <td>0.076975</td>\n",
       "      <td>(22 oz YouTube Bottle Infuser)</td>\n",
       "    </tr>\n",
       "    <tr>\n",
       "      <th>3</th>\n",
       "      <td>0.198910</td>\n",
       "      <td>(26 oz Double Wall Insulated Bottle)</td>\n",
       "    </tr>\n",
       "    <tr>\n",
       "      <th>4</th>\n",
       "      <td>0.153951</td>\n",
       "      <td>(8 pc Android Sticker Sheet)</td>\n",
       "    </tr>\n",
       "  </tbody>\n",
       "</table>\n",
       "</div>"
      ],
      "text/plain": [
       "    support                              itemsets\n",
       "0  0.076294                 (1 oz Hand Sanitizer)\n",
       "1  0.082425                (22 oz Android Bottle)\n",
       "2  0.076975        (22 oz YouTube Bottle Infuser)\n",
       "3  0.198910  (26 oz Double Wall Insulated Bottle)\n",
       "4  0.153951          (8 pc Android Sticker Sheet)"
      ]
     },
     "execution_count": 139,
     "metadata": {},
     "output_type": "execute_result"
    }
   ],
   "source": [
    "frequent_itemset.head()"
   ]
  },
  {
   "cell_type": "markdown",
   "id": "58a10017",
   "metadata": {},
   "source": [
    "## Rules"
   ]
  },
  {
   "cell_type": "code",
   "execution_count": 140,
   "id": "4ae23f2d",
   "metadata": {},
   "outputs": [],
   "source": [
    "rules = association_rules(frequent_itemset,min_threshold=1,metric=\"lift\")"
   ]
  },
  {
   "cell_type": "code",
   "execution_count": 141,
   "id": "f06ffbae",
   "metadata": {},
   "outputs": [
    {
     "data": {
      "text/html": [
       "<div>\n",
       "<style scoped>\n",
       "    .dataframe tbody tr th:only-of-type {\n",
       "        vertical-align: middle;\n",
       "    }\n",
       "\n",
       "    .dataframe tbody tr th {\n",
       "        vertical-align: top;\n",
       "    }\n",
       "\n",
       "    .dataframe thead th {\n",
       "        text-align: right;\n",
       "    }\n",
       "</style>\n",
       "<table border=\"1\" class=\"dataframe\">\n",
       "  <thead>\n",
       "    <tr style=\"text-align: right;\">\n",
       "      <th></th>\n",
       "      <th>antecedents</th>\n",
       "      <th>consequents</th>\n",
       "      <th>antecedent support</th>\n",
       "      <th>consequent support</th>\n",
       "      <th>support</th>\n",
       "      <th>confidence</th>\n",
       "      <th>lift</th>\n",
       "      <th>leverage</th>\n",
       "      <th>conviction</th>\n",
       "    </tr>\n",
       "  </thead>\n",
       "  <tbody>\n",
       "    <tr>\n",
       "      <th>0</th>\n",
       "      <td>(Nest Cam Indoor Security Camera - USA)</td>\n",
       "      <td>(22 oz Android Bottle)</td>\n",
       "      <td>0.649183</td>\n",
       "      <td>0.082425</td>\n",
       "      <td>0.074251</td>\n",
       "      <td>0.114376</td>\n",
       "      <td>1.387632</td>\n",
       "      <td>0.020742</td>\n",
       "      <td>1.036077</td>\n",
       "    </tr>\n",
       "    <tr>\n",
       "      <th>1</th>\n",
       "      <td>(22 oz Android Bottle)</td>\n",
       "      <td>(Nest Cam Indoor Security Camera - USA)</td>\n",
       "      <td>0.082425</td>\n",
       "      <td>0.649183</td>\n",
       "      <td>0.074251</td>\n",
       "      <td>0.900826</td>\n",
       "      <td>1.387632</td>\n",
       "      <td>0.020742</td>\n",
       "      <td>3.537409</td>\n",
       "    </tr>\n",
       "    <tr>\n",
       "      <th>2</th>\n",
       "      <td>(Nest Cam Outdoor Security Camera - USA)</td>\n",
       "      <td>(22 oz Android Bottle)</td>\n",
       "      <td>0.647139</td>\n",
       "      <td>0.082425</td>\n",
       "      <td>0.071526</td>\n",
       "      <td>0.110526</td>\n",
       "      <td>1.340931</td>\n",
       "      <td>0.018185</td>\n",
       "      <td>1.031593</td>\n",
       "    </tr>\n",
       "    <tr>\n",
       "      <th>3</th>\n",
       "      <td>(22 oz Android Bottle)</td>\n",
       "      <td>(Nest Cam Outdoor Security Camera - USA)</td>\n",
       "      <td>0.082425</td>\n",
       "      <td>0.647139</td>\n",
       "      <td>0.071526</td>\n",
       "      <td>0.867769</td>\n",
       "      <td>1.340931</td>\n",
       "      <td>0.018185</td>\n",
       "      <td>2.668512</td>\n",
       "    </tr>\n",
       "    <tr>\n",
       "      <th>4</th>\n",
       "      <td>(Nest Learning Thermostat 3rd Gen-USA - Stainl...</td>\n",
       "      <td>(22 oz Android Bottle)</td>\n",
       "      <td>0.648501</td>\n",
       "      <td>0.082425</td>\n",
       "      <td>0.070163</td>\n",
       "      <td>0.108193</td>\n",
       "      <td>1.312626</td>\n",
       "      <td>0.016711</td>\n",
       "      <td>1.028894</td>\n",
       "    </tr>\n",
       "  </tbody>\n",
       "</table>\n",
       "</div>"
      ],
      "text/plain": [
       "                                         antecedents  \\\n",
       "0            (Nest Cam Indoor Security Camera - USA)   \n",
       "1                             (22 oz Android Bottle)   \n",
       "2           (Nest Cam Outdoor Security Camera - USA)   \n",
       "3                             (22 oz Android Bottle)   \n",
       "4  (Nest Learning Thermostat 3rd Gen-USA - Stainl...   \n",
       "\n",
       "                                consequents  antecedent support  \\\n",
       "0                    (22 oz Android Bottle)            0.649183   \n",
       "1   (Nest Cam Indoor Security Camera - USA)            0.082425   \n",
       "2                    (22 oz Android Bottle)            0.647139   \n",
       "3  (Nest Cam Outdoor Security Camera - USA)            0.082425   \n",
       "4                    (22 oz Android Bottle)            0.648501   \n",
       "\n",
       "   consequent support   support  confidence      lift  leverage  conviction  \n",
       "0            0.082425  0.074251    0.114376  1.387632  0.020742    1.036077  \n",
       "1            0.649183  0.074251    0.900826  1.387632  0.020742    3.537409  \n",
       "2            0.082425  0.071526    0.110526  1.340931  0.018185    1.031593  \n",
       "3            0.647139  0.071526    0.867769  1.340931  0.018185    2.668512  \n",
       "4            0.082425  0.070163    0.108193  1.312626  0.016711    1.028894  "
      ]
     },
     "execution_count": 141,
     "metadata": {},
     "output_type": "execute_result"
    }
   ],
   "source": [
    "rules.head()"
   ]
  },
  {
   "cell_type": "code",
   "execution_count": 142,
   "id": "5b9d1a0c",
   "metadata": {
    "scrolled": true
   },
   "outputs": [
    {
     "data": {
      "text/html": [
       "<div>\n",
       "<style scoped>\n",
       "    .dataframe tbody tr th:only-of-type {\n",
       "        vertical-align: middle;\n",
       "    }\n",
       "\n",
       "    .dataframe tbody tr th {\n",
       "        vertical-align: top;\n",
       "    }\n",
       "\n",
       "    .dataframe thead th {\n",
       "        text-align: right;\n",
       "    }\n",
       "</style>\n",
       "<table border=\"1\" class=\"dataframe\">\n",
       "  <thead>\n",
       "    <tr style=\"text-align: right;\">\n",
       "      <th></th>\n",
       "      <th>antecedents</th>\n",
       "      <th>consequents</th>\n",
       "      <th>antecedent support</th>\n",
       "      <th>consequent support</th>\n",
       "      <th>support</th>\n",
       "      <th>confidence</th>\n",
       "      <th>lift</th>\n",
       "      <th>leverage</th>\n",
       "      <th>conviction</th>\n",
       "    </tr>\n",
       "  </thead>\n",
       "  <tbody>\n",
       "    <tr>\n",
       "      <th>51510</th>\n",
       "      <td>(Google Laptop and Cell Phone Stickers, Nest L...</td>\n",
       "      <td>(Nest Learning Thermostat 3rd Gen-USA - Stainl...</td>\n",
       "      <td>0.070163</td>\n",
       "      <td>0.648501</td>\n",
       "      <td>0.070163</td>\n",
       "      <td>1.0</td>\n",
       "      <td>1.542017</td>\n",
       "      <td>0.024662</td>\n",
       "      <td>inf</td>\n",
       "    </tr>\n",
       "    <tr>\n",
       "      <th>34973</th>\n",
       "      <td>(Google Laptop and Cell Phone Stickers, Nest P...</td>\n",
       "      <td>(Nest Learning Thermostat 3rd Gen-USA - Stainl...</td>\n",
       "      <td>0.072888</td>\n",
       "      <td>0.648501</td>\n",
       "      <td>0.072888</td>\n",
       "      <td>1.0</td>\n",
       "      <td>1.542017</td>\n",
       "      <td>0.025620</td>\n",
       "      <td>inf</td>\n",
       "    </tr>\n",
       "    <tr>\n",
       "      <th>42744</th>\n",
       "      <td>(Nest Cam Outdoor Security Camera - USA, Nest ...</td>\n",
       "      <td>(Nest Cam Indoor Security Camera - USA)</td>\n",
       "      <td>0.074932</td>\n",
       "      <td>0.649183</td>\n",
       "      <td>0.074932</td>\n",
       "      <td>1.0</td>\n",
       "      <td>1.540399</td>\n",
       "      <td>0.026287</td>\n",
       "      <td>inf</td>\n",
       "    </tr>\n",
       "    <tr>\n",
       "      <th>55417</th>\n",
       "      <td>(Google Laptop and Cell Phone Stickers, Nest P...</td>\n",
       "      <td>(Nest Learning Thermostat 3rd Gen-USA - Stainl...</td>\n",
       "      <td>0.071526</td>\n",
       "      <td>0.648501</td>\n",
       "      <td>0.071526</td>\n",
       "      <td>1.0</td>\n",
       "      <td>1.542017</td>\n",
       "      <td>0.025141</td>\n",
       "      <td>inf</td>\n",
       "    </tr>\n",
       "    <tr>\n",
       "      <th>66233</th>\n",
       "      <td>(Nest Protect Smoke + CO White Battery Alarm-U...</td>\n",
       "      <td>(Nest Cam Indoor Security Camera - USA)</td>\n",
       "      <td>0.075613</td>\n",
       "      <td>0.649183</td>\n",
       "      <td>0.075613</td>\n",
       "      <td>1.0</td>\n",
       "      <td>1.540399</td>\n",
       "      <td>0.026526</td>\n",
       "      <td>inf</td>\n",
       "    </tr>\n",
       "    <tr>\n",
       "      <th>41903</th>\n",
       "      <td>(Nest Cam IQ - USA, Nest Protect Smoke + CO Wh...</td>\n",
       "      <td>(Nest Cam Indoor Security Camera - USA)</td>\n",
       "      <td>0.071526</td>\n",
       "      <td>0.649183</td>\n",
       "      <td>0.071526</td>\n",
       "      <td>1.0</td>\n",
       "      <td>1.540399</td>\n",
       "      <td>0.025093</td>\n",
       "      <td>inf</td>\n",
       "    </tr>\n",
       "    <tr>\n",
       "      <th>41393</th>\n",
       "      <td>(Nest Learning Thermostat 3rd Gen-USA - White,...</td>\n",
       "      <td>(Nest Cam Indoor Security Camera - USA)</td>\n",
       "      <td>0.070845</td>\n",
       "      <td>0.649183</td>\n",
       "      <td>0.070845</td>\n",
       "      <td>1.0</td>\n",
       "      <td>1.540399</td>\n",
       "      <td>0.024854</td>\n",
       "      <td>inf</td>\n",
       "    </tr>\n",
       "    <tr>\n",
       "      <th>32304</th>\n",
       "      <td>(Nest Cam Outdoor Security Camera - USA, Googl...</td>\n",
       "      <td>(Nest Cam Indoor Security Camera - USA)</td>\n",
       "      <td>0.076975</td>\n",
       "      <td>0.649183</td>\n",
       "      <td>0.076975</td>\n",
       "      <td>1.0</td>\n",
       "      <td>1.540399</td>\n",
       "      <td>0.027004</td>\n",
       "      <td>inf</td>\n",
       "    </tr>\n",
       "    <tr>\n",
       "      <th>57650</th>\n",
       "      <td>(Nest Protect Smoke + CO White Battery Alarm-U...</td>\n",
       "      <td>(Nest Cam Indoor Security Camera - USA)</td>\n",
       "      <td>0.080381</td>\n",
       "      <td>0.649183</td>\n",
       "      <td>0.080381</td>\n",
       "      <td>1.0</td>\n",
       "      <td>1.540399</td>\n",
       "      <td>0.028199</td>\n",
       "      <td>inf</td>\n",
       "    </tr>\n",
       "    <tr>\n",
       "      <th>20493</th>\n",
       "      <td>(Nest Protect Smoke + CO White Wired Alarm-USA...</td>\n",
       "      <td>(Nest Cam Indoor Security Camera - USA)</td>\n",
       "      <td>0.091281</td>\n",
       "      <td>0.649183</td>\n",
       "      <td>0.091281</td>\n",
       "      <td>1.0</td>\n",
       "      <td>1.540399</td>\n",
       "      <td>0.032023</td>\n",
       "      <td>inf</td>\n",
       "    </tr>\n",
       "    <tr>\n",
       "      <th>30144</th>\n",
       "      <td>(Nest Cam Outdoor Security Camera - USA, Nest ...</td>\n",
       "      <td>(Nest Cam Indoor Security Camera - USA)</td>\n",
       "      <td>0.074932</td>\n",
       "      <td>0.649183</td>\n",
       "      <td>0.074932</td>\n",
       "      <td>1.0</td>\n",
       "      <td>1.540399</td>\n",
       "      <td>0.026287</td>\n",
       "      <td>inf</td>\n",
       "    </tr>\n",
       "    <tr>\n",
       "      <th>58457</th>\n",
       "      <td>(Google Sunglasses, Nest Protect Smoke + CO Wh...</td>\n",
       "      <td>(Nest Cam Indoor Security Camera - USA)</td>\n",
       "      <td>0.087875</td>\n",
       "      <td>0.649183</td>\n",
       "      <td>0.087875</td>\n",
       "      <td>1.0</td>\n",
       "      <td>1.540399</td>\n",
       "      <td>0.030828</td>\n",
       "      <td>inf</td>\n",
       "    </tr>\n",
       "    <tr>\n",
       "      <th>58020</th>\n",
       "      <td>(Nest Learning Thermostat 3rd Gen-USA - White,...</td>\n",
       "      <td>(Nest Learning Thermostat 3rd Gen-USA - Stainl...</td>\n",
       "      <td>0.075613</td>\n",
       "      <td>0.648501</td>\n",
       "      <td>0.075613</td>\n",
       "      <td>1.0</td>\n",
       "      <td>1.542017</td>\n",
       "      <td>0.026578</td>\n",
       "      <td>inf</td>\n",
       "    </tr>\n",
       "    <tr>\n",
       "      <th>29124</th>\n",
       "      <td>(Nest Cam Outdoor Security Camera - USA, Nest ...</td>\n",
       "      <td>(Nest Cam Indoor Security Camera - USA)</td>\n",
       "      <td>0.072888</td>\n",
       "      <td>0.649183</td>\n",
       "      <td>0.072888</td>\n",
       "      <td>1.0</td>\n",
       "      <td>1.540399</td>\n",
       "      <td>0.025570</td>\n",
       "      <td>inf</td>\n",
       "    </tr>\n",
       "    <tr>\n",
       "      <th>64592</th>\n",
       "      <td>(Google Laptop and Cell Phone Stickers, Nest P...</td>\n",
       "      <td>(Nest Learning Thermostat 3rd Gen-USA - Stainl...</td>\n",
       "      <td>0.072207</td>\n",
       "      <td>0.648501</td>\n",
       "      <td>0.072207</td>\n",
       "      <td>1.0</td>\n",
       "      <td>1.542017</td>\n",
       "      <td>0.025381</td>\n",
       "      <td>inf</td>\n",
       "    </tr>\n",
       "    <tr>\n",
       "      <th>53435</th>\n",
       "      <td>(Nest Protect Smoke + CO White Battery Alarm-U...</td>\n",
       "      <td>(Nest Cam Indoor Security Camera - USA)</td>\n",
       "      <td>0.073569</td>\n",
       "      <td>0.649183</td>\n",
       "      <td>0.073569</td>\n",
       "      <td>1.0</td>\n",
       "      <td>1.540399</td>\n",
       "      <td>0.025809</td>\n",
       "      <td>inf</td>\n",
       "    </tr>\n",
       "    <tr>\n",
       "      <th>57092</th>\n",
       "      <td>(Nest Protect Smoke + CO White Battery Alarm-U...</td>\n",
       "      <td>(Nest Cam Indoor Security Camera - USA)</td>\n",
       "      <td>0.072207</td>\n",
       "      <td>0.649183</td>\n",
       "      <td>0.072207</td>\n",
       "      <td>1.0</td>\n",
       "      <td>1.540399</td>\n",
       "      <td>0.025332</td>\n",
       "      <td>inf</td>\n",
       "    </tr>\n",
       "    <tr>\n",
       "      <th>55479</th>\n",
       "      <td>(Google Laptop and Cell Phone Stickers, Nest P...</td>\n",
       "      <td>(Nest Learning Thermostat 3rd Gen-USA - Stainl...</td>\n",
       "      <td>0.072207</td>\n",
       "      <td>0.648501</td>\n",
       "      <td>0.072207</td>\n",
       "      <td>1.0</td>\n",
       "      <td>1.542017</td>\n",
       "      <td>0.025381</td>\n",
       "      <td>inf</td>\n",
       "    </tr>\n",
       "    <tr>\n",
       "      <th>37913</th>\n",
       "      <td>(Nest Protect Smoke + CO White Wired Alarm-USA...</td>\n",
       "      <td>(Nest Cam Indoor Security Camera - USA)</td>\n",
       "      <td>0.074932</td>\n",
       "      <td>0.649183</td>\n",
       "      <td>0.074932</td>\n",
       "      <td>1.0</td>\n",
       "      <td>1.540399</td>\n",
       "      <td>0.026287</td>\n",
       "      <td>inf</td>\n",
       "    </tr>\n",
       "    <tr>\n",
       "      <th>33623</th>\n",
       "      <td>(Nest Cam Indoor Security Camera - USA, Google...</td>\n",
       "      <td>(Nest Learning Thermostat 3rd Gen-USA - Stainl...</td>\n",
       "      <td>0.080381</td>\n",
       "      <td>0.648501</td>\n",
       "      <td>0.080381</td>\n",
       "      <td>1.0</td>\n",
       "      <td>1.542017</td>\n",
       "      <td>0.028254</td>\n",
       "      <td>inf</td>\n",
       "    </tr>\n",
       "  </tbody>\n",
       "</table>\n",
       "</div>"
      ],
      "text/plain": [
       "                                             antecedents  \\\n",
       "51510  (Google Laptop and Cell Phone Stickers, Nest L...   \n",
       "34973  (Google Laptop and Cell Phone Stickers, Nest P...   \n",
       "42744  (Nest Cam Outdoor Security Camera - USA, Nest ...   \n",
       "55417  (Google Laptop and Cell Phone Stickers, Nest P...   \n",
       "66233  (Nest Protect Smoke + CO White Battery Alarm-U...   \n",
       "41903  (Nest Cam IQ - USA, Nest Protect Smoke + CO Wh...   \n",
       "41393  (Nest Learning Thermostat 3rd Gen-USA - White,...   \n",
       "32304  (Nest Cam Outdoor Security Camera - USA, Googl...   \n",
       "57650  (Nest Protect Smoke + CO White Battery Alarm-U...   \n",
       "20493  (Nest Protect Smoke + CO White Wired Alarm-USA...   \n",
       "30144  (Nest Cam Outdoor Security Camera - USA, Nest ...   \n",
       "58457  (Google Sunglasses, Nest Protect Smoke + CO Wh...   \n",
       "58020  (Nest Learning Thermostat 3rd Gen-USA - White,...   \n",
       "29124  (Nest Cam Outdoor Security Camera - USA, Nest ...   \n",
       "64592  (Google Laptop and Cell Phone Stickers, Nest P...   \n",
       "53435  (Nest Protect Smoke + CO White Battery Alarm-U...   \n",
       "57092  (Nest Protect Smoke + CO White Battery Alarm-U...   \n",
       "55479  (Google Laptop and Cell Phone Stickers, Nest P...   \n",
       "37913  (Nest Protect Smoke + CO White Wired Alarm-USA...   \n",
       "33623  (Nest Cam Indoor Security Camera - USA, Google...   \n",
       "\n",
       "                                             consequents  antecedent support  \\\n",
       "51510  (Nest Learning Thermostat 3rd Gen-USA - Stainl...            0.070163   \n",
       "34973  (Nest Learning Thermostat 3rd Gen-USA - Stainl...            0.072888   \n",
       "42744            (Nest Cam Indoor Security Camera - USA)            0.074932   \n",
       "55417  (Nest Learning Thermostat 3rd Gen-USA - Stainl...            0.071526   \n",
       "66233            (Nest Cam Indoor Security Camera - USA)            0.075613   \n",
       "41903            (Nest Cam Indoor Security Camera - USA)            0.071526   \n",
       "41393            (Nest Cam Indoor Security Camera - USA)            0.070845   \n",
       "32304            (Nest Cam Indoor Security Camera - USA)            0.076975   \n",
       "57650            (Nest Cam Indoor Security Camera - USA)            0.080381   \n",
       "20493            (Nest Cam Indoor Security Camera - USA)            0.091281   \n",
       "30144            (Nest Cam Indoor Security Camera - USA)            0.074932   \n",
       "58457            (Nest Cam Indoor Security Camera - USA)            0.087875   \n",
       "58020  (Nest Learning Thermostat 3rd Gen-USA - Stainl...            0.075613   \n",
       "29124            (Nest Cam Indoor Security Camera - USA)            0.072888   \n",
       "64592  (Nest Learning Thermostat 3rd Gen-USA - Stainl...            0.072207   \n",
       "53435            (Nest Cam Indoor Security Camera - USA)            0.073569   \n",
       "57092            (Nest Cam Indoor Security Camera - USA)            0.072207   \n",
       "55479  (Nest Learning Thermostat 3rd Gen-USA - Stainl...            0.072207   \n",
       "37913            (Nest Cam Indoor Security Camera - USA)            0.074932   \n",
       "33623  (Nest Learning Thermostat 3rd Gen-USA - Stainl...            0.080381   \n",
       "\n",
       "       consequent support   support  confidence      lift  leverage  \\\n",
       "51510            0.648501  0.070163         1.0  1.542017  0.024662   \n",
       "34973            0.648501  0.072888         1.0  1.542017  0.025620   \n",
       "42744            0.649183  0.074932         1.0  1.540399  0.026287   \n",
       "55417            0.648501  0.071526         1.0  1.542017  0.025141   \n",
       "66233            0.649183  0.075613         1.0  1.540399  0.026526   \n",
       "41903            0.649183  0.071526         1.0  1.540399  0.025093   \n",
       "41393            0.649183  0.070845         1.0  1.540399  0.024854   \n",
       "32304            0.649183  0.076975         1.0  1.540399  0.027004   \n",
       "57650            0.649183  0.080381         1.0  1.540399  0.028199   \n",
       "20493            0.649183  0.091281         1.0  1.540399  0.032023   \n",
       "30144            0.649183  0.074932         1.0  1.540399  0.026287   \n",
       "58457            0.649183  0.087875         1.0  1.540399  0.030828   \n",
       "58020            0.648501  0.075613         1.0  1.542017  0.026578   \n",
       "29124            0.649183  0.072888         1.0  1.540399  0.025570   \n",
       "64592            0.648501  0.072207         1.0  1.542017  0.025381   \n",
       "53435            0.649183  0.073569         1.0  1.540399  0.025809   \n",
       "57092            0.649183  0.072207         1.0  1.540399  0.025332   \n",
       "55479            0.648501  0.072207         1.0  1.542017  0.025381   \n",
       "37913            0.649183  0.074932         1.0  1.540399  0.026287   \n",
       "33623            0.648501  0.080381         1.0  1.542017  0.028254   \n",
       "\n",
       "       conviction  \n",
       "51510         inf  \n",
       "34973         inf  \n",
       "42744         inf  \n",
       "55417         inf  \n",
       "66233         inf  \n",
       "41903         inf  \n",
       "41393         inf  \n",
       "32304         inf  \n",
       "57650         inf  \n",
       "20493         inf  \n",
       "30144         inf  \n",
       "58457         inf  \n",
       "58020         inf  \n",
       "29124         inf  \n",
       "64592         inf  \n",
       "53435         inf  \n",
       "57092         inf  \n",
       "55479         inf  \n",
       "37913         inf  \n",
       "33623         inf  "
      ]
     },
     "execution_count": 142,
     "metadata": {},
     "output_type": "execute_result"
    }
   ],
   "source": [
    "# These are the items sets where there is a high to low confidence \n",
    "# Here confidence is the probability that the consequent is bought given that the antecedent is already bought\n",
    "rules.sort_values(by='confidence', ascending=False )[:20]"
   ]
  },
  {
   "cell_type": "code",
   "execution_count": 143,
   "id": "512d9c6a",
   "metadata": {
    "scrolled": true
   },
   "outputs": [
    {
     "data": {
      "text/html": [
       "<div>\n",
       "<style scoped>\n",
       "    .dataframe tbody tr th:only-of-type {\n",
       "        vertical-align: middle;\n",
       "    }\n",
       "\n",
       "    .dataframe tbody tr th {\n",
       "        vertical-align: top;\n",
       "    }\n",
       "\n",
       "    .dataframe thead th {\n",
       "        text-align: right;\n",
       "    }\n",
       "</style>\n",
       "<table border=\"1\" class=\"dataframe\">\n",
       "  <thead>\n",
       "    <tr style=\"text-align: right;\">\n",
       "      <th></th>\n",
       "      <th>antecedents</th>\n",
       "      <th>consequents</th>\n",
       "      <th>antecedent support</th>\n",
       "      <th>consequent support</th>\n",
       "      <th>support</th>\n",
       "      <th>confidence</th>\n",
       "      <th>lift</th>\n",
       "      <th>leverage</th>\n",
       "      <th>conviction</th>\n",
       "    </tr>\n",
       "  </thead>\n",
       "  <tbody>\n",
       "    <tr>\n",
       "      <th>21464</th>\n",
       "      <td>(Google Sunglasses, Nest Secure Alarm System S...</td>\n",
       "      <td>(Nest Cam Indoor Security Camera - USA, Nest T...</td>\n",
       "      <td>0.085831</td>\n",
       "      <td>0.194142</td>\n",
       "      <td>0.070163</td>\n",
       "      <td>0.817460</td>\n",
       "      <td>4.210638</td>\n",
       "      <td>0.053500</td>\n",
       "      <td>4.414702</td>\n",
       "    </tr>\n",
       "    <tr>\n",
       "      <th>21856</th>\n",
       "      <td>(Google Sunglasses, Nest Secure Alarm System S...</td>\n",
       "      <td>(Nest Cam Outdoor Security Camera - USA, Nest ...</td>\n",
       "      <td>0.085831</td>\n",
       "      <td>0.185967</td>\n",
       "      <td>0.070845</td>\n",
       "      <td>0.825397</td>\n",
       "      <td>4.438398</td>\n",
       "      <td>0.054883</td>\n",
       "      <td>4.662187</td>\n",
       "    </tr>\n",
       "    <tr>\n",
       "      <th>22123</th>\n",
       "      <td>(Google Sunglasses, Nest Secure Alarm System S...</td>\n",
       "      <td>(Nest Learning Thermostat 3rd Gen-USA - Stainl...</td>\n",
       "      <td>0.085831</td>\n",
       "      <td>0.201635</td>\n",
       "      <td>0.071526</td>\n",
       "      <td>0.833333</td>\n",
       "      <td>4.132883</td>\n",
       "      <td>0.054219</td>\n",
       "      <td>4.790191</td>\n",
       "    </tr>\n",
       "    <tr>\n",
       "      <th>23968</th>\n",
       "      <td>(Nest Cam IQ - USA, Nest Secure Alarm System S...</td>\n",
       "      <td>(Nest Learning Thermostat 3rd Gen-USA - Stainl...</td>\n",
       "      <td>0.108311</td>\n",
       "      <td>0.201635</td>\n",
       "      <td>0.088556</td>\n",
       "      <td>0.817610</td>\n",
       "      <td>4.054904</td>\n",
       "      <td>0.066717</td>\n",
       "      <td>4.377243</td>\n",
       "    </tr>\n",
       "    <tr>\n",
       "      <th>25356</th>\n",
       "      <td>(Nest Protect Smoke + CO White Wired Alarm-USA...</td>\n",
       "      <td>(Nest Cam Indoor Security Camera - USA, Nest T...</td>\n",
       "      <td>0.110354</td>\n",
       "      <td>0.194142</td>\n",
       "      <td>0.089237</td>\n",
       "      <td>0.808642</td>\n",
       "      <td>4.165216</td>\n",
       "      <td>0.067813</td>\n",
       "      <td>4.211260</td>\n",
       "    </tr>\n",
       "    <tr>\n",
       "      <th>...</th>\n",
       "      <td>...</td>\n",
       "      <td>...</td>\n",
       "      <td>...</td>\n",
       "      <td>...</td>\n",
       "      <td>...</td>\n",
       "      <td>...</td>\n",
       "      <td>...</td>\n",
       "      <td>...</td>\n",
       "      <td>...</td>\n",
       "    </tr>\n",
       "    <tr>\n",
       "      <th>67752</th>\n",
       "      <td>(Nest Protect Smoke + CO White Battery Alarm-U...</td>\n",
       "      <td>(Nest Learning Thermostat 3rd Gen-USA - Stainl...</td>\n",
       "      <td>0.083787</td>\n",
       "      <td>0.201635</td>\n",
       "      <td>0.070163</td>\n",
       "      <td>0.837398</td>\n",
       "      <td>4.153043</td>\n",
       "      <td>0.053269</td>\n",
       "      <td>4.909946</td>\n",
       "    </tr>\n",
       "    <tr>\n",
       "      <th>67753</th>\n",
       "      <td>(Nest Protect Smoke + CO White Battery Alarm-U...</td>\n",
       "      <td>(Nest Cam Outdoor Security Camera - USA, Nest ...</td>\n",
       "      <td>0.085150</td>\n",
       "      <td>0.185967</td>\n",
       "      <td>0.070163</td>\n",
       "      <td>0.824000</td>\n",
       "      <td>4.430886</td>\n",
       "      <td>0.054328</td>\n",
       "      <td>4.625186</td>\n",
       "    </tr>\n",
       "    <tr>\n",
       "      <th>67758</th>\n",
       "      <td>(Nest Protect Smoke + CO White Battery Alarm-U...</td>\n",
       "      <td>(Nest Cam Indoor Security Camera - USA, Nest T...</td>\n",
       "      <td>0.083787</td>\n",
       "      <td>0.194142</td>\n",
       "      <td>0.070163</td>\n",
       "      <td>0.837398</td>\n",
       "      <td>4.313336</td>\n",
       "      <td>0.053897</td>\n",
       "      <td>4.956029</td>\n",
       "    </tr>\n",
       "    <tr>\n",
       "      <th>67771</th>\n",
       "      <td>(Nest Cam Indoor Security Camera - USA, Nest P...</td>\n",
       "      <td>(Nest Cam Outdoor Security Camera - USA, Nest ...</td>\n",
       "      <td>0.087193</td>\n",
       "      <td>0.173025</td>\n",
       "      <td>0.070163</td>\n",
       "      <td>0.804688</td>\n",
       "      <td>4.650714</td>\n",
       "      <td>0.055077</td>\n",
       "      <td>4.234114</td>\n",
       "    </tr>\n",
       "    <tr>\n",
       "      <th>67777</th>\n",
       "      <td>(Nest Cam Outdoor Security Camera - USA, Nest ...</td>\n",
       "      <td>(Nest Cam Indoor Security Camera - USA, Nest L...</td>\n",
       "      <td>0.085831</td>\n",
       "      <td>0.177112</td>\n",
       "      <td>0.070163</td>\n",
       "      <td>0.817460</td>\n",
       "      <td>4.615507</td>\n",
       "      <td>0.054962</td>\n",
       "      <td>4.507997</td>\n",
       "    </tr>\n",
       "  </tbody>\n",
       "</table>\n",
       "<p>108 rows × 9 columns</p>\n",
       "</div>"
      ],
      "text/plain": [
       "                                             antecedents  \\\n",
       "21464  (Google Sunglasses, Nest Secure Alarm System S...   \n",
       "21856  (Google Sunglasses, Nest Secure Alarm System S...   \n",
       "22123  (Google Sunglasses, Nest Secure Alarm System S...   \n",
       "23968  (Nest Cam IQ - USA, Nest Secure Alarm System S...   \n",
       "25356  (Nest Protect Smoke + CO White Wired Alarm-USA...   \n",
       "...                                                  ...   \n",
       "67752  (Nest Protect Smoke + CO White Battery Alarm-U...   \n",
       "67753  (Nest Protect Smoke + CO White Battery Alarm-U...   \n",
       "67758  (Nest Protect Smoke + CO White Battery Alarm-U...   \n",
       "67771  (Nest Cam Indoor Security Camera - USA, Nest P...   \n",
       "67777  (Nest Cam Outdoor Security Camera - USA, Nest ...   \n",
       "\n",
       "                                             consequents  antecedent support  \\\n",
       "21464  (Nest Cam Indoor Security Camera - USA, Nest T...            0.085831   \n",
       "21856  (Nest Cam Outdoor Security Camera - USA, Nest ...            0.085831   \n",
       "22123  (Nest Learning Thermostat 3rd Gen-USA - Stainl...            0.085831   \n",
       "23968  (Nest Learning Thermostat 3rd Gen-USA - Stainl...            0.108311   \n",
       "25356  (Nest Cam Indoor Security Camera - USA, Nest T...            0.110354   \n",
       "...                                                  ...                 ...   \n",
       "67752  (Nest Learning Thermostat 3rd Gen-USA - Stainl...            0.083787   \n",
       "67753  (Nest Cam Outdoor Security Camera - USA, Nest ...            0.085150   \n",
       "67758  (Nest Cam Indoor Security Camera - USA, Nest T...            0.083787   \n",
       "67771  (Nest Cam Outdoor Security Camera - USA, Nest ...            0.087193   \n",
       "67777  (Nest Cam Indoor Security Camera - USA, Nest L...            0.085831   \n",
       "\n",
       "       consequent support   support  confidence      lift  leverage  \\\n",
       "21464            0.194142  0.070163    0.817460  4.210638  0.053500   \n",
       "21856            0.185967  0.070845    0.825397  4.438398  0.054883   \n",
       "22123            0.201635  0.071526    0.833333  4.132883  0.054219   \n",
       "23968            0.201635  0.088556    0.817610  4.054904  0.066717   \n",
       "25356            0.194142  0.089237    0.808642  4.165216  0.067813   \n",
       "...                   ...       ...         ...       ...       ...   \n",
       "67752            0.201635  0.070163    0.837398  4.153043  0.053269   \n",
       "67753            0.185967  0.070163    0.824000  4.430886  0.054328   \n",
       "67758            0.194142  0.070163    0.837398  4.313336  0.053897   \n",
       "67771            0.173025  0.070163    0.804688  4.650714  0.055077   \n",
       "67777            0.177112  0.070163    0.817460  4.615507  0.054962   \n",
       "\n",
       "       conviction  \n",
       "21464    4.414702  \n",
       "21856    4.662187  \n",
       "22123    4.790191  \n",
       "23968    4.377243  \n",
       "25356    4.211260  \n",
       "...           ...  \n",
       "67752    4.909946  \n",
       "67753    4.625186  \n",
       "67758    4.956029  \n",
       "67771    4.234114  \n",
       "67777    4.507997  \n",
       "\n",
       "[108 rows x 9 columns]"
      ]
     },
     "execution_count": 143,
     "metadata": {},
     "output_type": "execute_result"
    }
   ],
   "source": [
    "# lets see the itemsets that have higher lift than 4 and they also have a high confidence 0f 0.8 or above\n",
    "rules[ (rules['lift'] >= 4) &\n",
    "       (rules['confidence'] >= 0.8) ]"
   ]
  },
  {
   "cell_type": "code",
   "execution_count": null,
   "id": "8a2d9f10",
   "metadata": {},
   "outputs": [],
   "source": []
  },
  {
   "cell_type": "code",
   "execution_count": null,
   "id": "9bf838a4",
   "metadata": {},
   "outputs": [],
   "source": []
  }
 ],
 "metadata": {
  "kernelspec": {
   "display_name": "Python 3",
   "language": "python",
   "name": "python3"
  },
  "language_info": {
   "codemirror_mode": {
    "name": "ipython",
    "version": 3
   },
   "file_extension": ".py",
   "mimetype": "text/x-python",
   "name": "python",
   "nbconvert_exporter": "python",
   "pygments_lexer": "ipython3",
   "version": "3.8.8"
  }
 },
 "nbformat": 4,
 "nbformat_minor": 5
}
