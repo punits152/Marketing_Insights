{
 "cells": [
  {
   "cell_type": "code",
   "execution_count": 1,
   "id": "af578f66",
   "metadata": {},
   "outputs": [],
   "source": [
    "import pandas as pd\n",
    "import numpy as np"
   ]
  },
  {
   "cell_type": "code",
   "execution_count": 2,
   "id": "93586435",
   "metadata": {},
   "outputs": [],
   "source": [
    "df= pd.read_csv(\"Final_Df.csv\")"
   ]
  },
  {
   "cell_type": "code",
   "execution_count": 3,
   "id": "7376322d",
   "metadata": {},
   "outputs": [
    {
     "data": {
      "text/html": [
       "<div>\n",
       "<style scoped>\n",
       "    .dataframe tbody tr th:only-of-type {\n",
       "        vertical-align: middle;\n",
       "    }\n",
       "\n",
       "    .dataframe tbody tr th {\n",
       "        vertical-align: top;\n",
       "    }\n",
       "\n",
       "    .dataframe thead th {\n",
       "        text-align: right;\n",
       "    }\n",
       "</style>\n",
       "<table border=\"1\" class=\"dataframe\">\n",
       "  <thead>\n",
       "    <tr style=\"text-align: right;\">\n",
       "      <th></th>\n",
       "      <th>Unnamed: 0</th>\n",
       "      <th>CustomerID</th>\n",
       "      <th>Gender</th>\n",
       "      <th>Location</th>\n",
       "      <th>Tenure_Months</th>\n",
       "      <th>Transaction_ID</th>\n",
       "      <th>Transaction_Date</th>\n",
       "      <th>Product_SKU</th>\n",
       "      <th>Product_Description</th>\n",
       "      <th>Product_Category</th>\n",
       "      <th>Quantity</th>\n",
       "      <th>Avg_Price</th>\n",
       "      <th>Delivery_Charges</th>\n",
       "      <th>Coupon_Status</th>\n",
       "      <th>Month</th>\n",
       "      <th>Coupon_Code</th>\n",
       "      <th>Discount_pct</th>\n",
       "      <th>GST</th>\n",
       "      <th>Invoice_Value</th>\n",
       "    </tr>\n",
       "  </thead>\n",
       "  <tbody>\n",
       "    <tr>\n",
       "      <th>0</th>\n",
       "      <td>0</td>\n",
       "      <td>12346</td>\n",
       "      <td>F</td>\n",
       "      <td>New York</td>\n",
       "      <td>31</td>\n",
       "      <td>38223</td>\n",
       "      <td>2019-09-15</td>\n",
       "      <td>GGOEAAAJ080816</td>\n",
       "      <td>Android Men's Engineer Short Sleeve Tee Charcoal</td>\n",
       "      <td>Apparel</td>\n",
       "      <td>1</td>\n",
       "      <td>19.99</td>\n",
       "      <td>75.00</td>\n",
       "      <td>Used</td>\n",
       "      <td>Sep</td>\n",
       "      <td>SALE30</td>\n",
       "      <td>0.3</td>\n",
       "      <td>0.18</td>\n",
       "      <td>91.51174</td>\n",
       "    </tr>\n",
       "    <tr>\n",
       "      <th>1</th>\n",
       "      <td>1</td>\n",
       "      <td>12346</td>\n",
       "      <td>F</td>\n",
       "      <td>New York</td>\n",
       "      <td>31</td>\n",
       "      <td>38223</td>\n",
       "      <td>2019-09-15</td>\n",
       "      <td>GGOEGOAR013099</td>\n",
       "      <td>Google Stylus Pen w/ LED Light</td>\n",
       "      <td>Office</td>\n",
       "      <td>2</td>\n",
       "      <td>5.50</td>\n",
       "      <td>75.00</td>\n",
       "      <td>Used</td>\n",
       "      <td>Sep</td>\n",
       "      <td>OFF30</td>\n",
       "      <td>0.3</td>\n",
       "      <td>0.10</td>\n",
       "      <td>83.47000</td>\n",
       "    </tr>\n",
       "    <tr>\n",
       "      <th>2</th>\n",
       "      <td>2</td>\n",
       "      <td>12347</td>\n",
       "      <td>M</td>\n",
       "      <td>New York</td>\n",
       "      <td>20</td>\n",
       "      <td>23979</td>\n",
       "      <td>2019-03-24</td>\n",
       "      <td>GGOEGOAQ020099</td>\n",
       "      <td>Four Color Retractable Pen</td>\n",
       "      <td>Office</td>\n",
       "      <td>1</td>\n",
       "      <td>2.99</td>\n",
       "      <td>14.41</td>\n",
       "      <td>Clicked</td>\n",
       "      <td>Mar</td>\n",
       "      <td>OFF30</td>\n",
       "      <td>0.3</td>\n",
       "      <td>0.10</td>\n",
       "      <td>17.69900</td>\n",
       "    </tr>\n",
       "    <tr>\n",
       "      <th>3</th>\n",
       "      <td>3</td>\n",
       "      <td>12347</td>\n",
       "      <td>M</td>\n",
       "      <td>New York</td>\n",
       "      <td>20</td>\n",
       "      <td>23979</td>\n",
       "      <td>2019-03-24</td>\n",
       "      <td>GGOEGOCT019199</td>\n",
       "      <td>Red Spiral Google Notebook</td>\n",
       "      <td>Office</td>\n",
       "      <td>1</td>\n",
       "      <td>9.99</td>\n",
       "      <td>14.41</td>\n",
       "      <td>Used</td>\n",
       "      <td>Mar</td>\n",
       "      <td>OFF30</td>\n",
       "      <td>0.3</td>\n",
       "      <td>0.10</td>\n",
       "      <td>22.10230</td>\n",
       "    </tr>\n",
       "    <tr>\n",
       "      <th>4</th>\n",
       "      <td>4</td>\n",
       "      <td>12347</td>\n",
       "      <td>M</td>\n",
       "      <td>New York</td>\n",
       "      <td>20</td>\n",
       "      <td>23980</td>\n",
       "      <td>2019-03-24</td>\n",
       "      <td>GGOENEBJ079499</td>\n",
       "      <td>Nest Learning Thermostat 3rd Gen-USA - Stainle...</td>\n",
       "      <td>Nest-USA</td>\n",
       "      <td>1</td>\n",
       "      <td>149.00</td>\n",
       "      <td>6.50</td>\n",
       "      <td>Used</td>\n",
       "      <td>Mar</td>\n",
       "      <td>ELEC30</td>\n",
       "      <td>0.3</td>\n",
       "      <td>0.10</td>\n",
       "      <td>121.23000</td>\n",
       "    </tr>\n",
       "  </tbody>\n",
       "</table>\n",
       "</div>"
      ],
      "text/plain": [
       "   Unnamed: 0  CustomerID Gender  Location  Tenure_Months  Transaction_ID  \\\n",
       "0           0       12346      F  New York             31           38223   \n",
       "1           1       12346      F  New York             31           38223   \n",
       "2           2       12347      M  New York             20           23979   \n",
       "3           3       12347      M  New York             20           23979   \n",
       "4           4       12347      M  New York             20           23980   \n",
       "\n",
       "  Transaction_Date     Product_SKU  \\\n",
       "0       2019-09-15  GGOEAAAJ080816   \n",
       "1       2019-09-15  GGOEGOAR013099   \n",
       "2       2019-03-24  GGOEGOAQ020099   \n",
       "3       2019-03-24  GGOEGOCT019199   \n",
       "4       2019-03-24  GGOENEBJ079499   \n",
       "\n",
       "                                 Product_Description Product_Category  \\\n",
       "0   Android Men's Engineer Short Sleeve Tee Charcoal          Apparel   \n",
       "1                     Google Stylus Pen w/ LED Light           Office   \n",
       "2                         Four Color Retractable Pen           Office   \n",
       "3                         Red Spiral Google Notebook           Office   \n",
       "4  Nest Learning Thermostat 3rd Gen-USA - Stainle...         Nest-USA   \n",
       "\n",
       "   Quantity  Avg_Price  Delivery_Charges Coupon_Status Month Coupon_Code  \\\n",
       "0         1      19.99             75.00          Used   Sep      SALE30   \n",
       "1         2       5.50             75.00          Used   Sep       OFF30   \n",
       "2         1       2.99             14.41       Clicked   Mar       OFF30   \n",
       "3         1       9.99             14.41          Used   Mar       OFF30   \n",
       "4         1     149.00              6.50          Used   Mar      ELEC30   \n",
       "\n",
       "   Discount_pct   GST  Invoice_Value  \n",
       "0           0.3  0.18       91.51174  \n",
       "1           0.3  0.10       83.47000  \n",
       "2           0.3  0.10       17.69900  \n",
       "3           0.3  0.10       22.10230  \n",
       "4           0.3  0.10      121.23000  "
      ]
     },
     "execution_count": 3,
     "metadata": {},
     "output_type": "execute_result"
    }
   ],
   "source": [
    "df.head()"
   ]
  },
  {
   "cell_type": "code",
   "execution_count": 4,
   "id": "b3f515f8",
   "metadata": {},
   "outputs": [],
   "source": [
    "df[\"Transaction_Date\"] = pd.to_datetime(df.Transaction_Date)"
   ]
  },
  {
   "cell_type": "code",
   "execution_count": 5,
   "id": "77d54f2f",
   "metadata": {},
   "outputs": [],
   "source": [
    "df[\"Month_Num\"] = pd.to_datetime(df.Transaction_Date).dt.month"
   ]
  },
  {
   "cell_type": "code",
   "execution_count": 6,
   "id": "90370900",
   "metadata": {},
   "outputs": [
    {
     "data": {
      "text/plain": [
       "CustomerID\n",
       "12346     0 days\n",
       "12347   223 days\n",
       "12348   119 days\n",
       "12350     0 days\n",
       "12356     0 days\n",
       "          ...   \n",
       "18259     0 days\n",
       "18260   105 days\n",
       "18269    76 days\n",
       "18277     0 days\n",
       "18283    73 days\n",
       "Name: Transaction_Date, Length: 1468, dtype: timedelta64[ns]"
      ]
     },
     "execution_count": 6,
     "metadata": {},
     "output_type": "execute_result"
    }
   ],
   "source": [
    "df.groupby(\"CustomerID\")[\"Transaction_Date\"].max()-df.groupby(\"CustomerID\")[\"Transaction_Date\"].min()"
   ]
  },
  {
   "cell_type": "code",
   "execution_count": 7,
   "id": "e8e6ae36",
   "metadata": {},
   "outputs": [],
   "source": [
    "data_final = df.groupby(\"CustomerID\").agg({\"Invoice_Value\":np.mean,\"Delivery_Charges\":np.mean,\"Quantity\":np.mean,\"Location\":max,\"Gender\":max,\"Coupon_Status\":max,\"Tenure_Months\":max})"
   ]
  },
  {
   "cell_type": "code",
   "execution_count": 8,
   "id": "2739a1be",
   "metadata": {},
   "outputs": [],
   "source": [
    "data_final[\"Days_Bw_Purchase\"] = df.groupby(\"CustomerID\")[\"Transaction_Date\"].max()-df.groupby(\"CustomerID\")[\"Transaction_Date\"].min()"
   ]
  },
  {
   "cell_type": "code",
   "execution_count": 9,
   "id": "a9d48c37",
   "metadata": {},
   "outputs": [],
   "source": [
    "data_final[\"Quantity\"] = data_final.Quantity.round()"
   ]
  },
  {
   "cell_type": "code",
   "execution_count": 10,
   "id": "eee1ebb8",
   "metadata": {},
   "outputs": [
    {
     "data": {
      "text/html": [
       "<div>\n",
       "<style scoped>\n",
       "    .dataframe tbody tr th:only-of-type {\n",
       "        vertical-align: middle;\n",
       "    }\n",
       "\n",
       "    .dataframe tbody tr th {\n",
       "        vertical-align: top;\n",
       "    }\n",
       "\n",
       "    .dataframe thead th {\n",
       "        text-align: right;\n",
       "    }\n",
       "</style>\n",
       "<table border=\"1\" class=\"dataframe\">\n",
       "  <thead>\n",
       "    <tr style=\"text-align: right;\">\n",
       "      <th></th>\n",
       "      <th>Invoice_Value</th>\n",
       "      <th>Delivery_Charges</th>\n",
       "      <th>Quantity</th>\n",
       "      <th>Location</th>\n",
       "      <th>Gender</th>\n",
       "      <th>Coupon_Status</th>\n",
       "      <th>Tenure_Months</th>\n",
       "      <th>Days_Bw_Purchase</th>\n",
       "    </tr>\n",
       "    <tr>\n",
       "      <th>CustomerID</th>\n",
       "      <th></th>\n",
       "      <th></th>\n",
       "      <th></th>\n",
       "      <th></th>\n",
       "      <th></th>\n",
       "      <th></th>\n",
       "      <th></th>\n",
       "      <th></th>\n",
       "    </tr>\n",
       "  </thead>\n",
       "  <tbody>\n",
       "    <tr>\n",
       "      <th>12346</th>\n",
       "      <td>87.490870</td>\n",
       "      <td>75.000000</td>\n",
       "      <td>2.0</td>\n",
       "      <td>New York</td>\n",
       "      <td>F</td>\n",
       "      <td>Used</td>\n",
       "      <td>31</td>\n",
       "      <td>0 days</td>\n",
       "    </tr>\n",
       "    <tr>\n",
       "      <th>12347</th>\n",
       "      <td>261.447399</td>\n",
       "      <td>11.085667</td>\n",
       "      <td>6.0</td>\n",
       "      <td>New York</td>\n",
       "      <td>M</td>\n",
       "      <td>Used</td>\n",
       "      <td>20</td>\n",
       "      <td>223 days</td>\n",
       "    </tr>\n",
       "    <tr>\n",
       "      <th>12348</th>\n",
       "      <td>73.458954</td>\n",
       "      <td>8.571739</td>\n",
       "      <td>9.0</td>\n",
       "      <td>California</td>\n",
       "      <td>M</td>\n",
       "      <td>Used</td>\n",
       "      <td>39</td>\n",
       "      <td>119 days</td>\n",
       "    </tr>\n",
       "    <tr>\n",
       "      <th>12350</th>\n",
       "      <td>86.319722</td>\n",
       "      <td>7.522353</td>\n",
       "      <td>1.0</td>\n",
       "      <td>California</td>\n",
       "      <td>M</td>\n",
       "      <td>Used</td>\n",
       "      <td>25</td>\n",
       "      <td>0 days</td>\n",
       "    </tr>\n",
       "    <tr>\n",
       "      <th>12356</th>\n",
       "      <td>55.761917</td>\n",
       "      <td>17.708056</td>\n",
       "      <td>2.0</td>\n",
       "      <td>Chicago</td>\n",
       "      <td>F</td>\n",
       "      <td>Used</td>\n",
       "      <td>31</td>\n",
       "      <td>0 days</td>\n",
       "    </tr>\n",
       "  </tbody>\n",
       "</table>\n",
       "</div>"
      ],
      "text/plain": [
       "            Invoice_Value  Delivery_Charges  Quantity    Location Gender  \\\n",
       "CustomerID                                                                 \n",
       "12346           87.490870         75.000000       2.0    New York      F   \n",
       "12347          261.447399         11.085667       6.0    New York      M   \n",
       "12348           73.458954          8.571739       9.0  California      M   \n",
       "12350           86.319722          7.522353       1.0  California      M   \n",
       "12356           55.761917         17.708056       2.0     Chicago      F   \n",
       "\n",
       "           Coupon_Status  Tenure_Months Days_Bw_Purchase  \n",
       "CustomerID                                                \n",
       "12346               Used             31           0 days  \n",
       "12347               Used             20         223 days  \n",
       "12348               Used             39         119 days  \n",
       "12350               Used             25           0 days  \n",
       "12356               Used             31           0 days  "
      ]
     },
     "execution_count": 10,
     "metadata": {},
     "output_type": "execute_result"
    }
   ],
   "source": [
    "data_final.head()"
   ]
  },
  {
   "cell_type": "code",
   "execution_count": 11,
   "id": "6da7cedd",
   "metadata": {},
   "outputs": [],
   "source": [
    "data_final[\"Days_Bw_Purchase\"] = data_final.Days_Bw_Purchase.dt.days"
   ]
  },
  {
   "cell_type": "code",
   "execution_count": 12,
   "id": "49520ee5",
   "metadata": {},
   "outputs": [],
   "source": [
    "def group(x):\n",
    "    if x<31:\n",
    "        return \"0-30 Days\"\n",
    "    elif x>30 and x<61:\n",
    "        return \"30-60 Days\"\n",
    "    elif x>60 and x<91:\n",
    "        return \"60-90 Days\"\n",
    "    else:\n",
    "        return \"90+ Days\""
   ]
  },
  {
   "cell_type": "code",
   "execution_count": 13,
   "id": "468a7e7a",
   "metadata": {},
   "outputs": [],
   "source": [
    "data_final[\"Purchase_Category\"] = data_final.Days_Bw_Purchase.apply(group)"
   ]
  },
  {
   "cell_type": "code",
   "execution_count": 14,
   "id": "76b64d37",
   "metadata": {},
   "outputs": [],
   "source": [
    "data_final = pd.get_dummies(data_final,columns = [\"Location\",\"Gender\",\"Coupon_Status\"],drop_first=True)"
   ]
  },
  {
   "cell_type": "code",
   "execution_count": 15,
   "id": "e704cb45",
   "metadata": {},
   "outputs": [
    {
     "data": {
      "text/html": [
       "<div>\n",
       "<style scoped>\n",
       "    .dataframe tbody tr th:only-of-type {\n",
       "        vertical-align: middle;\n",
       "    }\n",
       "\n",
       "    .dataframe tbody tr th {\n",
       "        vertical-align: top;\n",
       "    }\n",
       "\n",
       "    .dataframe thead th {\n",
       "        text-align: right;\n",
       "    }\n",
       "</style>\n",
       "<table border=\"1\" class=\"dataframe\">\n",
       "  <thead>\n",
       "    <tr style=\"text-align: right;\">\n",
       "      <th></th>\n",
       "      <th>Invoice_Value</th>\n",
       "      <th>Delivery_Charges</th>\n",
       "      <th>Quantity</th>\n",
       "      <th>Tenure_Months</th>\n",
       "      <th>Days_Bw_Purchase</th>\n",
       "      <th>Purchase_Category</th>\n",
       "      <th>Location_Chicago</th>\n",
       "      <th>Location_New Jersey</th>\n",
       "      <th>Location_New York</th>\n",
       "      <th>Location_Washington DC</th>\n",
       "      <th>Gender_M</th>\n",
       "      <th>Coupon_Status_Not Used</th>\n",
       "      <th>Coupon_Status_Used</th>\n",
       "    </tr>\n",
       "    <tr>\n",
       "      <th>CustomerID</th>\n",
       "      <th></th>\n",
       "      <th></th>\n",
       "      <th></th>\n",
       "      <th></th>\n",
       "      <th></th>\n",
       "      <th></th>\n",
       "      <th></th>\n",
       "      <th></th>\n",
       "      <th></th>\n",
       "      <th></th>\n",
       "      <th></th>\n",
       "      <th></th>\n",
       "      <th></th>\n",
       "    </tr>\n",
       "  </thead>\n",
       "  <tbody>\n",
       "    <tr>\n",
       "      <th>12346</th>\n",
       "      <td>87.490870</td>\n",
       "      <td>75.000000</td>\n",
       "      <td>2.0</td>\n",
       "      <td>31</td>\n",
       "      <td>0</td>\n",
       "      <td>0-30 Days</td>\n",
       "      <td>0</td>\n",
       "      <td>0</td>\n",
       "      <td>1</td>\n",
       "      <td>0</td>\n",
       "      <td>0</td>\n",
       "      <td>0</td>\n",
       "      <td>1</td>\n",
       "    </tr>\n",
       "    <tr>\n",
       "      <th>12347</th>\n",
       "      <td>261.447399</td>\n",
       "      <td>11.085667</td>\n",
       "      <td>6.0</td>\n",
       "      <td>20</td>\n",
       "      <td>223</td>\n",
       "      <td>90+ Days</td>\n",
       "      <td>0</td>\n",
       "      <td>0</td>\n",
       "      <td>1</td>\n",
       "      <td>0</td>\n",
       "      <td>1</td>\n",
       "      <td>0</td>\n",
       "      <td>1</td>\n",
       "    </tr>\n",
       "    <tr>\n",
       "      <th>12348</th>\n",
       "      <td>73.458954</td>\n",
       "      <td>8.571739</td>\n",
       "      <td>9.0</td>\n",
       "      <td>39</td>\n",
       "      <td>119</td>\n",
       "      <td>90+ Days</td>\n",
       "      <td>0</td>\n",
       "      <td>0</td>\n",
       "      <td>0</td>\n",
       "      <td>0</td>\n",
       "      <td>1</td>\n",
       "      <td>0</td>\n",
       "      <td>1</td>\n",
       "    </tr>\n",
       "    <tr>\n",
       "      <th>12350</th>\n",
       "      <td>86.319722</td>\n",
       "      <td>7.522353</td>\n",
       "      <td>1.0</td>\n",
       "      <td>25</td>\n",
       "      <td>0</td>\n",
       "      <td>0-30 Days</td>\n",
       "      <td>0</td>\n",
       "      <td>0</td>\n",
       "      <td>0</td>\n",
       "      <td>0</td>\n",
       "      <td>1</td>\n",
       "      <td>0</td>\n",
       "      <td>1</td>\n",
       "    </tr>\n",
       "    <tr>\n",
       "      <th>12356</th>\n",
       "      <td>55.761917</td>\n",
       "      <td>17.708056</td>\n",
       "      <td>2.0</td>\n",
       "      <td>31</td>\n",
       "      <td>0</td>\n",
       "      <td>0-30 Days</td>\n",
       "      <td>1</td>\n",
       "      <td>0</td>\n",
       "      <td>0</td>\n",
       "      <td>0</td>\n",
       "      <td>0</td>\n",
       "      <td>0</td>\n",
       "      <td>1</td>\n",
       "    </tr>\n",
       "  </tbody>\n",
       "</table>\n",
       "</div>"
      ],
      "text/plain": [
       "            Invoice_Value  Delivery_Charges  Quantity  Tenure_Months  \\\n",
       "CustomerID                                                             \n",
       "12346           87.490870         75.000000       2.0             31   \n",
       "12347          261.447399         11.085667       6.0             20   \n",
       "12348           73.458954          8.571739       9.0             39   \n",
       "12350           86.319722          7.522353       1.0             25   \n",
       "12356           55.761917         17.708056       2.0             31   \n",
       "\n",
       "            Days_Bw_Purchase Purchase_Category  Location_Chicago  \\\n",
       "CustomerID                                                         \n",
       "12346                      0         0-30 Days                 0   \n",
       "12347                    223          90+ Days                 0   \n",
       "12348                    119          90+ Days                 0   \n",
       "12350                      0         0-30 Days                 0   \n",
       "12356                      0         0-30 Days                 1   \n",
       "\n",
       "            Location_New Jersey  Location_New York  Location_Washington DC  \\\n",
       "CustomerID                                                                   \n",
       "12346                         0                  1                       0   \n",
       "12347                         0                  1                       0   \n",
       "12348                         0                  0                       0   \n",
       "12350                         0                  0                       0   \n",
       "12356                         0                  0                       0   \n",
       "\n",
       "            Gender_M  Coupon_Status_Not Used  Coupon_Status_Used  \n",
       "CustomerID                                                        \n",
       "12346              0                       0                   1  \n",
       "12347              1                       0                   1  \n",
       "12348              1                       0                   1  \n",
       "12350              1                       0                   1  \n",
       "12356              0                       0                   1  "
      ]
     },
     "execution_count": 15,
     "metadata": {},
     "output_type": "execute_result"
    }
   ],
   "source": [
    "data_final.head()"
   ]
  },
  {
   "cell_type": "code",
   "execution_count": 16,
   "id": "bcd767b9",
   "metadata": {},
   "outputs": [
    {
     "data": {
      "text/plain": [
       "Index(['Invoice_Value', 'Delivery_Charges', 'Quantity', 'Tenure_Months',\n",
       "       'Days_Bw_Purchase', 'Purchase_Category', 'Location_Chicago',\n",
       "       'Location_New Jersey', 'Location_New York', 'Location_Washington DC',\n",
       "       'Gender_M', 'Coupon_Status_Not Used', 'Coupon_Status_Used'],\n",
       "      dtype='object')"
      ]
     },
     "execution_count": 16,
     "metadata": {},
     "output_type": "execute_result"
    }
   ],
   "source": [
    "data_final.columns"
   ]
  },
  {
   "cell_type": "code",
   "execution_count": 17,
   "id": "edc801dd",
   "metadata": {},
   "outputs": [],
   "source": [
    "X = data_final.drop([\"Purchase_Category\",\"Days_Bw_Purchase\"],axis=1)"
   ]
  },
  {
   "cell_type": "code",
   "execution_count": 18,
   "id": "1d09e085",
   "metadata": {},
   "outputs": [],
   "source": [
    "Y = data_final.Purchase_Category"
   ]
  },
  {
   "cell_type": "markdown",
   "id": "a726210e",
   "metadata": {},
   "source": [
    "### Model"
   ]
  },
  {
   "cell_type": "code",
   "execution_count": 19,
   "id": "a1618921",
   "metadata": {},
   "outputs": [],
   "source": [
    "from sklearn.model_selection import train_test_split"
   ]
  },
  {
   "cell_type": "code",
   "execution_count": 20,
   "id": "47092b2e",
   "metadata": {},
   "outputs": [],
   "source": [
    "X_train, X_test, Y_train,Y_test = train_test_split(X,Y,test_size=0.2,random_state=12345)"
   ]
  },
  {
   "cell_type": "code",
   "execution_count": 21,
   "id": "3f195e74",
   "metadata": {},
   "outputs": [
    {
     "data": {
      "text/plain": [
       "((1174, 11), (294, 11), (1174,), (294,))"
      ]
     },
     "execution_count": 21,
     "metadata": {},
     "output_type": "execute_result"
    }
   ],
   "source": [
    "X_train.shape, X_test.shape, Y_train.shape, Y_test.shape"
   ]
  },
  {
   "cell_type": "code",
   "execution_count": 22,
   "id": "b54c37d6",
   "metadata": {},
   "outputs": [],
   "source": [
    "from sklearn.linear_model import LogisticRegression\n",
    "from sklearn import metrics"
   ]
  },
  {
   "cell_type": "code",
   "execution_count": 23,
   "id": "10af8c8f",
   "metadata": {},
   "outputs": [
    {
     "name": "stdout",
     "output_type": "stream",
     "text": [
      "Train set Accuracy:  0.626916524701874\n",
      "Test set Accuracy:  0.6462585034013606\n"
     ]
    }
   ],
   "source": [
    "log_reg = LogisticRegression(C=0.01, solver='liblinear').fit(X_train,Y_train)\n",
    "yhat = log_reg.predict(X_test)\n",
    "print(\"Train set Accuracy: \", metrics.accuracy_score(Y_train, log_reg.predict(X_train)))\n",
    "print(\"Test set Accuracy: \", metrics.accuracy_score(Y_test, yhat))   "
   ]
  },
  {
   "cell_type": "code",
   "execution_count": 24,
   "id": "b7f0e0c6",
   "metadata": {
    "scrolled": true
   },
   "outputs": [
    {
     "name": "stdout",
     "output_type": "stream",
     "text": [
      "              precision    recall  f1-score   support\n",
      "\n",
      "   0-30 Days       0.65      1.00      0.79       190\n",
      "  30-60 Days       0.00      0.00      0.00        11\n",
      "  60-90 Days       0.00      0.00      0.00        10\n",
      "    90+ Days       0.00      0.00      0.00        83\n",
      "\n",
      "    accuracy                           0.65       294\n",
      "   macro avg       0.16      0.25      0.20       294\n",
      "weighted avg       0.42      0.65      0.51       294\n",
      "\n"
     ]
    },
    {
     "name": "stderr",
     "output_type": "stream",
     "text": [
      "F:\\1_Softwares_Installed\\Anaconda\\lib\\site-packages\\sklearn\\metrics\\_classification.py:1245: UndefinedMetricWarning: Precision and F-score are ill-defined and being set to 0.0 in labels with no predicted samples. Use `zero_division` parameter to control this behavior.\n",
      "  _warn_prf(average, modifier, msg_start, len(result))\n",
      "F:\\1_Softwares_Installed\\Anaconda\\lib\\site-packages\\sklearn\\metrics\\_classification.py:1245: UndefinedMetricWarning: Precision and F-score are ill-defined and being set to 0.0 in labels with no predicted samples. Use `zero_division` parameter to control this behavior.\n",
      "  _warn_prf(average, modifier, msg_start, len(result))\n",
      "F:\\1_Softwares_Installed\\Anaconda\\lib\\site-packages\\sklearn\\metrics\\_classification.py:1245: UndefinedMetricWarning: Precision and F-score are ill-defined and being set to 0.0 in labels with no predicted samples. Use `zero_division` parameter to control this behavior.\n",
      "  _warn_prf(average, modifier, msg_start, len(result))\n"
     ]
    }
   ],
   "source": [
    "print(metrics.classification_report(Y_test, yhat))  "
   ]
  },
  {
   "cell_type": "code",
   "execution_count": 25,
   "id": "cc389d57",
   "metadata": {},
   "outputs": [],
   "source": [
    "from sklearn.ensemble import GradientBoostingClassifier"
   ]
  },
  {
   "cell_type": "code",
   "execution_count": 29,
   "id": "43baad9e",
   "metadata": {},
   "outputs": [],
   "source": [
    "clf = GradientBoostingClassifier(n_estimators=100, learning_rate=1.0,max_depth=1, random_state=0).fit(X_train, Y_train) \n",
    "yhat = clf.predict(X_test)"
   ]
  },
  {
   "cell_type": "code",
   "execution_count": 30,
   "id": "fcd2a4b1",
   "metadata": {},
   "outputs": [
    {
     "name": "stdout",
     "output_type": "stream",
     "text": [
      "              precision    recall  f1-score   support\n",
      "\n",
      "   0-30 Days       0.70      0.84      0.76       190\n",
      "  30-60 Days       0.00      0.00      0.00        11\n",
      "  60-90 Days       0.00      0.00      0.00        10\n",
      "    90+ Days       0.47      0.35      0.40        83\n",
      "\n",
      "    accuracy                           0.64       294\n",
      "   macro avg       0.29      0.30      0.29       294\n",
      "weighted avg       0.58      0.64      0.61       294\n",
      "\n"
     ]
    }
   ],
   "source": [
    "print(metrics.classification_report(Y_test, yhat))  "
   ]
  }
 ],
 "metadata": {
  "kernelspec": {
   "display_name": "Python 3",
   "language": "python",
   "name": "python3"
  },
  "language_info": {
   "codemirror_mode": {
    "name": "ipython",
    "version": 3
   },
   "file_extension": ".py",
   "mimetype": "text/x-python",
   "name": "python",
   "nbconvert_exporter": "python",
   "pygments_lexer": "ipython3",
   "version": "3.8.8"
  }
 },
 "nbformat": 4,
 "nbformat_minor": 5
}
