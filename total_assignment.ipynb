{
 "cells": [
  {
   "cell_type": "code",
   "execution_count": 59,
   "source": [
    "# Essential Libraries\r\n",
    "import pandas as pd \r\n",
    "import numpy as np \r\n",
    "import matplotlib.pyplot as plt\r\n",
    "%matplotlib inline\r\n",
    "\r\n",
    "import seaborn as sns\r\n",
    "import pandas_profiling as ppf\r\n",
    "import calendar\r\n"
   ],
   "outputs": [],
   "metadata": {}
  },
  {
   "cell_type": "code",
   "execution_count": 60,
   "source": [
    "# Modelling libraries\r\n",
    "from sklearn.preprocessing import StandardScaler\r\n",
    "from sklearn.preprocessing import LabelEncoder\r\n",
    "\r\n",
    "from sklearn.model_selection import train_test_split\r\n",
    "from sklearn.model_selection import GridSearchCV"
   ],
   "outputs": [],
   "metadata": {}
  },
  {
   "cell_type": "markdown",
   "source": [
    "# Data Preparation"
   ],
   "metadata": {}
  },
  {
   "cell_type": "code",
   "execution_count": 61,
   "source": [
    "customer_data = pd.read_excel(\"Data/CustomersData.xlsx\")\r\n",
    "online_sales = pd.read_csv(\"Data/Online_Sales.csv\")\r\n",
    "marketing_spend = pd.read_csv(\"Data/Marketing_Spend.csv\")\r\n",
    "disc_coupon = pd.read_csv(\"Data/Discount_Coupon.csv\")\r\n",
    "tax_amount = pd.read_excel(\"Data/Tax_amount.xlsx\")"
   ],
   "outputs": [],
   "metadata": {}
  },
  {
   "cell_type": "markdown",
   "source": [
    "### Lets see the data"
   ],
   "metadata": {}
  },
  {
   "cell_type": "code",
   "execution_count": 62,
   "source": [
    "customer_data.head()"
   ],
   "outputs": [
    {
     "output_type": "execute_result",
     "data": {
      "text/plain": [
       "   CustomerID Gender    Location  Tenure_Months\n",
       "0       17850      M     Chicago             12\n",
       "1       13047      M  California             43\n",
       "2       12583      M     Chicago             33\n",
       "3       13748      F  California             30\n",
       "4       15100      M  California             49"
      ],
      "text/html": [
       "<div>\n",
       "<style scoped>\n",
       "    .dataframe tbody tr th:only-of-type {\n",
       "        vertical-align: middle;\n",
       "    }\n",
       "\n",
       "    .dataframe tbody tr th {\n",
       "        vertical-align: top;\n",
       "    }\n",
       "\n",
       "    .dataframe thead th {\n",
       "        text-align: right;\n",
       "    }\n",
       "</style>\n",
       "<table border=\"1\" class=\"dataframe\">\n",
       "  <thead>\n",
       "    <tr style=\"text-align: right;\">\n",
       "      <th></th>\n",
       "      <th>CustomerID</th>\n",
       "      <th>Gender</th>\n",
       "      <th>Location</th>\n",
       "      <th>Tenure_Months</th>\n",
       "    </tr>\n",
       "  </thead>\n",
       "  <tbody>\n",
       "    <tr>\n",
       "      <th>0</th>\n",
       "      <td>17850</td>\n",
       "      <td>M</td>\n",
       "      <td>Chicago</td>\n",
       "      <td>12</td>\n",
       "    </tr>\n",
       "    <tr>\n",
       "      <th>1</th>\n",
       "      <td>13047</td>\n",
       "      <td>M</td>\n",
       "      <td>California</td>\n",
       "      <td>43</td>\n",
       "    </tr>\n",
       "    <tr>\n",
       "      <th>2</th>\n",
       "      <td>12583</td>\n",
       "      <td>M</td>\n",
       "      <td>Chicago</td>\n",
       "      <td>33</td>\n",
       "    </tr>\n",
       "    <tr>\n",
       "      <th>3</th>\n",
       "      <td>13748</td>\n",
       "      <td>F</td>\n",
       "      <td>California</td>\n",
       "      <td>30</td>\n",
       "    </tr>\n",
       "    <tr>\n",
       "      <th>4</th>\n",
       "      <td>15100</td>\n",
       "      <td>M</td>\n",
       "      <td>California</td>\n",
       "      <td>49</td>\n",
       "    </tr>\n",
       "  </tbody>\n",
       "</table>\n",
       "</div>"
      ]
     },
     "metadata": {},
     "execution_count": 62
    }
   ],
   "metadata": {}
  },
  {
   "cell_type": "code",
   "execution_count": 63,
   "source": [
    "online_sales.head()"
   ],
   "outputs": [
    {
     "output_type": "execute_result",
     "data": {
      "text/plain": [
       "   CustomerID  Transaction_ID  Transaction_Date      Date     Product_SKU  \\\n",
       "0       17850           16679          20190101  1/1/2019  GGOENEBJ079499   \n",
       "1       17850           16680          20190101  1/1/2019  GGOENEBJ079499   \n",
       "2       17850           16681          20190101  1/1/2019  GGOEGFKQ020399   \n",
       "3       17850           16682          20190101  1/1/2019  GGOEGAAB010516   \n",
       "4       17850           16682          20190101  1/1/2019  GGOEGBJL013999   \n",
       "\n",
       "                                 Product_Description Product_Category  \\\n",
       "0  Nest Learning Thermostat 3rd Gen-USA - Stainle...         Nest-USA   \n",
       "1  Nest Learning Thermostat 3rd Gen-USA - Stainle...         Nest-USA   \n",
       "2              Google Laptop and Cell Phone Stickers           Office   \n",
       "3  Google Men's 100% Cotton Short Sleeve Hero Tee...          Apparel   \n",
       "4                    Google Canvas Tote Natural/Navy             Bags   \n",
       "\n",
       "   Quantity  Avg_Price  Delivery_Charges Coupon_Status  \n",
       "0         1     153.71               6.5          Used  \n",
       "1         1     153.71               6.5          Used  \n",
       "2         1       2.05               6.5          Used  \n",
       "3         5      17.53               6.5      Not Used  \n",
       "4         1      16.50               6.5          Used  "
      ],
      "text/html": [
       "<div>\n",
       "<style scoped>\n",
       "    .dataframe tbody tr th:only-of-type {\n",
       "        vertical-align: middle;\n",
       "    }\n",
       "\n",
       "    .dataframe tbody tr th {\n",
       "        vertical-align: top;\n",
       "    }\n",
       "\n",
       "    .dataframe thead th {\n",
       "        text-align: right;\n",
       "    }\n",
       "</style>\n",
       "<table border=\"1\" class=\"dataframe\">\n",
       "  <thead>\n",
       "    <tr style=\"text-align: right;\">\n",
       "      <th></th>\n",
       "      <th>CustomerID</th>\n",
       "      <th>Transaction_ID</th>\n",
       "      <th>Transaction_Date</th>\n",
       "      <th>Date</th>\n",
       "      <th>Product_SKU</th>\n",
       "      <th>Product_Description</th>\n",
       "      <th>Product_Category</th>\n",
       "      <th>Quantity</th>\n",
       "      <th>Avg_Price</th>\n",
       "      <th>Delivery_Charges</th>\n",
       "      <th>Coupon_Status</th>\n",
       "    </tr>\n",
       "  </thead>\n",
       "  <tbody>\n",
       "    <tr>\n",
       "      <th>0</th>\n",
       "      <td>17850</td>\n",
       "      <td>16679</td>\n",
       "      <td>20190101</td>\n",
       "      <td>1/1/2019</td>\n",
       "      <td>GGOENEBJ079499</td>\n",
       "      <td>Nest Learning Thermostat 3rd Gen-USA - Stainle...</td>\n",
       "      <td>Nest-USA</td>\n",
       "      <td>1</td>\n",
       "      <td>153.71</td>\n",
       "      <td>6.5</td>\n",
       "      <td>Used</td>\n",
       "    </tr>\n",
       "    <tr>\n",
       "      <th>1</th>\n",
       "      <td>17850</td>\n",
       "      <td>16680</td>\n",
       "      <td>20190101</td>\n",
       "      <td>1/1/2019</td>\n",
       "      <td>GGOENEBJ079499</td>\n",
       "      <td>Nest Learning Thermostat 3rd Gen-USA - Stainle...</td>\n",
       "      <td>Nest-USA</td>\n",
       "      <td>1</td>\n",
       "      <td>153.71</td>\n",
       "      <td>6.5</td>\n",
       "      <td>Used</td>\n",
       "    </tr>\n",
       "    <tr>\n",
       "      <th>2</th>\n",
       "      <td>17850</td>\n",
       "      <td>16681</td>\n",
       "      <td>20190101</td>\n",
       "      <td>1/1/2019</td>\n",
       "      <td>GGOEGFKQ020399</td>\n",
       "      <td>Google Laptop and Cell Phone Stickers</td>\n",
       "      <td>Office</td>\n",
       "      <td>1</td>\n",
       "      <td>2.05</td>\n",
       "      <td>6.5</td>\n",
       "      <td>Used</td>\n",
       "    </tr>\n",
       "    <tr>\n",
       "      <th>3</th>\n",
       "      <td>17850</td>\n",
       "      <td>16682</td>\n",
       "      <td>20190101</td>\n",
       "      <td>1/1/2019</td>\n",
       "      <td>GGOEGAAB010516</td>\n",
       "      <td>Google Men's 100% Cotton Short Sleeve Hero Tee...</td>\n",
       "      <td>Apparel</td>\n",
       "      <td>5</td>\n",
       "      <td>17.53</td>\n",
       "      <td>6.5</td>\n",
       "      <td>Not Used</td>\n",
       "    </tr>\n",
       "    <tr>\n",
       "      <th>4</th>\n",
       "      <td>17850</td>\n",
       "      <td>16682</td>\n",
       "      <td>20190101</td>\n",
       "      <td>1/1/2019</td>\n",
       "      <td>GGOEGBJL013999</td>\n",
       "      <td>Google Canvas Tote Natural/Navy</td>\n",
       "      <td>Bags</td>\n",
       "      <td>1</td>\n",
       "      <td>16.50</td>\n",
       "      <td>6.5</td>\n",
       "      <td>Used</td>\n",
       "    </tr>\n",
       "  </tbody>\n",
       "</table>\n",
       "</div>"
      ]
     },
     "metadata": {},
     "execution_count": 63
    }
   ],
   "metadata": {}
  },
  {
   "cell_type": "code",
   "execution_count": 64,
   "source": [
    "online_sales.info()"
   ],
   "outputs": [
    {
     "output_type": "stream",
     "name": "stdout",
     "text": [
      "<class 'pandas.core.frame.DataFrame'>\n",
      "RangeIndex: 52924 entries, 0 to 52923\n",
      "Data columns (total 11 columns):\n",
      " #   Column               Non-Null Count  Dtype  \n",
      "---  ------               --------------  -----  \n",
      " 0   CustomerID           52924 non-null  int64  \n",
      " 1   Transaction_ID       52924 non-null  int64  \n",
      " 2   Transaction_Date     52924 non-null  int64  \n",
      " 3   Date                 52924 non-null  object \n",
      " 4   Product_SKU          52924 non-null  object \n",
      " 5   Product_Description  52924 non-null  object \n",
      " 6   Product_Category     52924 non-null  object \n",
      " 7   Quantity             52924 non-null  int64  \n",
      " 8   Avg_Price            52924 non-null  float64\n",
      " 9   Delivery_Charges     52924 non-null  float64\n",
      " 10  Coupon_Status        52924 non-null  object \n",
      "dtypes: float64(2), int64(4), object(5)\n",
      "memory usage: 4.4+ MB\n"
     ]
    }
   ],
   "metadata": {}
  },
  {
   "cell_type": "code",
   "execution_count": 65,
   "source": [
    "## Changing the dtype of the date column\r\n",
    "online_sales[\"Date\"] = pd.to_datetime(online_sales[\"Date\"])"
   ],
   "outputs": [],
   "metadata": {}
  },
  {
   "cell_type": "code",
   "execution_count": 66,
   "source": [
    "marketing_spend.head()"
   ],
   "outputs": [
    {
     "output_type": "execute_result",
     "data": {
      "text/plain": [
       "       Date  Offline_Spend  Online_Spend\n",
       "0  1/1/2019           4500       2424.50\n",
       "1  1/2/2019           4500       3480.36\n",
       "2  1/3/2019           4500       1576.38\n",
       "3  1/4/2019           4500       2928.55\n",
       "4  1/5/2019           4500       4055.30"
      ],
      "text/html": [
       "<div>\n",
       "<style scoped>\n",
       "    .dataframe tbody tr th:only-of-type {\n",
       "        vertical-align: middle;\n",
       "    }\n",
       "\n",
       "    .dataframe tbody tr th {\n",
       "        vertical-align: top;\n",
       "    }\n",
       "\n",
       "    .dataframe thead th {\n",
       "        text-align: right;\n",
       "    }\n",
       "</style>\n",
       "<table border=\"1\" class=\"dataframe\">\n",
       "  <thead>\n",
       "    <tr style=\"text-align: right;\">\n",
       "      <th></th>\n",
       "      <th>Date</th>\n",
       "      <th>Offline_Spend</th>\n",
       "      <th>Online_Spend</th>\n",
       "    </tr>\n",
       "  </thead>\n",
       "  <tbody>\n",
       "    <tr>\n",
       "      <th>0</th>\n",
       "      <td>1/1/2019</td>\n",
       "      <td>4500</td>\n",
       "      <td>2424.50</td>\n",
       "    </tr>\n",
       "    <tr>\n",
       "      <th>1</th>\n",
       "      <td>1/2/2019</td>\n",
       "      <td>4500</td>\n",
       "      <td>3480.36</td>\n",
       "    </tr>\n",
       "    <tr>\n",
       "      <th>2</th>\n",
       "      <td>1/3/2019</td>\n",
       "      <td>4500</td>\n",
       "      <td>1576.38</td>\n",
       "    </tr>\n",
       "    <tr>\n",
       "      <th>3</th>\n",
       "      <td>1/4/2019</td>\n",
       "      <td>4500</td>\n",
       "      <td>2928.55</td>\n",
       "    </tr>\n",
       "    <tr>\n",
       "      <th>4</th>\n",
       "      <td>1/5/2019</td>\n",
       "      <td>4500</td>\n",
       "      <td>4055.30</td>\n",
       "    </tr>\n",
       "  </tbody>\n",
       "</table>\n",
       "</div>"
      ]
     },
     "metadata": {},
     "execution_count": 66
    }
   ],
   "metadata": {}
  },
  {
   "cell_type": "code",
   "execution_count": 67,
   "source": [
    "marketing_spend.info()"
   ],
   "outputs": [
    {
     "output_type": "stream",
     "name": "stdout",
     "text": [
      "<class 'pandas.core.frame.DataFrame'>\n",
      "RangeIndex: 365 entries, 0 to 364\n",
      "Data columns (total 3 columns):\n",
      " #   Column         Non-Null Count  Dtype  \n",
      "---  ------         --------------  -----  \n",
      " 0   Date           365 non-null    object \n",
      " 1   Offline_Spend  365 non-null    int64  \n",
      " 2   Online_Spend   365 non-null    float64\n",
      "dtypes: float64(1), int64(1), object(1)\n",
      "memory usage: 8.7+ KB\n"
     ]
    }
   ],
   "metadata": {}
  },
  {
   "cell_type": "code",
   "execution_count": 68,
   "source": [
    "# Lets make Some new variables\r\n",
    "marketing_spend[\"Date\"] = pd.to_datetime(marketing_spend[\"Date\"])\r\n",
    "marketing_spend[\"Month\"] = marketing_spend[\"Date\"].dt.month.apply(lambda x:calendar.month_abbr[x])\r\n",
    "marketing_spend[\"Total_Spend\"] = marketing_spend.Offline_Spend+ marketing_spend.Online_Spend"
   ],
   "outputs": [],
   "metadata": {}
  },
  {
   "cell_type": "code",
   "execution_count": 69,
   "source": [
    "\r\n",
    "disc_coupon.head()"
   ],
   "outputs": [
    {
     "output_type": "execute_result",
     "data": {
      "text/plain": [
       "  Month Product_Category  Coupon_Code  Discount_pct\n",
       "0   Jan           Apparel      SALE10            10\n",
       "1   Feb           Apparel      SALE20            20\n",
       "2   Mar           Apparel      SALE30            30\n",
       "3   Jan          Nest-USA      ELEC10            10\n",
       "4   Feb          Nest-USA      ELEC20            20"
      ],
      "text/html": [
       "<div>\n",
       "<style scoped>\n",
       "    .dataframe tbody tr th:only-of-type {\n",
       "        vertical-align: middle;\n",
       "    }\n",
       "\n",
       "    .dataframe tbody tr th {\n",
       "        vertical-align: top;\n",
       "    }\n",
       "\n",
       "    .dataframe thead th {\n",
       "        text-align: right;\n",
       "    }\n",
       "</style>\n",
       "<table border=\"1\" class=\"dataframe\">\n",
       "  <thead>\n",
       "    <tr style=\"text-align: right;\">\n",
       "      <th></th>\n",
       "      <th>Month</th>\n",
       "      <th>Product_Category</th>\n",
       "      <th>Coupon_Code</th>\n",
       "      <th>Discount_pct</th>\n",
       "    </tr>\n",
       "  </thead>\n",
       "  <tbody>\n",
       "    <tr>\n",
       "      <th>0</th>\n",
       "      <td>Jan</td>\n",
       "      <td>Apparel</td>\n",
       "      <td>SALE10</td>\n",
       "      <td>10</td>\n",
       "    </tr>\n",
       "    <tr>\n",
       "      <th>1</th>\n",
       "      <td>Feb</td>\n",
       "      <td>Apparel</td>\n",
       "      <td>SALE20</td>\n",
       "      <td>20</td>\n",
       "    </tr>\n",
       "    <tr>\n",
       "      <th>2</th>\n",
       "      <td>Mar</td>\n",
       "      <td>Apparel</td>\n",
       "      <td>SALE30</td>\n",
       "      <td>30</td>\n",
       "    </tr>\n",
       "    <tr>\n",
       "      <th>3</th>\n",
       "      <td>Jan</td>\n",
       "      <td>Nest-USA</td>\n",
       "      <td>ELEC10</td>\n",
       "      <td>10</td>\n",
       "    </tr>\n",
       "    <tr>\n",
       "      <th>4</th>\n",
       "      <td>Feb</td>\n",
       "      <td>Nest-USA</td>\n",
       "      <td>ELEC20</td>\n",
       "      <td>20</td>\n",
       "    </tr>\n",
       "  </tbody>\n",
       "</table>\n",
       "</div>"
      ]
     },
     "metadata": {},
     "execution_count": 69
    }
   ],
   "metadata": {}
  },
  {
   "cell_type": "code",
   "execution_count": 70,
   "source": [
    "tax_amount.head()"
   ],
   "outputs": [
    {
     "output_type": "execute_result",
     "data": {
      "text/plain": [
       "  Product_Category   GST\n",
       "0         Nest-USA  0.10\n",
       "1           Office  0.10\n",
       "2          Apparel  0.18\n",
       "3             Bags  0.18\n",
       "4        Drinkware  0.18"
      ],
      "text/html": [
       "<div>\n",
       "<style scoped>\n",
       "    .dataframe tbody tr th:only-of-type {\n",
       "        vertical-align: middle;\n",
       "    }\n",
       "\n",
       "    .dataframe tbody tr th {\n",
       "        vertical-align: top;\n",
       "    }\n",
       "\n",
       "    .dataframe thead th {\n",
       "        text-align: right;\n",
       "    }\n",
       "</style>\n",
       "<table border=\"1\" class=\"dataframe\">\n",
       "  <thead>\n",
       "    <tr style=\"text-align: right;\">\n",
       "      <th></th>\n",
       "      <th>Product_Category</th>\n",
       "      <th>GST</th>\n",
       "    </tr>\n",
       "  </thead>\n",
       "  <tbody>\n",
       "    <tr>\n",
       "      <th>0</th>\n",
       "      <td>Nest-USA</td>\n",
       "      <td>0.10</td>\n",
       "    </tr>\n",
       "    <tr>\n",
       "      <th>1</th>\n",
       "      <td>Office</td>\n",
       "      <td>0.10</td>\n",
       "    </tr>\n",
       "    <tr>\n",
       "      <th>2</th>\n",
       "      <td>Apparel</td>\n",
       "      <td>0.18</td>\n",
       "    </tr>\n",
       "    <tr>\n",
       "      <th>3</th>\n",
       "      <td>Bags</td>\n",
       "      <td>0.18</td>\n",
       "    </tr>\n",
       "    <tr>\n",
       "      <th>4</th>\n",
       "      <td>Drinkware</td>\n",
       "      <td>0.18</td>\n",
       "    </tr>\n",
       "  </tbody>\n",
       "</table>\n",
       "</div>"
      ]
     },
     "metadata": {},
     "execution_count": 70
    }
   ],
   "metadata": {}
  },
  {
   "cell_type": "code",
   "execution_count": 71,
   "source": [
    "# Lets make dates a datetime variable\r\n",
    "marketing_spend[\"Date\"] = pd.to_datetime(marketing_spend[\"Date\"])\r\n",
    "marketing_spend[\"Month\"] = marketing_spend[\"Date\"].dt.month.apply(lambda x:calendar.month_abbr[x])\r\n",
    "marketing_spend[\"Total_Spend\"] = marketing_spend.Offline_Spend+ marketing_spend.Online_Spend"
   ],
   "outputs": [],
   "metadata": {}
  },
  {
   "cell_type": "markdown",
   "source": [
    "# Data Preparation"
   ],
   "metadata": {}
  },
  {
   "cell_type": "code",
   "execution_count": 72,
   "source": [
    "# Joining the online_sales and customer_data\r\n",
    "sales_customer = pd.merge(online_sales,customer_data,on=\"CustomerID\",how=\"inner\").sort_values(by=[\"CustomerID\",\"Date\"])"
   ],
   "outputs": [],
   "metadata": {}
  },
  {
   "cell_type": "code",
   "execution_count": 73,
   "source": [
    "\r\n",
    "sales_customer = sales_customer[['CustomerID','Gender', 'Location',\r\n",
    "       'Tenure_Months', 'Transaction_ID', 'Transaction_Date',\"Date\",\r\n",
    "       'Product_SKU', 'Product_Description', 'Product_Category', 'Quantity',\r\n",
    "       'Avg_Price', 'Delivery_Charges', 'Coupon_Status']]"
   ],
   "outputs": [],
   "metadata": {}
  },
  {
   "cell_type": "code",
   "execution_count": 74,
   "source": [
    "sales_customer = sales_customer.drop(\"Transaction_Date\",axis=1)"
   ],
   "outputs": [],
   "metadata": {}
  },
  {
   "cell_type": "code",
   "execution_count": 75,
   "source": [
    "import calendar\r\n",
    "sales_customer[\"Month\"]=sales_customer.Date.dt.month.apply(lambda x:calendar.month_abbr[x])"
   ],
   "outputs": [],
   "metadata": {}
  },
  {
   "cell_type": "code",
   "execution_count": 76,
   "source": [
    "# There is a space Product_Category column name\r\n",
    "disc_coupon.columns = ['Month', 'Product_Category', 'Coupon_Code', 'Discount_pct']"
   ],
   "outputs": [],
   "metadata": {}
  },
  {
   "cell_type": "code",
   "execution_count": 77,
   "source": [
    "## Adding cupon information in that particular month\r\n",
    "sales_customer = pd.merge(sales_customer,disc_coupon,on=[\"Month\",\"Product_Category\"],how=\"left\")"
   ],
   "outputs": [],
   "metadata": {}
  },
  {
   "cell_type": "code",
   "execution_count": 78,
   "source": [
    "## Adding tax information\r\n",
    "sales_customer = pd.merge(sales_customer,tax_amount,on=\"Product_Category\",how=\"left\")"
   ],
   "outputs": [],
   "metadata": {}
  },
  {
   "cell_type": "code",
   "execution_count": 79,
   "source": [
    "sales_customer.Discount_pct = sales_customer.Discount_pct/100"
   ],
   "outputs": [],
   "metadata": {}
  },
  {
   "cell_type": "code",
   "execution_count": 81,
   "source": [
    "sales_customer.isna().sum()"
   ],
   "outputs": [
    {
     "output_type": "execute_result",
     "data": {
      "text/plain": [
       "CustomerID               0\n",
       "Gender                   0\n",
       "Location                 0\n",
       "Tenure_Months            0\n",
       "Transaction_ID           0\n",
       "Date                     0\n",
       "Product_SKU              0\n",
       "Product_Description      0\n",
       "Product_Category         0\n",
       "Quantity                 0\n",
       "Avg_Price                0\n",
       "Delivery_Charges         0\n",
       "Coupon_Status            0\n",
       "Month                    0\n",
       "Coupon_Code            400\n",
       "Discount_pct           400\n",
       "GST                      0\n",
       "dtype: int64"
      ]
     },
     "metadata": {},
     "execution_count": 81
    }
   ],
   "metadata": {}
  },
  {
   "cell_type": "code",
   "execution_count": 83,
   "source": [
    "# First lets fill nan with 0 to make calculations possible\r\n",
    "# Where there is no discount is given \r\n",
    "sales_customer.fillna(0,inplace=True)"
   ],
   "outputs": [],
   "metadata": {}
  },
  {
   "cell_type": "code",
   "execution_count": 88,
   "source": [
    "# We can encode coupon status to be 0 for not used and clicked and 1 for used \r\n",
    "# It will also make calculations easy \r\n",
    "# just multiply with the coupon status encoded column to add or not add the discount percentage"
   ],
   "outputs": [],
   "metadata": {}
  },
  {
   "cell_type": "code",
   "execution_count": 89,
   "source": [
    "\r\n",
    "sales_customer[\"Invoice_Value\"] = (sales_customer.Quantity*sales_customer.Avg_Price)*(1-sales_customer.Discount_pct*sales_customer.Coupon_Status.replace(['Used', 'Clicked','Not Used'],[1,0,0]))*(1+sales_customer.GST)+sales_customer.Delivery_Charges"
   ],
   "outputs": [],
   "metadata": {}
  },
  {
   "cell_type": "code",
   "execution_count": 92,
   "source": [
    "sales_customer.to_csv(\"Summaries/Final_DF.csv\")"
   ],
   "outputs": [],
   "metadata": {}
  },
  {
   "cell_type": "markdown",
   "source": [
    "# EDA"
   ],
   "metadata": {}
  },
  {
   "cell_type": "code",
   "execution_count": 95,
   "source": [
    "df_eda = sales_customer.copy()"
   ],
   "outputs": [],
   "metadata": {}
  },
  {
   "cell_type": "markdown",
   "source": [
    "### Q1 Understanding how many customers acquired every month"
   ],
   "metadata": {}
  },
  {
   "cell_type": "code",
   "execution_count": 99,
   "source": [
    "cust_each_month = df_eda[~df_eda.CustomerID.duplicated()].groupby(\"Month\")[\"CustomerID\"].count().reindex([\"Jan\",\"Feb\",\"Mar\",\"Apr\",\"May\",\"Jun\",\"Jul\",\"Aug\",\"Sep\",\"Oct\",\"Nov\",\"Dec\"]).reset_index()"
   ],
   "outputs": [],
   "metadata": {}
  },
  {
   "cell_type": "code",
   "execution_count": 100,
   "source": [
    "cust_each_month.columns = [\"Month\",\"Customers_Acquired\"]\r\n",
    "plt.figure(figsize = (15,5))\r\n",
    "bars = plt.bar(cust_each_month.Month,cust_each_month.Customers_Acquired)\r\n",
    "plt.title(\"Number of Customers Acquired Each Month\")\r\n",
    "for bar in bars:\r\n",
    "    plt.gca().text(bar.get_x() + bar.get_width()/2, bar.get_height() - 20, str(int(bar.get_height())), \r\n",
    "                 ha='center', color='w', fontsize=11)\r\n"
   ],
   "outputs": [
    {
     "output_type": "display_data",
     "data": {
      "text/plain": [
       "<Figure size 1080x360 with 1 Axes>"
      ],
      "image/svg+xml": "<?xml version=\"1.0\" encoding=\"utf-8\" standalone=\"no\"?>\r\n<!DOCTYPE svg PUBLIC \"-//W3C//DTD SVG 1.1//EN\"\r\n  \"http://www.w3.org/Graphics/SVG/1.1/DTD/svg11.dtd\">\r\n<!-- Created with matplotlib (https://matplotlib.org/) -->\r\n<svg height=\"320.702812pt\" version=\"1.1\" viewBox=\"0 0 878.582812 320.702812\" width=\"878.582812pt\" xmlns=\"http://www.w3.org/2000/svg\" xmlns:xlink=\"http://www.w3.org/1999/xlink\">\r\n <metadata>\r\n  <rdf:RDF xmlns:cc=\"http://creativecommons.org/ns#\" xmlns:dc=\"http://purl.org/dc/elements/1.1/\" xmlns:rdf=\"http://www.w3.org/1999/02/22-rdf-syntax-ns#\">\r\n   <cc:Work>\r\n    <dc:type rdf:resource=\"http://purl.org/dc/dcmitype/StillImage\"/>\r\n    <dc:date>2021-09-02T18:52:11.931841</dc:date>\r\n    <dc:format>image/svg+xml</dc:format>\r\n    <dc:creator>\r\n     <cc:Agent>\r\n      <dc:title>Matplotlib v3.3.4, https://matplotlib.org/</dc:title>\r\n     </cc:Agent>\r\n    </dc:creator>\r\n   </cc:Work>\r\n  </rdf:RDF>\r\n </metadata>\r\n <defs>\r\n  <style type=\"text/css\">*{stroke-linecap:butt;stroke-linejoin:round;}</style>\r\n </defs>\r\n <g id=\"figure_1\">\r\n  <g id=\"patch_1\">\r\n   <path d=\"M 0 320.702812 \r\nL 878.582812 320.702812 \r\nL 878.582812 0 \r\nL 0 0 \r\nz\r\n\" style=\"fill:none;\"/>\r\n  </g>\r\n  <g id=\"axes_1\">\r\n   <g id=\"patch_2\">\r\n    <path d=\"M 34.382813 293.735625 \r\nL 871.382812 293.735625 \r\nL 871.382812 21.935625 \r\nL 34.382813 21.935625 \r\nz\r\n\" style=\"fill:#eaeaf2;\"/>\r\n   </g>\r\n   <g id=\"matplotlib.axis_1\">\r\n    <g id=\"xtick_1\">\r\n     <g id=\"line2d_1\">\r\n      <path clip-path=\"url(#pd5f330d2ef)\" d=\"M 98.221796 293.735625 \r\nL 98.221796 21.935625 \r\n\" style=\"fill:none;stroke:#ffffff;stroke-linecap:round;\"/>\r\n     </g>\r\n     <g id=\"line2d_2\">\r\n      <defs>\r\n       <path d=\"M 0 0 \r\nL 0 3.5 \r\n\" id=\"m40474206ba\" style=\"stroke:#262626;\"/>\r\n      </defs>\r\n      <g>\r\n       <use style=\"fill:#262626;stroke:#262626;\" x=\"98.221796\" xlink:href=\"#m40474206ba\" y=\"293.735625\"/>\r\n      </g>\r\n     </g>\r\n     <g id=\"text_1\">\r\n      <!-- Jan -->\r\n      <g style=\"fill:#262626;\" transform=\"translate(90.160858 311.393438)scale(0.1 -0.1)\">\r\n       <defs>\r\n        <path d=\"M 2.875 20.3125 \r\nL 11.421875 21.484375 \r\nQ 11.765625 13.28125 14.5 10.25 \r\nQ 17.234375 7.234375 22.078125 7.234375 \r\nQ 25.640625 7.234375 28.21875 8.859375 \r\nQ 30.8125 10.5 31.78125 13.296875 \r\nQ 32.765625 16.109375 32.765625 22.265625 \r\nL 32.765625 71.578125 \r\nL 42.234375 71.578125 \r\nL 42.234375 22.796875 \r\nQ 42.234375 13.8125 40.0625 8.875 \r\nQ 37.890625 3.953125 33.171875 1.359375 \r\nQ 28.46875 -1.21875 22.125 -1.21875 \r\nQ 12.703125 -1.21875 7.6875 4.203125 \r\nQ 2.6875 9.625 2.875 20.3125 \r\nz\r\n\" id=\"ArialMT-74\"/>\r\n        <path d=\"M 40.4375 6.390625 \r\nQ 35.546875 2.25 31.03125 0.53125 \r\nQ 26.515625 -1.171875 21.34375 -1.171875 \r\nQ 12.796875 -1.171875 8.203125 3 \r\nQ 3.609375 7.171875 3.609375 13.671875 \r\nQ 3.609375 17.484375 5.34375 20.625 \r\nQ 7.078125 23.78125 9.890625 25.6875 \r\nQ 12.703125 27.59375 16.21875 28.5625 \r\nQ 18.796875 29.25 24.03125 29.890625 \r\nQ 34.671875 31.15625 39.703125 32.90625 \r\nQ 39.75 34.71875 39.75 35.203125 \r\nQ 39.75 40.578125 37.25 42.78125 \r\nQ 33.890625 45.75 27.25 45.75 \r\nQ 21.046875 45.75 18.09375 43.578125 \r\nQ 15.140625 41.40625 13.71875 35.890625 \r\nL 5.125 37.0625 \r\nQ 6.296875 42.578125 8.984375 45.96875 \r\nQ 11.671875 49.359375 16.75 51.1875 \r\nQ 21.828125 53.03125 28.515625 53.03125 \r\nQ 35.15625 53.03125 39.296875 51.46875 \r\nQ 43.453125 49.90625 45.40625 47.53125 \r\nQ 47.359375 45.171875 48.140625 41.546875 \r\nQ 48.578125 39.3125 48.578125 33.453125 \r\nL 48.578125 21.734375 \r\nQ 48.578125 9.46875 49.140625 6.21875 \r\nQ 49.703125 2.984375 51.375 0 \r\nL 42.1875 0 \r\nQ 40.828125 2.734375 40.4375 6.390625 \r\nz\r\nM 39.703125 26.03125 \r\nQ 34.90625 24.078125 25.34375 22.703125 \r\nQ 19.921875 21.921875 17.671875 20.9375 \r\nQ 15.4375 19.96875 14.203125 18.09375 \r\nQ 12.984375 16.21875 12.984375 13.921875 \r\nQ 12.984375 10.40625 15.640625 8.0625 \r\nQ 18.3125 5.71875 23.4375 5.71875 \r\nQ 28.515625 5.71875 32.46875 7.9375 \r\nQ 36.421875 10.15625 38.28125 14.015625 \r\nQ 39.703125 17 39.703125 22.796875 \r\nz\r\n\" id=\"ArialMT-97\"/>\r\n        <path d=\"M 6.59375 0 \r\nL 6.59375 51.859375 \r\nL 14.5 51.859375 \r\nL 14.5 44.484375 \r\nQ 20.21875 53.03125 31 53.03125 \r\nQ 35.6875 53.03125 39.625 51.34375 \r\nQ 43.5625 49.65625 45.515625 46.921875 \r\nQ 47.46875 44.1875 48.25 40.4375 \r\nQ 48.734375 37.984375 48.734375 31.890625 \r\nL 48.734375 0 \r\nL 39.9375 0 \r\nL 39.9375 31.546875 \r\nQ 39.9375 36.921875 38.90625 39.578125 \r\nQ 37.890625 42.234375 35.28125 43.8125 \r\nQ 32.671875 45.40625 29.15625 45.40625 \r\nQ 23.53125 45.40625 19.453125 41.84375 \r\nQ 15.375 38.28125 15.375 28.328125 \r\nL 15.375 0 \r\nz\r\n\" id=\"ArialMT-110\"/>\r\n       </defs>\r\n       <use xlink:href=\"#ArialMT-74\"/>\r\n       <use x=\"50\" xlink:href=\"#ArialMT-97\"/>\r\n       <use x=\"105.615234\" xlink:href=\"#ArialMT-110\"/>\r\n      </g>\r\n     </g>\r\n    </g>\r\n    <g id=\"xtick_2\">\r\n     <g id=\"line2d_3\">\r\n      <path clip-path=\"url(#pd5f330d2ef)\" d=\"M 162.705617 293.735625 \r\nL 162.705617 21.935625 \r\n\" style=\"fill:none;stroke:#ffffff;stroke-linecap:round;\"/>\r\n     </g>\r\n     <g id=\"line2d_4\">\r\n      <g>\r\n       <use style=\"fill:#262626;stroke:#262626;\" x=\"162.705617\" xlink:href=\"#m40474206ba\" y=\"293.735625\"/>\r\n      </g>\r\n     </g>\r\n     <g id=\"text_2\">\r\n      <!-- Feb -->\r\n      <g style=\"fill:#262626;\" transform=\"translate(154.090773 311.393438)scale(0.1 -0.1)\">\r\n       <defs>\r\n        <path d=\"M 8.203125 0 \r\nL 8.203125 71.578125 \r\nL 56.5 71.578125 \r\nL 56.5 63.140625 \r\nL 17.671875 63.140625 \r\nL 17.671875 40.96875 \r\nL 51.265625 40.96875 \r\nL 51.265625 32.515625 \r\nL 17.671875 32.515625 \r\nL 17.671875 0 \r\nz\r\n\" id=\"ArialMT-70\"/>\r\n        <path d=\"M 42.09375 16.703125 \r\nL 51.171875 15.578125 \r\nQ 49.03125 7.625 43.21875 3.21875 \r\nQ 37.40625 -1.171875 28.375 -1.171875 \r\nQ 17 -1.171875 10.328125 5.828125 \r\nQ 3.65625 12.84375 3.65625 25.484375 \r\nQ 3.65625 38.578125 10.390625 45.796875 \r\nQ 17.140625 53.03125 27.875 53.03125 \r\nQ 38.28125 53.03125 44.875 45.953125 \r\nQ 51.46875 38.875 51.46875 26.03125 \r\nQ 51.46875 25.25 51.421875 23.6875 \r\nL 12.75 23.6875 \r\nQ 13.234375 15.140625 17.578125 10.59375 \r\nQ 21.921875 6.0625 28.421875 6.0625 \r\nQ 33.25 6.0625 36.671875 8.59375 \r\nQ 40.09375 11.140625 42.09375 16.703125 \r\nz\r\nM 13.234375 30.90625 \r\nL 42.1875 30.90625 \r\nQ 41.609375 37.453125 38.875 40.71875 \r\nQ 34.671875 45.796875 27.984375 45.796875 \r\nQ 21.921875 45.796875 17.796875 41.75 \r\nQ 13.671875 37.703125 13.234375 30.90625 \r\nz\r\n\" id=\"ArialMT-101\"/>\r\n        <path d=\"M 14.703125 0 \r\nL 6.546875 0 \r\nL 6.546875 71.578125 \r\nL 15.328125 71.578125 \r\nL 15.328125 46.046875 \r\nQ 20.90625 53.03125 29.546875 53.03125 \r\nQ 34.328125 53.03125 38.59375 51.09375 \r\nQ 42.875 49.171875 45.625 45.671875 \r\nQ 48.390625 42.1875 49.953125 37.25 \r\nQ 51.515625 32.328125 51.515625 26.703125 \r\nQ 51.515625 13.375 44.921875 6.09375 \r\nQ 38.328125 -1.171875 29.109375 -1.171875 \r\nQ 19.921875 -1.171875 14.703125 6.5 \r\nz\r\nM 14.59375 26.3125 \r\nQ 14.59375 17 17.140625 12.84375 \r\nQ 21.296875 6.0625 28.375 6.0625 \r\nQ 34.125 6.0625 38.328125 11.0625 \r\nQ 42.53125 16.0625 42.53125 25.984375 \r\nQ 42.53125 36.140625 38.5 40.96875 \r\nQ 34.46875 45.796875 28.765625 45.796875 \r\nQ 23 45.796875 18.796875 40.796875 \r\nQ 14.59375 35.796875 14.59375 26.3125 \r\nz\r\n\" id=\"ArialMT-98\"/>\r\n       </defs>\r\n       <use xlink:href=\"#ArialMT-70\"/>\r\n       <use x=\"61.083984\" xlink:href=\"#ArialMT-101\"/>\r\n       <use x=\"116.699219\" xlink:href=\"#ArialMT-98\"/>\r\n      </g>\r\n     </g>\r\n    </g>\r\n    <g id=\"xtick_3\">\r\n     <g id=\"line2d_5\">\r\n      <path clip-path=\"url(#pd5f330d2ef)\" d=\"M 227.189438 293.735625 \r\nL 227.189438 21.935625 \r\n\" style=\"fill:none;stroke:#ffffff;stroke-linecap:round;\"/>\r\n     </g>\r\n     <g id=\"line2d_6\">\r\n      <g>\r\n       <use style=\"fill:#262626;stroke:#262626;\" x=\"227.189438\" xlink:href=\"#m40474206ba\" y=\"293.735625\"/>\r\n      </g>\r\n     </g>\r\n     <g id=\"text_3\">\r\n      <!-- Mar -->\r\n      <g style=\"fill:#262626;\" transform=\"translate(218.579282 311.393438)scale(0.1 -0.1)\">\r\n       <defs>\r\n        <path d=\"M 7.421875 0 \r\nL 7.421875 71.578125 \r\nL 21.6875 71.578125 \r\nL 38.625 20.90625 \r\nQ 40.96875 13.8125 42.046875 10.296875 \r\nQ 43.265625 14.203125 45.84375 21.78125 \r\nL 62.984375 71.578125 \r\nL 75.734375 71.578125 \r\nL 75.734375 0 \r\nL 66.609375 0 \r\nL 66.609375 59.90625 \r\nL 45.796875 0 \r\nL 37.25 0 \r\nL 16.546875 60.9375 \r\nL 16.546875 0 \r\nz\r\n\" id=\"ArialMT-77\"/>\r\n        <path d=\"M 6.5 0 \r\nL 6.5 51.859375 \r\nL 14.40625 51.859375 \r\nL 14.40625 44 \r\nQ 17.4375 49.515625 20 51.265625 \r\nQ 22.5625 53.03125 25.640625 53.03125 \r\nQ 30.078125 53.03125 34.671875 50.203125 \r\nL 31.640625 42.046875 \r\nQ 28.421875 43.953125 25.203125 43.953125 \r\nQ 22.3125 43.953125 20.015625 42.21875 \r\nQ 17.71875 40.484375 16.75 37.40625 \r\nQ 15.28125 32.71875 15.28125 27.15625 \r\nL 15.28125 0 \r\nz\r\n\" id=\"ArialMT-114\"/>\r\n       </defs>\r\n       <use xlink:href=\"#ArialMT-77\"/>\r\n       <use x=\"83.300781\" xlink:href=\"#ArialMT-97\"/>\r\n       <use x=\"138.916016\" xlink:href=\"#ArialMT-114\"/>\r\n      </g>\r\n     </g>\r\n    </g>\r\n    <g id=\"xtick_4\">\r\n     <g id=\"line2d_7\">\r\n      <path clip-path=\"url(#pd5f330d2ef)\" d=\"M 291.673259 293.735625 \r\nL 291.673259 21.935625 \r\n\" style=\"fill:none;stroke:#ffffff;stroke-linecap:round;\"/>\r\n     </g>\r\n     <g id=\"line2d_8\">\r\n      <g>\r\n       <use style=\"fill:#262626;stroke:#262626;\" x=\"291.673259\" xlink:href=\"#m40474206ba\" y=\"293.735625\"/>\r\n      </g>\r\n     </g>\r\n     <g id=\"text_4\">\r\n      <!-- Apr -->\r\n      <g style=\"fill:#262626;\" transform=\"translate(283.892791 311.393438)scale(0.1 -0.1)\">\r\n       <defs>\r\n        <path d=\"M -0.140625 0 \r\nL 27.34375 71.578125 \r\nL 37.546875 71.578125 \r\nL 66.84375 0 \r\nL 56.0625 0 \r\nL 47.703125 21.6875 \r\nL 17.78125 21.6875 \r\nL 9.90625 0 \r\nz\r\nM 20.515625 29.390625 \r\nL 44.78125 29.390625 \r\nL 37.3125 49.21875 \r\nQ 33.890625 58.25 32.234375 64.0625 \r\nQ 30.859375 57.171875 28.375 50.390625 \r\nz\r\n\" id=\"ArialMT-65\"/>\r\n        <path d=\"M 6.59375 -19.875 \r\nL 6.59375 51.859375 \r\nL 14.59375 51.859375 \r\nL 14.59375 45.125 \r\nQ 17.4375 49.078125 21 51.046875 \r\nQ 24.5625 53.03125 29.640625 53.03125 \r\nQ 36.28125 53.03125 41.359375 49.609375 \r\nQ 46.4375 46.1875 49.015625 39.953125 \r\nQ 51.609375 33.734375 51.609375 26.3125 \r\nQ 51.609375 18.359375 48.75 11.984375 \r\nQ 45.90625 5.609375 40.453125 2.21875 \r\nQ 35.015625 -1.171875 29 -1.171875 \r\nQ 24.609375 -1.171875 21.109375 0.6875 \r\nQ 17.625 2.546875 15.375 5.375 \r\nL 15.375 -19.875 \r\nz\r\nM 14.546875 25.640625 \r\nQ 14.546875 15.625 18.59375 10.84375 \r\nQ 22.65625 6.0625 28.421875 6.0625 \r\nQ 34.28125 6.0625 38.453125 11.015625 \r\nQ 42.625 15.96875 42.625 26.375 \r\nQ 42.625 36.28125 38.546875 41.203125 \r\nQ 34.46875 46.140625 28.8125 46.140625 \r\nQ 23.1875 46.140625 18.859375 40.890625 \r\nQ 14.546875 35.640625 14.546875 25.640625 \r\nz\r\n\" id=\"ArialMT-112\"/>\r\n       </defs>\r\n       <use xlink:href=\"#ArialMT-65\"/>\r\n       <use x=\"66.699219\" xlink:href=\"#ArialMT-112\"/>\r\n       <use x=\"122.314453\" xlink:href=\"#ArialMT-114\"/>\r\n      </g>\r\n     </g>\r\n    </g>\r\n    <g id=\"xtick_5\">\r\n     <g id=\"line2d_9\">\r\n      <path clip-path=\"url(#pd5f330d2ef)\" d=\"M 356.157081 293.735625 \r\nL 356.157081 21.935625 \r\n\" style=\"fill:none;stroke:#ffffff;stroke-linecap:round;\"/>\r\n     </g>\r\n     <g id=\"line2d_10\">\r\n      <g>\r\n       <use style=\"fill:#262626;stroke:#262626;\" x=\"356.157081\" xlink:href=\"#m40474206ba\" y=\"293.735625\"/>\r\n      </g>\r\n     </g>\r\n     <g id=\"text_5\">\r\n      <!-- May -->\r\n      <g style=\"fill:#262626;\" transform=\"translate(346.711768 311.393438)scale(0.1 -0.1)\">\r\n       <defs>\r\n        <path d=\"M 6.203125 -19.96875 \r\nL 5.21875 -11.71875 \r\nQ 8.109375 -12.5 10.25 -12.5 \r\nQ 13.1875 -12.5 14.9375 -11.515625 \r\nQ 16.703125 -10.546875 17.828125 -8.796875 \r\nQ 18.65625 -7.46875 20.515625 -2.25 \r\nQ 20.75 -1.515625 21.296875 -0.09375 \r\nL 1.609375 51.859375 \r\nL 11.078125 51.859375 \r\nL 21.875 21.828125 \r\nQ 23.96875 16.109375 25.640625 9.8125 \r\nQ 27.15625 15.875 29.25 21.625 \r\nL 40.328125 51.859375 \r\nL 49.125 51.859375 \r\nL 29.390625 -0.875 \r\nQ 26.21875 -9.421875 24.46875 -12.640625 \r\nQ 22.125 -17 19.09375 -19.015625 \r\nQ 16.0625 -21.046875 11.859375 -21.046875 \r\nQ 9.328125 -21.046875 6.203125 -19.96875 \r\nz\r\n\" id=\"ArialMT-121\"/>\r\n       </defs>\r\n       <use xlink:href=\"#ArialMT-77\"/>\r\n       <use x=\"83.300781\" xlink:href=\"#ArialMT-97\"/>\r\n       <use x=\"138.916016\" xlink:href=\"#ArialMT-121\"/>\r\n      </g>\r\n     </g>\r\n    </g>\r\n    <g id=\"xtick_6\">\r\n     <g id=\"line2d_11\">\r\n      <path clip-path=\"url(#pd5f330d2ef)\" d=\"M 420.640902 293.735625 \r\nL 420.640902 21.935625 \r\n\" style=\"fill:none;stroke:#ffffff;stroke-linecap:round;\"/>\r\n     </g>\r\n     <g id=\"line2d_12\">\r\n      <g>\r\n       <use style=\"fill:#262626;stroke:#262626;\" x=\"420.640902\" xlink:href=\"#m40474206ba\" y=\"293.735625\"/>\r\n      </g>\r\n     </g>\r\n     <g id=\"text_6\">\r\n      <!-- Jun -->\r\n      <g style=\"fill:#262626;\" transform=\"translate(412.579964 311.393438)scale(0.1 -0.1)\">\r\n       <defs>\r\n        <path d=\"M 40.578125 0 \r\nL 40.578125 7.625 \r\nQ 34.515625 -1.171875 24.125 -1.171875 \r\nQ 19.53125 -1.171875 15.546875 0.578125 \r\nQ 11.578125 2.34375 9.640625 5 \r\nQ 7.71875 7.671875 6.9375 11.53125 \r\nQ 6.390625 14.109375 6.390625 19.734375 \r\nL 6.390625 51.859375 \r\nL 15.1875 51.859375 \r\nL 15.1875 23.09375 \r\nQ 15.1875 16.21875 15.71875 13.8125 \r\nQ 16.546875 10.359375 19.234375 8.375 \r\nQ 21.921875 6.390625 25.875 6.390625 \r\nQ 29.828125 6.390625 33.296875 8.421875 \r\nQ 36.765625 10.453125 38.203125 13.9375 \r\nQ 39.65625 17.4375 39.65625 24.078125 \r\nL 39.65625 51.859375 \r\nL 48.4375 51.859375 \r\nL 48.4375 0 \r\nz\r\n\" id=\"ArialMT-117\"/>\r\n       </defs>\r\n       <use xlink:href=\"#ArialMT-74\"/>\r\n       <use x=\"50\" xlink:href=\"#ArialMT-117\"/>\r\n       <use x=\"105.615234\" xlink:href=\"#ArialMT-110\"/>\r\n      </g>\r\n     </g>\r\n    </g>\r\n    <g id=\"xtick_7\">\r\n     <g id=\"line2d_13\">\r\n      <path clip-path=\"url(#pd5f330d2ef)\" d=\"M 485.124723 293.735625 \r\nL 485.124723 21.935625 \r\n\" style=\"fill:none;stroke:#ffffff;stroke-linecap:round;\"/>\r\n     </g>\r\n     <g id=\"line2d_14\">\r\n      <g>\r\n       <use style=\"fill:#262626;stroke:#262626;\" x=\"485.124723\" xlink:href=\"#m40474206ba\" y=\"293.735625\"/>\r\n      </g>\r\n     </g>\r\n     <g id=\"text_7\">\r\n      <!-- Jul -->\r\n      <g style=\"fill:#262626;\" transform=\"translate(478.733317 311.393438)scale(0.1 -0.1)\">\r\n       <defs>\r\n        <path d=\"M 6.390625 0 \r\nL 6.390625 71.578125 \r\nL 15.1875 71.578125 \r\nL 15.1875 0 \r\nz\r\n\" id=\"ArialMT-108\"/>\r\n       </defs>\r\n       <use xlink:href=\"#ArialMT-74\"/>\r\n       <use x=\"50\" xlink:href=\"#ArialMT-117\"/>\r\n       <use x=\"105.615234\" xlink:href=\"#ArialMT-108\"/>\r\n      </g>\r\n     </g>\r\n    </g>\r\n    <g id=\"xtick_8\">\r\n     <g id=\"line2d_15\">\r\n      <path clip-path=\"url(#pd5f330d2ef)\" d=\"M 549.608544 293.735625 \r\nL 549.608544 21.935625 \r\n\" style=\"fill:none;stroke:#ffffff;stroke-linecap:round;\"/>\r\n     </g>\r\n     <g id=\"line2d_16\">\r\n      <g>\r\n       <use style=\"fill:#262626;stroke:#262626;\" x=\"549.608544\" xlink:href=\"#m40474206ba\" y=\"293.735625\"/>\r\n      </g>\r\n     </g>\r\n     <g id=\"text_8\">\r\n      <!-- Aug -->\r\n      <g style=\"fill:#262626;\" transform=\"translate(540.712451 311.393438)scale(0.1 -0.1)\">\r\n       <defs>\r\n        <path d=\"M 4.984375 -4.296875 \r\nL 13.53125 -5.5625 \r\nQ 14.0625 -9.515625 16.5 -11.328125 \r\nQ 19.78125 -13.765625 25.4375 -13.765625 \r\nQ 31.546875 -13.765625 34.859375 -11.328125 \r\nQ 38.1875 -8.890625 39.359375 -4.5 \r\nQ 40.046875 -1.8125 39.984375 6.78125 \r\nQ 34.234375 0 25.640625 0 \r\nQ 14.9375 0 9.078125 7.71875 \r\nQ 3.21875 15.4375 3.21875 26.21875 \r\nQ 3.21875 33.640625 5.90625 39.90625 \r\nQ 8.59375 46.1875 13.6875 49.609375 \r\nQ 18.796875 53.03125 25.6875 53.03125 \r\nQ 34.859375 53.03125 40.828125 45.609375 \r\nL 40.828125 51.859375 \r\nL 48.921875 51.859375 \r\nL 48.921875 7.03125 \r\nQ 48.921875 -5.078125 46.453125 -10.125 \r\nQ 44 -15.1875 38.640625 -18.109375 \r\nQ 33.296875 -21.046875 25.484375 -21.046875 \r\nQ 16.21875 -21.046875 10.5 -16.875 \r\nQ 4.78125 -12.703125 4.984375 -4.296875 \r\nz\r\nM 12.25 26.859375 \r\nQ 12.25 16.65625 16.296875 11.96875 \r\nQ 20.359375 7.28125 26.46875 7.28125 \r\nQ 32.515625 7.28125 36.609375 11.9375 \r\nQ 40.71875 16.609375 40.71875 26.5625 \r\nQ 40.71875 36.078125 36.5 40.90625 \r\nQ 32.28125 45.75 26.3125 45.75 \r\nQ 20.453125 45.75 16.34375 40.984375 \r\nQ 12.25 36.234375 12.25 26.859375 \r\nz\r\n\" id=\"ArialMT-103\"/>\r\n       </defs>\r\n       <use xlink:href=\"#ArialMT-65\"/>\r\n       <use x=\"66.699219\" xlink:href=\"#ArialMT-117\"/>\r\n       <use x=\"122.314453\" xlink:href=\"#ArialMT-103\"/>\r\n      </g>\r\n     </g>\r\n    </g>\r\n    <g id=\"xtick_9\">\r\n     <g id=\"line2d_17\">\r\n      <path clip-path=\"url(#pd5f330d2ef)\" d=\"M 614.092366 293.735625 \r\nL 614.092366 21.935625 \r\n\" style=\"fill:none;stroke:#ffffff;stroke-linecap:round;\"/>\r\n     </g>\r\n     <g id=\"line2d_18\">\r\n      <g>\r\n       <use style=\"fill:#262626;stroke:#262626;\" x=\"614.092366\" xlink:href=\"#m40474206ba\" y=\"293.735625\"/>\r\n      </g>\r\n     </g>\r\n     <g id=\"text_9\">\r\n      <!-- Sep -->\r\n      <g style=\"fill:#262626;\" transform=\"translate(605.196272 311.515312)scale(0.1 -0.1)\">\r\n       <defs>\r\n        <path d=\"M 4.5 23 \r\nL 13.421875 23.78125 \r\nQ 14.0625 18.40625 16.375 14.96875 \r\nQ 18.703125 11.53125 23.578125 9.40625 \r\nQ 28.46875 7.28125 34.578125 7.28125 \r\nQ 39.984375 7.28125 44.140625 8.890625 \r\nQ 48.296875 10.5 50.3125 13.296875 \r\nQ 52.34375 16.109375 52.34375 19.4375 \r\nQ 52.34375 22.796875 50.390625 25.3125 \r\nQ 48.4375 27.828125 43.953125 29.546875 \r\nQ 41.0625 30.671875 31.203125 33.03125 \r\nQ 21.34375 35.40625 17.390625 37.5 \r\nQ 12.25 40.1875 9.734375 44.15625 \r\nQ 7.234375 48.140625 7.234375 53.078125 \r\nQ 7.234375 58.5 10.296875 63.203125 \r\nQ 13.375 67.921875 19.28125 70.359375 \r\nQ 25.203125 72.796875 32.421875 72.796875 \r\nQ 40.375 72.796875 46.453125 70.234375 \r\nQ 52.546875 67.671875 55.8125 62.6875 \r\nQ 59.078125 57.71875 59.328125 51.421875 \r\nL 50.25 50.734375 \r\nQ 49.515625 57.515625 45.28125 60.984375 \r\nQ 41.0625 64.453125 32.8125 64.453125 \r\nQ 24.21875 64.453125 20.28125 61.296875 \r\nQ 16.359375 58.15625 16.359375 53.71875 \r\nQ 16.359375 49.859375 19.140625 47.359375 \r\nQ 21.875 44.875 33.421875 42.265625 \r\nQ 44.96875 39.65625 49.265625 37.703125 \r\nQ 55.515625 34.8125 58.484375 30.390625 \r\nQ 61.46875 25.984375 61.46875 20.21875 \r\nQ 61.46875 14.5 58.203125 9.4375 \r\nQ 54.9375 4.390625 48.796875 1.578125 \r\nQ 42.671875 -1.21875 35.015625 -1.21875 \r\nQ 25.296875 -1.21875 18.71875 1.609375 \r\nQ 12.15625 4.4375 8.421875 10.125 \r\nQ 4.6875 15.828125 4.5 23 \r\nz\r\n\" id=\"ArialMT-83\"/>\r\n       </defs>\r\n       <use xlink:href=\"#ArialMT-83\"/>\r\n       <use x=\"66.699219\" xlink:href=\"#ArialMT-101\"/>\r\n       <use x=\"122.314453\" xlink:href=\"#ArialMT-112\"/>\r\n      </g>\r\n     </g>\r\n    </g>\r\n    <g id=\"xtick_10\">\r\n     <g id=\"line2d_19\">\r\n      <path clip-path=\"url(#pd5f330d2ef)\" d=\"M 678.576187 293.735625 \r\nL 678.576187 21.935625 \r\n\" style=\"fill:none;stroke:#ffffff;stroke-linecap:round;\"/>\r\n     </g>\r\n     <g id=\"line2d_20\">\r\n      <g>\r\n       <use style=\"fill:#262626;stroke:#262626;\" x=\"678.576187\" xlink:href=\"#m40474206ba\" y=\"293.735625\"/>\r\n      </g>\r\n     </g>\r\n     <g id=\"text_10\">\r\n      <!-- Oct -->\r\n      <g style=\"fill:#262626;\" transform=\"translate(670.798062 311.393438)scale(0.1 -0.1)\">\r\n       <defs>\r\n        <path d=\"M 4.828125 34.859375 \r\nQ 4.828125 52.6875 14.390625 62.765625 \r\nQ 23.96875 72.859375 39.109375 72.859375 \r\nQ 49.03125 72.859375 56.984375 68.109375 \r\nQ 64.9375 63.375 69.109375 54.90625 \r\nQ 73.296875 46.4375 73.296875 35.6875 \r\nQ 73.296875 24.8125 68.890625 16.21875 \r\nQ 64.5 7.625 56.4375 3.203125 \r\nQ 48.390625 -1.21875 39.0625 -1.21875 \r\nQ 28.953125 -1.21875 20.984375 3.65625 \r\nQ 13.03125 8.546875 8.921875 16.984375 \r\nQ 4.828125 25.4375 4.828125 34.859375 \r\nz\r\nM 14.59375 34.71875 \r\nQ 14.59375 21.78125 21.546875 14.328125 \r\nQ 28.515625 6.890625 39.015625 6.890625 \r\nQ 49.703125 6.890625 56.609375 14.40625 \r\nQ 63.53125 21.921875 63.53125 35.75 \r\nQ 63.53125 44.484375 60.578125 51 \r\nQ 57.625 57.515625 51.921875 61.109375 \r\nQ 46.234375 64.703125 39.15625 64.703125 \r\nQ 29.109375 64.703125 21.84375 57.78125 \r\nQ 14.59375 50.875 14.59375 34.71875 \r\nz\r\n\" id=\"ArialMT-79\"/>\r\n        <path d=\"M 40.4375 19 \r\nL 49.078125 17.875 \r\nQ 47.65625 8.9375 41.8125 3.875 \r\nQ 35.984375 -1.171875 27.484375 -1.171875 \r\nQ 16.84375 -1.171875 10.375 5.78125 \r\nQ 3.90625 12.75 3.90625 25.734375 \r\nQ 3.90625 34.125 6.6875 40.421875 \r\nQ 9.46875 46.734375 15.15625 49.875 \r\nQ 20.84375 53.03125 27.546875 53.03125 \r\nQ 35.984375 53.03125 41.359375 48.75 \r\nQ 46.734375 44.484375 48.25 36.625 \r\nL 39.703125 35.296875 \r\nQ 38.484375 40.53125 35.375 43.15625 \r\nQ 32.28125 45.796875 27.875 45.796875 \r\nQ 21.234375 45.796875 17.078125 41.03125 \r\nQ 12.9375 36.28125 12.9375 25.984375 \r\nQ 12.9375 15.53125 16.9375 10.796875 \r\nQ 20.953125 6.0625 27.390625 6.0625 \r\nQ 32.5625 6.0625 36.03125 9.234375 \r\nQ 39.5 12.40625 40.4375 19 \r\nz\r\n\" id=\"ArialMT-99\"/>\r\n        <path d=\"M 25.78125 7.859375 \r\nL 27.046875 0.09375 \r\nQ 23.34375 -0.6875 20.40625 -0.6875 \r\nQ 15.625 -0.6875 12.984375 0.828125 \r\nQ 10.359375 2.34375 9.28125 4.8125 \r\nQ 8.203125 7.28125 8.203125 15.1875 \r\nL 8.203125 45.015625 \r\nL 1.765625 45.015625 \r\nL 1.765625 51.859375 \r\nL 8.203125 51.859375 \r\nL 8.203125 64.703125 \r\nL 16.9375 69.96875 \r\nL 16.9375 51.859375 \r\nL 25.78125 51.859375 \r\nL 25.78125 45.015625 \r\nL 16.9375 45.015625 \r\nL 16.9375 14.703125 \r\nQ 16.9375 10.9375 17.40625 9.859375 \r\nQ 17.875 8.796875 18.921875 8.15625 \r\nQ 19.96875 7.515625 21.921875 7.515625 \r\nQ 23.390625 7.515625 25.78125 7.859375 \r\nz\r\n\" id=\"ArialMT-116\"/>\r\n       </defs>\r\n       <use xlink:href=\"#ArialMT-79\"/>\r\n       <use x=\"77.783203\" xlink:href=\"#ArialMT-99\"/>\r\n       <use x=\"127.783203\" xlink:href=\"#ArialMT-116\"/>\r\n      </g>\r\n     </g>\r\n    </g>\r\n    <g id=\"xtick_11\">\r\n     <g id=\"line2d_21\">\r\n      <path clip-path=\"url(#pd5f330d2ef)\" d=\"M 743.060008 293.735625 \r\nL 743.060008 21.935625 \r\n\" style=\"fill:none;stroke:#ffffff;stroke-linecap:round;\"/>\r\n     </g>\r\n     <g id=\"line2d_22\">\r\n      <g>\r\n       <use style=\"fill:#262626;stroke:#262626;\" x=\"743.060008\" xlink:href=\"#m40474206ba\" y=\"293.735625\"/>\r\n      </g>\r\n     </g>\r\n     <g id=\"text_11\">\r\n      <!-- Nov -->\r\n      <g style=\"fill:#262626;\" transform=\"translate(734.168602 311.393438)scale(0.1 -0.1)\">\r\n       <defs>\r\n        <path d=\"M 7.625 0 \r\nL 7.625 71.578125 \r\nL 17.328125 71.578125 \r\nL 54.9375 15.375 \r\nL 54.9375 71.578125 \r\nL 64.015625 71.578125 \r\nL 64.015625 0 \r\nL 54.296875 0 \r\nL 16.703125 56.25 \r\nL 16.703125 0 \r\nz\r\n\" id=\"ArialMT-78\"/>\r\n        <path d=\"M 3.328125 25.921875 \r\nQ 3.328125 40.328125 11.328125 47.265625 \r\nQ 18.015625 53.03125 27.640625 53.03125 \r\nQ 38.328125 53.03125 45.109375 46.015625 \r\nQ 51.90625 39.015625 51.90625 26.65625 \r\nQ 51.90625 16.65625 48.90625 10.90625 \r\nQ 45.90625 5.171875 40.15625 2 \r\nQ 34.421875 -1.171875 27.640625 -1.171875 \r\nQ 16.75 -1.171875 10.03125 5.8125 \r\nQ 3.328125 12.796875 3.328125 25.921875 \r\nz\r\nM 12.359375 25.921875 \r\nQ 12.359375 15.96875 16.703125 11.015625 \r\nQ 21.046875 6.0625 27.640625 6.0625 \r\nQ 34.1875 6.0625 38.53125 11.03125 \r\nQ 42.875 16.015625 42.875 26.21875 \r\nQ 42.875 35.84375 38.5 40.796875 \r\nQ 34.125 45.75 27.640625 45.75 \r\nQ 21.046875 45.75 16.703125 40.8125 \r\nQ 12.359375 35.890625 12.359375 25.921875 \r\nz\r\n\" id=\"ArialMT-111\"/>\r\n        <path d=\"M 21 0 \r\nL 1.265625 51.859375 \r\nL 10.546875 51.859375 \r\nL 21.6875 20.796875 \r\nQ 23.484375 15.765625 25 10.359375 \r\nQ 26.171875 14.453125 28.265625 20.21875 \r\nL 39.796875 51.859375 \r\nL 48.828125 51.859375 \r\nL 29.203125 0 \r\nz\r\n\" id=\"ArialMT-118\"/>\r\n       </defs>\r\n       <use xlink:href=\"#ArialMT-78\"/>\r\n       <use x=\"72.216797\" xlink:href=\"#ArialMT-111\"/>\r\n       <use x=\"127.832031\" xlink:href=\"#ArialMT-118\"/>\r\n      </g>\r\n     </g>\r\n    </g>\r\n    <g id=\"xtick_12\">\r\n     <g id=\"line2d_23\">\r\n      <path clip-path=\"url(#pd5f330d2ef)\" d=\"M 807.543829 293.735625 \r\nL 807.543829 21.935625 \r\n\" style=\"fill:none;stroke:#ffffff;stroke-linecap:round;\"/>\r\n     </g>\r\n     <g id=\"line2d_24\">\r\n      <g>\r\n       <use style=\"fill:#262626;stroke:#262626;\" x=\"807.543829\" xlink:href=\"#m40474206ba\" y=\"293.735625\"/>\r\n      </g>\r\n     </g>\r\n     <g id=\"text_12\">\r\n      <!-- Dec -->\r\n      <g style=\"fill:#262626;\" transform=\"translate(798.652423 311.393438)scale(0.1 -0.1)\">\r\n       <defs>\r\n        <path d=\"M 7.71875 0 \r\nL 7.71875 71.578125 \r\nL 32.375 71.578125 \r\nQ 40.71875 71.578125 45.125 70.5625 \r\nQ 51.265625 69.140625 55.609375 65.4375 \r\nQ 61.28125 60.640625 64.078125 53.1875 \r\nQ 66.890625 45.75 66.890625 36.1875 \r\nQ 66.890625 28.03125 64.984375 21.734375 \r\nQ 63.09375 15.4375 60.109375 11.296875 \r\nQ 57.125 7.171875 53.578125 4.796875 \r\nQ 50.046875 2.4375 45.046875 1.21875 \r\nQ 40.046875 0 33.546875 0 \r\nz\r\nM 17.1875 8.453125 \r\nL 32.46875 8.453125 \r\nQ 39.546875 8.453125 43.578125 9.765625 \r\nQ 47.609375 11.078125 50 13.484375 \r\nQ 53.375 16.84375 55.25 22.53125 \r\nQ 57.125 28.21875 57.125 36.328125 \r\nQ 57.125 47.5625 53.4375 53.59375 \r\nQ 49.75 59.625 44.484375 61.671875 \r\nQ 40.671875 63.140625 32.234375 63.140625 \r\nL 17.1875 63.140625 \r\nz\r\n\" id=\"ArialMT-68\"/>\r\n       </defs>\r\n       <use xlink:href=\"#ArialMT-68\"/>\r\n       <use x=\"72.216797\" xlink:href=\"#ArialMT-101\"/>\r\n       <use x=\"127.832031\" xlink:href=\"#ArialMT-99\"/>\r\n      </g>\r\n     </g>\r\n    </g>\r\n   </g>\r\n   <g id=\"matplotlib.axis_2\">\r\n    <g id=\"ytick_1\">\r\n     <g id=\"line2d_25\">\r\n      <path clip-path=\"url(#pd5f330d2ef)\" d=\"M 34.382813 293.735625 \r\nL 871.382812 293.735625 \r\n\" style=\"fill:none;stroke:#ffffff;stroke-linecap:round;\"/>\r\n     </g>\r\n     <g id=\"line2d_26\">\r\n      <defs>\r\n       <path d=\"M 0 0 \r\nL -3.5 0 \r\n\" id=\"m57087c9ba3\" style=\"stroke:#262626;\"/>\r\n      </defs>\r\n      <g>\r\n       <use style=\"fill:#262626;stroke:#262626;\" x=\"34.382813\" xlink:href=\"#m57087c9ba3\" y=\"293.735625\"/>\r\n      </g>\r\n     </g>\r\n     <g id=\"text_13\">\r\n      <!-- 0 -->\r\n      <g style=\"fill:#262626;\" transform=\"translate(18.321875 297.314531)scale(0.1 -0.1)\">\r\n       <defs>\r\n        <path d=\"M 4.15625 35.296875 \r\nQ 4.15625 48 6.765625 55.734375 \r\nQ 9.375 63.484375 14.515625 67.671875 \r\nQ 19.671875 71.875 27.484375 71.875 \r\nQ 33.25 71.875 37.59375 69.546875 \r\nQ 41.9375 67.234375 44.765625 62.859375 \r\nQ 47.609375 58.5 49.21875 52.21875 \r\nQ 50.828125 45.953125 50.828125 35.296875 \r\nQ 50.828125 22.703125 48.234375 14.96875 \r\nQ 45.65625 7.234375 40.5 3 \r\nQ 35.359375 -1.21875 27.484375 -1.21875 \r\nQ 17.140625 -1.21875 11.234375 6.203125 \r\nQ 4.15625 15.140625 4.15625 35.296875 \r\nz\r\nM 13.1875 35.296875 \r\nQ 13.1875 17.671875 17.3125 11.828125 \r\nQ 21.4375 6 27.484375 6 \r\nQ 33.546875 6 37.671875 11.859375 \r\nQ 41.796875 17.71875 41.796875 35.296875 \r\nQ 41.796875 52.984375 37.671875 58.78125 \r\nQ 33.546875 64.59375 27.390625 64.59375 \r\nQ 21.34375 64.59375 17.71875 59.46875 \r\nQ 13.1875 52.9375 13.1875 35.296875 \r\nz\r\n\" id=\"ArialMT-48\"/>\r\n       </defs>\r\n       <use xlink:href=\"#ArialMT-48\"/>\r\n      </g>\r\n     </g>\r\n    </g>\r\n    <g id=\"ytick_2\">\r\n     <g id=\"line2d_27\">\r\n      <path clip-path=\"url(#pd5f330d2ef)\" d=\"M 34.382813 233.536289 \r\nL 871.382812 233.536289 \r\n\" style=\"fill:none;stroke:#ffffff;stroke-linecap:round;\"/>\r\n     </g>\r\n     <g id=\"line2d_28\">\r\n      <g>\r\n       <use style=\"fill:#262626;stroke:#262626;\" x=\"34.382813\" xlink:href=\"#m57087c9ba3\" y=\"233.536289\"/>\r\n      </g>\r\n     </g>\r\n     <g id=\"text_14\">\r\n      <!-- 50 -->\r\n      <g style=\"fill:#262626;\" transform=\"translate(12.760938 237.115196)scale(0.1 -0.1)\">\r\n       <defs>\r\n        <path d=\"M 4.15625 18.75 \r\nL 13.375 19.53125 \r\nQ 14.40625 12.796875 18.140625 9.390625 \r\nQ 21.875 6 27.15625 6 \r\nQ 33.5 6 37.890625 10.78125 \r\nQ 42.28125 15.578125 42.28125 23.484375 \r\nQ 42.28125 31 38.0625 35.34375 \r\nQ 33.84375 39.703125 27 39.703125 \r\nQ 22.75 39.703125 19.328125 37.765625 \r\nQ 15.921875 35.84375 13.96875 32.765625 \r\nL 5.71875 33.84375 \r\nL 12.640625 70.609375 \r\nL 48.25 70.609375 \r\nL 48.25 62.203125 \r\nL 19.671875 62.203125 \r\nL 15.828125 42.96875 \r\nQ 22.265625 47.46875 29.34375 47.46875 \r\nQ 38.71875 47.46875 45.15625 40.96875 \r\nQ 51.609375 34.46875 51.609375 24.265625 \r\nQ 51.609375 14.546875 45.953125 7.46875 \r\nQ 39.0625 -1.21875 27.15625 -1.21875 \r\nQ 17.390625 -1.21875 11.203125 4.25 \r\nQ 5.03125 9.71875 4.15625 18.75 \r\nz\r\n\" id=\"ArialMT-53\"/>\r\n       </defs>\r\n       <use xlink:href=\"#ArialMT-53\"/>\r\n       <use x=\"55.615234\" xlink:href=\"#ArialMT-48\"/>\r\n      </g>\r\n     </g>\r\n    </g>\r\n    <g id=\"ytick_3\">\r\n     <g id=\"line2d_29\">\r\n      <path clip-path=\"url(#pd5f330d2ef)\" d=\"M 34.382813 173.336954 \r\nL 871.382812 173.336954 \r\n\" style=\"fill:none;stroke:#ffffff;stroke-linecap:round;\"/>\r\n     </g>\r\n     <g id=\"line2d_30\">\r\n      <g>\r\n       <use style=\"fill:#262626;stroke:#262626;\" x=\"34.382813\" xlink:href=\"#m57087c9ba3\" y=\"173.336954\"/>\r\n      </g>\r\n     </g>\r\n     <g id=\"text_15\">\r\n      <!-- 100 -->\r\n      <g style=\"fill:#262626;\" transform=\"translate(7.2 176.91586)scale(0.1 -0.1)\">\r\n       <defs>\r\n        <path d=\"M 37.25 0 \r\nL 28.46875 0 \r\nL 28.46875 56 \r\nQ 25.296875 52.984375 20.140625 49.953125 \r\nQ 14.984375 46.921875 10.890625 45.40625 \r\nL 10.890625 53.90625 \r\nQ 18.265625 57.375 23.78125 62.296875 \r\nQ 29.296875 67.234375 31.59375 71.875 \r\nL 37.25 71.875 \r\nz\r\n\" id=\"ArialMT-49\"/>\r\n       </defs>\r\n       <use xlink:href=\"#ArialMT-49\"/>\r\n       <use x=\"55.615234\" xlink:href=\"#ArialMT-48\"/>\r\n       <use x=\"111.230469\" xlink:href=\"#ArialMT-48\"/>\r\n      </g>\r\n     </g>\r\n    </g>\r\n    <g id=\"ytick_4\">\r\n     <g id=\"line2d_31\">\r\n      <path clip-path=\"url(#pd5f330d2ef)\" d=\"M 34.382813 113.137618 \r\nL 871.382812 113.137618 \r\n\" style=\"fill:none;stroke:#ffffff;stroke-linecap:round;\"/>\r\n     </g>\r\n     <g id=\"line2d_32\">\r\n      <g>\r\n       <use style=\"fill:#262626;stroke:#262626;\" x=\"34.382813\" xlink:href=\"#m57087c9ba3\" y=\"113.137618\"/>\r\n      </g>\r\n     </g>\r\n     <g id=\"text_16\">\r\n      <!-- 150 -->\r\n      <g style=\"fill:#262626;\" transform=\"translate(7.2 116.716525)scale(0.1 -0.1)\">\r\n       <use xlink:href=\"#ArialMT-49\"/>\r\n       <use x=\"55.615234\" xlink:href=\"#ArialMT-53\"/>\r\n       <use x=\"111.230469\" xlink:href=\"#ArialMT-48\"/>\r\n      </g>\r\n     </g>\r\n    </g>\r\n    <g id=\"ytick_5\">\r\n     <g id=\"line2d_33\">\r\n      <path clip-path=\"url(#pd5f330d2ef)\" d=\"M 34.382813 52.938283 \r\nL 871.382812 52.938283 \r\n\" style=\"fill:none;stroke:#ffffff;stroke-linecap:round;\"/>\r\n     </g>\r\n     <g id=\"line2d_34\">\r\n      <g>\r\n       <use style=\"fill:#262626;stroke:#262626;\" x=\"34.382813\" xlink:href=\"#m57087c9ba3\" y=\"52.938283\"/>\r\n      </g>\r\n     </g>\r\n     <g id=\"text_17\">\r\n      <!-- 200 -->\r\n      <g style=\"fill:#262626;\" transform=\"translate(7.2 56.517189)scale(0.1 -0.1)\">\r\n       <defs>\r\n        <path d=\"M 50.34375 8.453125 \r\nL 50.34375 0 \r\nL 3.03125 0 \r\nQ 2.9375 3.171875 4.046875 6.109375 \r\nQ 5.859375 10.9375 9.828125 15.625 \r\nQ 13.8125 20.3125 21.34375 26.46875 \r\nQ 33.015625 36.03125 37.109375 41.625 \r\nQ 41.21875 47.21875 41.21875 52.203125 \r\nQ 41.21875 57.421875 37.46875 61 \r\nQ 33.734375 64.59375 27.734375 64.59375 \r\nQ 21.390625 64.59375 17.578125 60.78125 \r\nQ 13.765625 56.984375 13.71875 50.25 \r\nL 4.6875 51.171875 \r\nQ 5.609375 61.28125 11.65625 66.578125 \r\nQ 17.71875 71.875 27.9375 71.875 \r\nQ 38.234375 71.875 44.234375 66.15625 \r\nQ 50.25 60.453125 50.25 52 \r\nQ 50.25 47.703125 48.484375 43.546875 \r\nQ 46.734375 39.40625 42.65625 34.8125 \r\nQ 38.578125 30.21875 29.109375 22.21875 \r\nQ 21.1875 15.578125 18.9375 13.203125 \r\nQ 16.703125 10.84375 15.234375 8.453125 \r\nz\r\n\" id=\"ArialMT-50\"/>\r\n       </defs>\r\n       <use xlink:href=\"#ArialMT-50\"/>\r\n       <use x=\"55.615234\" xlink:href=\"#ArialMT-48\"/>\r\n       <use x=\"111.230469\" xlink:href=\"#ArialMT-48\"/>\r\n      </g>\r\n     </g>\r\n    </g>\r\n   </g>\r\n   <g id=\"patch_3\">\r\n    <path clip-path=\"url(#pd5f330d2ef)\" d=\"M 72.428267 293.735625 \r\nL 124.015324 293.735625 \r\nL 124.015324 34.878482 \r\nL 72.428267 34.878482 \r\nz\r\n\" style=\"fill:#1f77b4;\"/>\r\n   </g>\r\n   <g id=\"patch_4\">\r\n    <path clip-path=\"url(#pd5f330d2ef)\" d=\"M 136.912088 293.735625 \r\nL 188.499145 293.735625 \r\nL 188.499145 178.152901 \r\nL 136.912088 178.152901 \r\nz\r\n\" style=\"fill:#1f77b4;\"/>\r\n   </g>\r\n   <g id=\"patch_5\">\r\n    <path clip-path=\"url(#pd5f330d2ef)\" d=\"M 201.39591 293.735625 \r\nL 252.982967 293.735625 \r\nL 252.982967 80.629977 \r\nL 201.39591 80.629977 \r\nz\r\n\" style=\"fill:#1f77b4;\"/>\r\n   </g>\r\n   <g id=\"patch_6\">\r\n    <path clip-path=\"url(#pd5f330d2ef)\" d=\"M 265.879731 293.735625 \r\nL 317.466788 293.735625 \r\nL 317.466788 97.485791 \r\nL 265.879731 97.485791 \r\nz\r\n\" style=\"fill:#1f77b4;\"/>\r\n   </g>\r\n   <g id=\"patch_7\">\r\n    <path clip-path=\"url(#pd5f330d2ef)\" d=\"M 330.363552 293.735625 \r\nL 381.950609 293.735625 \r\nL 381.950609 158.889113 \r\nL 330.363552 158.889113 \r\nz\r\n\" style=\"fill:#1f77b4;\"/>\r\n   </g>\r\n   <g id=\"patch_8\">\r\n    <path clip-path=\"url(#pd5f330d2ef)\" d=\"M 394.847373 293.735625 \r\nL 446.43443 293.735625 \r\nL 446.43443 128.789446 \r\nL 394.847373 128.789446 \r\nz\r\n\" style=\"fill:#1f77b4;\"/>\r\n   </g>\r\n   <g id=\"patch_9\">\r\n    <path clip-path=\"url(#pd5f330d2ef)\" d=\"M 459.331195 293.735625 \r\nL 510.918252 293.735625 \r\nL 510.918252 180.560874 \r\nL 459.331195 180.560874 \r\nz\r\n\" style=\"fill:#1f77b4;\"/>\r\n   </g>\r\n   <g id=\"patch_10\">\r\n    <path clip-path=\"url(#pd5f330d2ef)\" d=\"M 523.815016 293.735625 \r\nL 575.402073 293.735625 \r\nL 575.402073 131.197419 \r\nL 523.815016 131.197419 \r\nz\r\n\" style=\"fill:#1f77b4;\"/>\r\n   </g>\r\n   <g id=\"patch_11\">\r\n    <path clip-path=\"url(#pd5f330d2ef)\" d=\"M 588.298837 293.735625 \r\nL 639.885894 293.735625 \r\nL 639.885894 199.824662 \r\nL 588.298837 199.824662 \r\nz\r\n\" style=\"fill:#1f77b4;\"/>\r\n   </g>\r\n   <g id=\"patch_12\">\r\n    <path clip-path=\"url(#pd5f330d2ef)\" d=\"M 652.782658 293.735625 \r\nL 704.369715 293.735625 \r\nL 704.369715 188.988781 \r\nL 652.782658 188.988781 \r\nz\r\n\" style=\"fill:#1f77b4;\"/>\r\n   </g>\r\n   <g id=\"patch_13\">\r\n    <path clip-path=\"url(#pd5f330d2ef)\" d=\"M 717.26648 293.735625 \r\nL 768.853537 293.735625 \r\nL 768.853537 211.864529 \r\nL 717.26648 211.864529 \r\nz\r\n\" style=\"fill:#1f77b4;\"/>\r\n   </g>\r\n   <g id=\"patch_14\">\r\n    <path clip-path=\"url(#pd5f330d2ef)\" d=\"M 781.750301 293.735625 \r\nL 833.337358 293.735625 \r\nL 833.337358 166.113034 \r\nL 781.750301 166.113034 \r\nz\r\n\" style=\"fill:#1f77b4;\"/>\r\n   </g>\r\n   <g id=\"patch_15\">\r\n    <path d=\"M 34.382813 293.735625 \r\nL 34.382813 21.935625 \r\n\" style=\"fill:none;\"/>\r\n   </g>\r\n   <g id=\"patch_16\">\r\n    <path d=\"M 871.382812 293.735625 \r\nL 871.382812 21.935625 \r\n\" style=\"fill:none;\"/>\r\n   </g>\r\n   <g id=\"patch_17\">\r\n    <path d=\"M 34.382813 293.735625 \r\nL 871.382812 293.735625 \r\n\" style=\"fill:none;\"/>\r\n   </g>\r\n   <g id=\"patch_18\">\r\n    <path d=\"M 34.382813 21.935625 \r\nL 871.382812 21.935625 \r\n\" style=\"fill:none;\"/>\r\n   </g>\r\n   <g id=\"text_18\">\r\n    <!-- 215 -->\r\n    <g style=\"fill:#ffffff;\" transform=\"translate(89.046249 58.958216)scale(0.11 -0.11)\">\r\n     <use xlink:href=\"#ArialMT-50\"/>\r\n     <use x=\"55.615234\" xlink:href=\"#ArialMT-49\"/>\r\n     <use x=\"111.230469\" xlink:href=\"#ArialMT-53\"/>\r\n    </g>\r\n   </g>\r\n   <g id=\"text_19\">\r\n    <!-- 96 -->\r\n    <g style=\"fill:#ffffff;\" transform=\"translate(156.588586 202.232635)scale(0.11 -0.11)\">\r\n     <defs>\r\n      <path d=\"M 5.46875 16.546875 \r\nL 13.921875 17.328125 \r\nQ 14.984375 11.375 18.015625 8.6875 \r\nQ 21.046875 6 25.78125 6 \r\nQ 29.828125 6 32.875 7.859375 \r\nQ 35.9375 9.71875 37.890625 12.8125 \r\nQ 39.84375 15.921875 41.15625 21.1875 \r\nQ 42.484375 26.46875 42.484375 31.9375 \r\nQ 42.484375 32.515625 42.4375 33.6875 \r\nQ 39.796875 29.5 35.234375 26.875 \r\nQ 30.671875 24.265625 25.34375 24.265625 \r\nQ 16.453125 24.265625 10.296875 30.703125 \r\nQ 4.15625 37.15625 4.15625 47.703125 \r\nQ 4.15625 58.59375 10.578125 65.234375 \r\nQ 17 71.875 26.65625 71.875 \r\nQ 33.640625 71.875 39.421875 68.109375 \r\nQ 45.21875 64.359375 48.21875 57.390625 \r\nQ 51.21875 50.4375 51.21875 37.25 \r\nQ 51.21875 23.53125 48.234375 15.40625 \r\nQ 45.265625 7.28125 39.375 3.03125 \r\nQ 33.5 -1.21875 25.59375 -1.21875 \r\nQ 17.1875 -1.21875 11.859375 3.4375 \r\nQ 6.546875 8.109375 5.46875 16.546875 \r\nz\r\nM 41.453125 48.140625 \r\nQ 41.453125 55.71875 37.421875 60.15625 \r\nQ 33.40625 64.59375 27.734375 64.59375 \r\nQ 21.875 64.59375 17.53125 59.8125 \r\nQ 13.1875 55.03125 13.1875 47.40625 \r\nQ 13.1875 40.578125 17.3125 36.296875 \r\nQ 21.4375 32.03125 27.484375 32.03125 \r\nQ 33.59375 32.03125 37.515625 36.296875 \r\nQ 41.453125 40.578125 41.453125 48.140625 \r\nz\r\n\" id=\"ArialMT-57\"/>\r\n      <path d=\"M 49.75 54.046875 \r\nL 41.015625 53.375 \r\nQ 39.84375 58.546875 37.703125 60.890625 \r\nQ 34.125 64.65625 28.90625 64.65625 \r\nQ 24.703125 64.65625 21.53125 62.3125 \r\nQ 17.390625 59.28125 14.984375 53.46875 \r\nQ 12.59375 47.65625 12.5 36.921875 \r\nQ 15.671875 41.75 20.265625 44.09375 \r\nQ 24.859375 46.4375 29.890625 46.4375 \r\nQ 38.671875 46.4375 44.84375 39.96875 \r\nQ 51.03125 33.5 51.03125 23.25 \r\nQ 51.03125 16.5 48.125 10.71875 \r\nQ 45.21875 4.9375 40.140625 1.859375 \r\nQ 35.0625 -1.21875 28.609375 -1.21875 \r\nQ 17.625 -1.21875 10.6875 6.859375 \r\nQ 3.765625 14.9375 3.765625 33.5 \r\nQ 3.765625 54.25 11.421875 63.671875 \r\nQ 18.109375 71.875 29.4375 71.875 \r\nQ 37.890625 71.875 43.28125 67.140625 \r\nQ 48.6875 62.40625 49.75 54.046875 \r\nz\r\nM 13.875 23.1875 \r\nQ 13.875 18.65625 15.796875 14.5 \r\nQ 17.71875 10.359375 21.1875 8.171875 \r\nQ 24.65625 6 28.46875 6 \r\nQ 34.03125 6 38.03125 10.484375 \r\nQ 42.046875 14.984375 42.046875 22.703125 \r\nQ 42.046875 30.125 38.078125 34.390625 \r\nQ 34.125 38.671875 28.125 38.671875 \r\nQ 22.171875 38.671875 18.015625 34.390625 \r\nQ 13.875 30.125 13.875 23.1875 \r\nz\r\n\" id=\"ArialMT-54\"/>\r\n     </defs>\r\n     <use xlink:href=\"#ArialMT-57\"/>\r\n     <use x=\"55.615234\" xlink:href=\"#ArialMT-54\"/>\r\n    </g>\r\n   </g>\r\n   <g id=\"text_20\">\r\n    <!-- 177 -->\r\n    <g style=\"fill:#ffffff;\" transform=\"translate(218.013891 104.709711)scale(0.11 -0.11)\">\r\n     <defs>\r\n      <path d=\"M 4.734375 62.203125 \r\nL 4.734375 70.65625 \r\nL 51.078125 70.65625 \r\nL 51.078125 63.8125 \r\nQ 44.234375 56.546875 37.515625 44.484375 \r\nQ 30.8125 32.421875 27.15625 19.671875 \r\nQ 24.515625 10.6875 23.78125 0 \r\nL 14.75 0 \r\nQ 14.890625 8.453125 18.0625 20.40625 \r\nQ 21.234375 32.375 27.171875 43.484375 \r\nQ 33.109375 54.59375 39.796875 62.203125 \r\nz\r\n\" id=\"ArialMT-55\"/>\r\n     </defs>\r\n     <use xlink:href=\"#ArialMT-49\"/>\r\n     <use x=\"55.615234\" xlink:href=\"#ArialMT-55\"/>\r\n     <use x=\"111.230469\" xlink:href=\"#ArialMT-55\"/>\r\n    </g>\r\n   </g>\r\n   <g id=\"text_21\">\r\n    <!-- 163 -->\r\n    <g style=\"fill:#ffffff;\" transform=\"translate(282.497712 121.565525)scale(0.11 -0.11)\">\r\n     <defs>\r\n      <path d=\"M 4.203125 18.890625 \r\nL 12.984375 20.0625 \r\nQ 14.5 12.59375 18.140625 9.296875 \r\nQ 21.78125 6 27 6 \r\nQ 33.203125 6 37.46875 10.296875 \r\nQ 41.75 14.59375 41.75 20.953125 \r\nQ 41.75 27 37.796875 30.921875 \r\nQ 33.84375 34.859375 27.734375 34.859375 \r\nQ 25.25 34.859375 21.53125 33.890625 \r\nL 22.515625 41.609375 \r\nQ 23.390625 41.5 23.921875 41.5 \r\nQ 29.546875 41.5 34.03125 44.421875 \r\nQ 38.53125 47.359375 38.53125 53.46875 \r\nQ 38.53125 58.296875 35.25 61.46875 \r\nQ 31.984375 64.65625 26.8125 64.65625 \r\nQ 21.6875 64.65625 18.265625 61.421875 \r\nQ 14.84375 58.203125 13.875 51.765625 \r\nL 5.078125 53.328125 \r\nQ 6.6875 62.15625 12.390625 67.015625 \r\nQ 18.109375 71.875 26.609375 71.875 \r\nQ 32.46875 71.875 37.390625 69.359375 \r\nQ 42.328125 66.84375 44.9375 62.5 \r\nQ 47.5625 58.15625 47.5625 53.265625 \r\nQ 47.5625 48.640625 45.0625 44.828125 \r\nQ 42.578125 41.015625 37.703125 38.765625 \r\nQ 44.046875 37.3125 47.5625 32.6875 \r\nQ 51.078125 28.078125 51.078125 21.140625 \r\nQ 51.078125 11.765625 44.234375 5.25 \r\nQ 37.40625 -1.265625 26.953125 -1.265625 \r\nQ 17.53125 -1.265625 11.296875 4.34375 \r\nQ 5.078125 9.96875 4.203125 18.890625 \r\nz\r\n\" id=\"ArialMT-51\"/>\r\n     </defs>\r\n     <use xlink:href=\"#ArialMT-49\"/>\r\n     <use x=\"55.615234\" xlink:href=\"#ArialMT-54\"/>\r\n     <use x=\"111.230469\" xlink:href=\"#ArialMT-51\"/>\r\n    </g>\r\n   </g>\r\n   <g id=\"text_22\">\r\n    <!-- 112 -->\r\n    <g style=\"fill:#ffffff;\" transform=\"translate(347.387159 182.968848)scale(0.11 -0.11)\">\r\n     <use xlink:href=\"#ArialMT-49\"/>\r\n     <use x=\"48.240234\" xlink:href=\"#ArialMT-49\"/>\r\n     <use x=\"103.855469\" xlink:href=\"#ArialMT-50\"/>\r\n    </g>\r\n   </g>\r\n   <g id=\"text_23\">\r\n    <!-- 137 -->\r\n    <g style=\"fill:#ffffff;\" transform=\"translate(411.465355 152.86918)scale(0.11 -0.11)\">\r\n     <use xlink:href=\"#ArialMT-49\"/>\r\n     <use x=\"55.615234\" xlink:href=\"#ArialMT-51\"/>\r\n     <use x=\"111.230469\" xlink:href=\"#ArialMT-55\"/>\r\n    </g>\r\n   </g>\r\n   <g id=\"text_24\">\r\n    <!-- 94 -->\r\n    <g style=\"fill:#ffffff;\" transform=\"translate(479.007692 204.640608)scale(0.11 -0.11)\">\r\n     <defs>\r\n      <path d=\"M 32.328125 0 \r\nL 32.328125 17.140625 \r\nL 1.265625 17.140625 \r\nL 1.265625 25.203125 \r\nL 33.9375 71.578125 \r\nL 41.109375 71.578125 \r\nL 41.109375 25.203125 \r\nL 50.78125 25.203125 \r\nL 50.78125 17.140625 \r\nL 41.109375 17.140625 \r\nL 41.109375 0 \r\nz\r\nM 32.328125 25.203125 \r\nL 32.328125 57.46875 \r\nL 9.90625 25.203125 \r\nz\r\n\" id=\"ArialMT-52\"/>\r\n     </defs>\r\n     <use xlink:href=\"#ArialMT-57\"/>\r\n     <use x=\"55.615234\" xlink:href=\"#ArialMT-52\"/>\r\n    </g>\r\n   </g>\r\n   <g id=\"text_25\">\r\n    <!-- 135 -->\r\n    <g style=\"fill:#ffffff;\" transform=\"translate(540.432998 155.277153)scale(0.11 -0.11)\">\r\n     <use xlink:href=\"#ArialMT-49\"/>\r\n     <use x=\"55.615234\" xlink:href=\"#ArialMT-51\"/>\r\n     <use x=\"111.230469\" xlink:href=\"#ArialMT-53\"/>\r\n    </g>\r\n   </g>\r\n   <g id=\"text_26\">\r\n    <!-- 78 -->\r\n    <g style=\"fill:#ffffff;\" transform=\"translate(607.975334 223.904396)scale(0.11 -0.11)\">\r\n     <defs>\r\n      <path d=\"M 17.671875 38.8125 \r\nQ 12.203125 40.828125 9.5625 44.53125 \r\nQ 6.9375 48.25 6.9375 53.421875 \r\nQ 6.9375 61.234375 12.546875 66.546875 \r\nQ 18.171875 71.875 27.484375 71.875 \r\nQ 36.859375 71.875 42.578125 66.421875 \r\nQ 48.296875 60.984375 48.296875 53.171875 \r\nQ 48.296875 48.1875 45.671875 44.5 \r\nQ 43.0625 40.828125 37.75 38.8125 \r\nQ 44.34375 36.671875 47.78125 31.875 \r\nQ 51.21875 27.09375 51.21875 20.453125 \r\nQ 51.21875 11.28125 44.71875 5.03125 \r\nQ 38.234375 -1.21875 27.640625 -1.21875 \r\nQ 17.046875 -1.21875 10.546875 5.046875 \r\nQ 4.046875 11.328125 4.046875 20.703125 \r\nQ 4.046875 27.6875 7.59375 32.390625 \r\nQ 11.140625 37.109375 17.671875 38.8125 \r\nz\r\nM 15.921875 53.71875 \r\nQ 15.921875 48.640625 19.1875 45.40625 \r\nQ 22.46875 42.1875 27.6875 42.1875 \r\nQ 32.765625 42.1875 36.015625 45.375 \r\nQ 39.265625 48.578125 39.265625 53.21875 \r\nQ 39.265625 58.0625 35.90625 61.359375 \r\nQ 32.5625 64.65625 27.59375 64.65625 \r\nQ 22.5625 64.65625 19.234375 61.421875 \r\nQ 15.921875 58.203125 15.921875 53.71875 \r\nz\r\nM 13.09375 20.65625 \r\nQ 13.09375 16.890625 14.875 13.375 \r\nQ 16.65625 9.859375 20.171875 7.921875 \r\nQ 23.6875 6 27.734375 6 \r\nQ 34.03125 6 38.125 10.046875 \r\nQ 42.234375 14.109375 42.234375 20.359375 \r\nQ 42.234375 26.703125 38.015625 30.859375 \r\nQ 33.796875 35.015625 27.4375 35.015625 \r\nQ 21.234375 35.015625 17.15625 30.90625 \r\nQ 13.09375 26.8125 13.09375 20.65625 \r\nz\r\n\" id=\"ArialMT-56\"/>\r\n     </defs>\r\n     <use xlink:href=\"#ArialMT-55\"/>\r\n     <use x=\"55.615234\" xlink:href=\"#ArialMT-56\"/>\r\n    </g>\r\n   </g>\r\n   <g id=\"text_27\">\r\n    <!-- 87 -->\r\n    <g style=\"fill:#ffffff;\" transform=\"translate(672.459156 213.068515)scale(0.11 -0.11)\">\r\n     <use xlink:href=\"#ArialMT-56\"/>\r\n     <use x=\"55.615234\" xlink:href=\"#ArialMT-55\"/>\r\n    </g>\r\n   </g>\r\n   <g id=\"text_28\">\r\n    <!-- 68 -->\r\n    <g style=\"fill:#ffffff;\" transform=\"translate(736.942977 235.944263)scale(0.11 -0.11)\">\r\n     <use xlink:href=\"#ArialMT-54\"/>\r\n     <use x=\"55.615234\" xlink:href=\"#ArialMT-56\"/>\r\n    </g>\r\n   </g>\r\n   <g id=\"text_29\">\r\n    <!-- 106 -->\r\n    <g style=\"fill:#ffffff;\" transform=\"translate(798.368283 190.192768)scale(0.11 -0.11)\">\r\n     <use xlink:href=\"#ArialMT-49\"/>\r\n     <use x=\"55.615234\" xlink:href=\"#ArialMT-48\"/>\r\n     <use x=\"111.230469\" xlink:href=\"#ArialMT-54\"/>\r\n    </g>\r\n   </g>\r\n   <g id=\"text_30\">\r\n    <!-- Number of Customers Acquired Each Month -->\r\n    <g style=\"fill:#262626;\" transform=\"translate(335.502187 15.935625)scale(0.12 -0.12)\">\r\n     <defs>\r\n      <path d=\"M 6.59375 0 \r\nL 6.59375 51.859375 \r\nL 14.453125 51.859375 \r\nL 14.453125 44.578125 \r\nQ 16.890625 48.390625 20.9375 50.703125 \r\nQ 25 53.03125 30.171875 53.03125 \r\nQ 35.9375 53.03125 39.625 50.640625 \r\nQ 43.3125 48.25 44.828125 43.953125 \r\nQ 50.984375 53.03125 60.84375 53.03125 \r\nQ 68.5625 53.03125 72.703125 48.75 \r\nQ 76.859375 44.484375 76.859375 35.59375 \r\nL 76.859375 0 \r\nL 68.109375 0 \r\nL 68.109375 32.671875 \r\nQ 68.109375 37.9375 67.25 40.25 \r\nQ 66.40625 42.578125 64.15625 43.984375 \r\nQ 61.921875 45.40625 58.890625 45.40625 \r\nQ 53.421875 45.40625 49.796875 41.765625 \r\nQ 46.1875 38.140625 46.1875 30.125 \r\nL 46.1875 0 \r\nL 37.40625 0 \r\nL 37.40625 33.6875 \r\nQ 37.40625 39.546875 35.25 42.46875 \r\nQ 33.109375 45.40625 28.21875 45.40625 \r\nQ 24.515625 45.40625 21.359375 43.453125 \r\nQ 18.21875 41.5 16.796875 37.734375 \r\nQ 15.375 33.984375 15.375 26.90625 \r\nL 15.375 0 \r\nz\r\n\" id=\"ArialMT-109\"/>\r\n      <path id=\"ArialMT-32\"/>\r\n      <path d=\"M 8.6875 0 \r\nL 8.6875 45.015625 \r\nL 0.921875 45.015625 \r\nL 0.921875 51.859375 \r\nL 8.6875 51.859375 \r\nL 8.6875 57.375 \r\nQ 8.6875 62.59375 9.625 65.140625 \r\nQ 10.890625 68.5625 14.078125 70.671875 \r\nQ 17.28125 72.796875 23.046875 72.796875 \r\nQ 26.765625 72.796875 31.25 71.921875 \r\nL 29.9375 64.265625 \r\nQ 27.203125 64.75 24.75 64.75 \r\nQ 20.75 64.75 19.09375 63.03125 \r\nQ 17.4375 61.328125 17.4375 56.640625 \r\nL 17.4375 51.859375 \r\nL 27.546875 51.859375 \r\nL 27.546875 45.015625 \r\nL 17.4375 45.015625 \r\nL 17.4375 0 \r\nz\r\n\" id=\"ArialMT-102\"/>\r\n      <path d=\"M 58.796875 25.09375 \r\nL 68.265625 22.703125 \r\nQ 65.28125 11.03125 57.546875 4.90625 \r\nQ 49.8125 -1.21875 38.625 -1.21875 \r\nQ 27.046875 -1.21875 19.796875 3.484375 \r\nQ 12.546875 8.203125 8.765625 17.140625 \r\nQ 4.984375 26.078125 4.984375 36.328125 \r\nQ 4.984375 47.515625 9.25 55.828125 \r\nQ 13.53125 64.15625 21.40625 68.46875 \r\nQ 29.296875 72.796875 38.765625 72.796875 \r\nQ 49.515625 72.796875 56.828125 67.328125 \r\nQ 64.15625 61.859375 67.046875 51.953125 \r\nL 57.71875 49.75 \r\nQ 55.21875 57.5625 50.484375 61.125 \r\nQ 45.75 64.703125 38.578125 64.703125 \r\nQ 30.328125 64.703125 24.78125 60.734375 \r\nQ 19.234375 56.78125 16.984375 50.109375 \r\nQ 14.75 43.453125 14.75 36.375 \r\nQ 14.75 27.25 17.40625 20.4375 \r\nQ 20.0625 13.625 25.671875 10.25 \r\nQ 31.296875 6.890625 37.84375 6.890625 \r\nQ 45.796875 6.890625 51.3125 11.46875 \r\nQ 56.84375 16.0625 58.796875 25.09375 \r\nz\r\n\" id=\"ArialMT-67\"/>\r\n      <path d=\"M 3.078125 15.484375 \r\nL 11.765625 16.84375 \r\nQ 12.5 11.625 15.84375 8.84375 \r\nQ 19.1875 6.0625 25.203125 6.0625 \r\nQ 31.25 6.0625 34.171875 8.515625 \r\nQ 37.109375 10.984375 37.109375 14.3125 \r\nQ 37.109375 17.28125 34.515625 19 \r\nQ 32.71875 20.171875 25.53125 21.96875 \r\nQ 15.875 24.421875 12.140625 26.203125 \r\nQ 8.40625 27.984375 6.46875 31.125 \r\nQ 4.546875 34.28125 4.546875 38.09375 \r\nQ 4.546875 41.546875 6.125 44.5 \r\nQ 7.71875 47.46875 10.453125 49.421875 \r\nQ 12.5 50.921875 16.03125 51.96875 \r\nQ 19.578125 53.03125 23.640625 53.03125 \r\nQ 29.734375 53.03125 34.34375 51.265625 \r\nQ 38.96875 49.515625 41.15625 46.5 \r\nQ 43.359375 43.5 44.1875 38.484375 \r\nL 35.59375 37.3125 \r\nQ 35.015625 41.3125 32.203125 43.546875 \r\nQ 29.390625 45.796875 24.265625 45.796875 \r\nQ 18.21875 45.796875 15.625 43.796875 \r\nQ 13.03125 41.796875 13.03125 39.109375 \r\nQ 13.03125 37.40625 14.109375 36.03125 \r\nQ 15.1875 34.625 17.484375 33.6875 \r\nQ 18.796875 33.203125 25.25 31.453125 \r\nQ 34.578125 28.953125 38.25 27.359375 \r\nQ 41.9375 25.78125 44.03125 22.75 \r\nQ 46.140625 19.734375 46.140625 15.234375 \r\nQ 46.140625 10.84375 43.578125 6.953125 \r\nQ 41.015625 3.078125 36.171875 0.953125 \r\nQ 31.34375 -1.171875 25.25 -1.171875 \r\nQ 15.140625 -1.171875 9.84375 3.03125 \r\nQ 4.546875 7.234375 3.078125 15.484375 \r\nz\r\n\" id=\"ArialMT-115\"/>\r\n      <path d=\"M 39.65625 -19.875 \r\nL 39.65625 5.515625 \r\nQ 37.59375 2.640625 33.90625 0.734375 \r\nQ 30.21875 -1.171875 26.078125 -1.171875 \r\nQ 16.84375 -1.171875 10.171875 6.203125 \r\nQ 3.515625 13.578125 3.515625 26.421875 \r\nQ 3.515625 34.234375 6.21875 40.421875 \r\nQ 8.9375 46.625 14.078125 49.828125 \r\nQ 19.234375 53.03125 25.390625 53.03125 \r\nQ 35.015625 53.03125 40.53125 44.921875 \r\nL 40.53125 51.859375 \r\nL 48.4375 51.859375 \r\nL 48.4375 -19.875 \r\nz\r\nM 12.546875 26.078125 \r\nQ 12.546875 16.0625 16.75 11.0625 \r\nQ 20.953125 6.0625 26.8125 6.0625 \r\nQ 32.421875 6.0625 36.46875 10.8125 \r\nQ 40.53125 15.578125 40.53125 25.296875 \r\nQ 40.53125 35.640625 36.25 40.859375 \r\nQ 31.984375 46.09375 26.21875 46.09375 \r\nQ 20.515625 46.09375 16.53125 41.234375 \r\nQ 12.546875 36.375 12.546875 26.078125 \r\nz\r\n\" id=\"ArialMT-113\"/>\r\n      <path d=\"M 6.640625 61.46875 \r\nL 6.640625 71.578125 \r\nL 15.4375 71.578125 \r\nL 15.4375 61.46875 \r\nz\r\nM 6.640625 0 \r\nL 6.640625 51.859375 \r\nL 15.4375 51.859375 \r\nL 15.4375 0 \r\nz\r\n\" id=\"ArialMT-105\"/>\r\n      <path d=\"M 40.234375 0 \r\nL 40.234375 6.546875 \r\nQ 35.296875 -1.171875 25.734375 -1.171875 \r\nQ 19.53125 -1.171875 14.328125 2.25 \r\nQ 9.125 5.671875 6.265625 11.796875 \r\nQ 3.421875 17.921875 3.421875 25.875 \r\nQ 3.421875 33.640625 6 39.96875 \r\nQ 8.59375 46.296875 13.765625 49.65625 \r\nQ 18.953125 53.03125 25.34375 53.03125 \r\nQ 30.03125 53.03125 33.6875 51.046875 \r\nQ 37.359375 49.078125 39.65625 45.90625 \r\nL 39.65625 71.578125 \r\nL 48.390625 71.578125 \r\nL 48.390625 0 \r\nz\r\nM 12.453125 25.875 \r\nQ 12.453125 15.921875 16.640625 10.984375 \r\nQ 20.84375 6.0625 26.5625 6.0625 \r\nQ 32.328125 6.0625 36.34375 10.765625 \r\nQ 40.375 15.484375 40.375 25.140625 \r\nQ 40.375 35.796875 36.265625 40.765625 \r\nQ 32.171875 45.75 26.171875 45.75 \r\nQ 20.3125 45.75 16.375 40.96875 \r\nQ 12.453125 36.1875 12.453125 25.875 \r\nz\r\n\" id=\"ArialMT-100\"/>\r\n      <path d=\"M 7.90625 0 \r\nL 7.90625 71.578125 \r\nL 59.671875 71.578125 \r\nL 59.671875 63.140625 \r\nL 17.390625 63.140625 \r\nL 17.390625 41.21875 \r\nL 56.984375 41.21875 \r\nL 56.984375 32.8125 \r\nL 17.390625 32.8125 \r\nL 17.390625 8.453125 \r\nL 61.328125 8.453125 \r\nL 61.328125 0 \r\nz\r\n\" id=\"ArialMT-69\"/>\r\n      <path d=\"M 6.59375 0 \r\nL 6.59375 71.578125 \r\nL 15.375 71.578125 \r\nL 15.375 45.90625 \r\nQ 21.53125 53.03125 30.90625 53.03125 \r\nQ 36.671875 53.03125 40.921875 50.75 \r\nQ 45.171875 48.484375 47 44.484375 \r\nQ 48.828125 40.484375 48.828125 32.859375 \r\nL 48.828125 0 \r\nL 40.046875 0 \r\nL 40.046875 32.859375 \r\nQ 40.046875 39.453125 37.1875 42.453125 \r\nQ 34.328125 45.453125 29.109375 45.453125 \r\nQ 25.203125 45.453125 21.75 43.421875 \r\nQ 18.3125 41.40625 16.84375 37.9375 \r\nQ 15.375 34.46875 15.375 28.375 \r\nL 15.375 0 \r\nz\r\n\" id=\"ArialMT-104\"/>\r\n     </defs>\r\n     <use xlink:href=\"#ArialMT-78\"/>\r\n     <use x=\"72.216797\" xlink:href=\"#ArialMT-117\"/>\r\n     <use x=\"127.832031\" xlink:href=\"#ArialMT-109\"/>\r\n     <use x=\"211.132812\" xlink:href=\"#ArialMT-98\"/>\r\n     <use x=\"266.748047\" xlink:href=\"#ArialMT-101\"/>\r\n     <use x=\"322.363281\" xlink:href=\"#ArialMT-114\"/>\r\n     <use x=\"355.664062\" xlink:href=\"#ArialMT-32\"/>\r\n     <use x=\"383.447266\" xlink:href=\"#ArialMT-111\"/>\r\n     <use x=\"439.0625\" xlink:href=\"#ArialMT-102\"/>\r\n     <use x=\"466.845703\" xlink:href=\"#ArialMT-32\"/>\r\n     <use x=\"494.628906\" xlink:href=\"#ArialMT-67\"/>\r\n     <use x=\"566.845703\" xlink:href=\"#ArialMT-117\"/>\r\n     <use x=\"622.460938\" xlink:href=\"#ArialMT-115\"/>\r\n     <use x=\"672.460938\" xlink:href=\"#ArialMT-116\"/>\r\n     <use x=\"700.244141\" xlink:href=\"#ArialMT-111\"/>\r\n     <use x=\"755.859375\" xlink:href=\"#ArialMT-109\"/>\r\n     <use x=\"839.160156\" xlink:href=\"#ArialMT-101\"/>\r\n     <use x=\"894.775391\" xlink:href=\"#ArialMT-114\"/>\r\n     <use x=\"928.076172\" xlink:href=\"#ArialMT-115\"/>\r\n     <use x=\"978.076172\" xlink:href=\"#ArialMT-32\"/>\r\n     <use x=\"1000.359375\" xlink:href=\"#ArialMT-65\"/>\r\n     <use x=\"1067.058594\" xlink:href=\"#ArialMT-99\"/>\r\n     <use x=\"1117.058594\" xlink:href=\"#ArialMT-113\"/>\r\n     <use x=\"1172.673828\" xlink:href=\"#ArialMT-117\"/>\r\n     <use x=\"1228.289062\" xlink:href=\"#ArialMT-105\"/>\r\n     <use x=\"1250.505859\" xlink:href=\"#ArialMT-114\"/>\r\n     <use x=\"1283.806641\" xlink:href=\"#ArialMT-101\"/>\r\n     <use x=\"1339.421875\" xlink:href=\"#ArialMT-100\"/>\r\n     <use x=\"1395.037109\" xlink:href=\"#ArialMT-32\"/>\r\n     <use x=\"1422.820312\" xlink:href=\"#ArialMT-69\"/>\r\n     <use x=\"1489.519531\" xlink:href=\"#ArialMT-97\"/>\r\n     <use x=\"1545.134766\" xlink:href=\"#ArialMT-99\"/>\r\n     <use x=\"1595.134766\" xlink:href=\"#ArialMT-104\"/>\r\n     <use x=\"1650.75\" xlink:href=\"#ArialMT-32\"/>\r\n     <use x=\"1678.533203\" xlink:href=\"#ArialMT-77\"/>\r\n     <use x=\"1761.833984\" xlink:href=\"#ArialMT-111\"/>\r\n     <use x=\"1817.449219\" xlink:href=\"#ArialMT-110\"/>\r\n     <use x=\"1873.064453\" xlink:href=\"#ArialMT-116\"/>\r\n     <use x=\"1900.847656\" xlink:href=\"#ArialMT-104\"/>\r\n    </g>\r\n   </g>\r\n  </g>\r\n </g>\r\n <defs>\r\n  <clipPath id=\"pd5f330d2ef\">\r\n   <rect height=\"271.8\" width=\"837\" x=\"34.382813\" y=\"21.935625\"/>\r\n  </clipPath>\r\n </defs>\r\n</svg>\r\n",
      "image/png": "[encoded data removed]"
     },
     "metadata": {
      "needs_background": "light"
     }
    }
   ],
   "metadata": {}
  }
 ],
 "metadata": {
  "orig_nbformat": 4,
  "language_info": {
   "name": "python",
   "version": "3.8.8",
   "mimetype": "text/x-python",
   "codemirror_mode": {
    "name": "ipython",
    "version": 3
   },
   "pygments_lexer": "ipython3",
   "nbconvert_exporter": "python",
   "file_extension": ".py"
  },
  "kernelspec": {
   "name": "python3",
   "display_name": "Python 3.8.8 64-bit ('base': conda)"
  },
  "interpreter": {
   "hash": "84f017cd5557d2282cf5678dc1cdd116ebcd7e7555acfe7e9218cdeda5a0331f"
  }
 },
 "nbformat": 4,
 "nbformat_minor": 2
}