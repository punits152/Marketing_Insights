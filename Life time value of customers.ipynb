{
 "cells": [
  {
   "cell_type": "code",
   "execution_count": 1,
   "id": "5475123e",
   "metadata": {},
   "outputs": [],
   "source": [
    "import pandas as pd\n",
    "import numpy as np"
   ]
  },
  {
   "cell_type": "code",
   "execution_count": 2,
   "id": "988e7d36",
   "metadata": {},
   "outputs": [],
   "source": [
    "df = pd.read_csv(\"Final_Df.csv\")"
   ]
  },
  {
   "cell_type": "code",
   "execution_count": 3,
   "id": "0a286b19",
   "metadata": {},
   "outputs": [
    {
     "data": {
      "text/plain": [
       "0.33    1089.502190\n",
       "0.66    3380.198748\n",
       "Name: Invoice_Value, dtype: float64"
      ]
     },
     "execution_count": 3,
     "metadata": {},
     "output_type": "execute_result"
    }
   ],
   "source": [
    "df.groupby(\"CustomerID\")[\"Invoice_Value\"].sum().quantile([0.33,0.66])"
   ]
  },
  {
   "cell_type": "code",
   "execution_count": 4,
   "id": "35b04259",
   "metadata": {},
   "outputs": [],
   "source": [
    "def value(row):\n",
    "    if row[\"Invoice_Value\"]<=1089:\n",
    "        row[\"Value\"]=\"Low\"\n",
    "    elif (row[\"Invoice_Value\"]>=1089) & (row[\"Invoice_Value\"]<=3380):\n",
    "        row[\"Value\"] = \"Medium\"\n",
    "    else:\n",
    "        row[\"Value\"] = \"High\"\n",
    "    return row"
   ]
  },
  {
   "cell_type": "code",
   "execution_count": 5,
   "id": "4856abfc",
   "metadata": {},
   "outputs": [
    {
     "data": {
      "text/plain": [
       "CustomerID\n",
       "12346       Low\n",
       "12347      High\n",
       "12348    Medium\n",
       "12350    Medium\n",
       "12356    Medium\n",
       "          ...  \n",
       "18259       Low\n",
       "18260    Medium\n",
       "18269       Low\n",
       "18277       Low\n",
       "18283      High\n",
       "Name: Value, Length: 1468, dtype: object"
      ]
     },
     "execution_count": 5,
     "metadata": {},
     "output_type": "execute_result"
    }
   ],
   "source": [
    "df.groupby(\"CustomerID\").sum().apply(value,axis=1)[\"Value\"]"
   ]
  },
  {
   "cell_type": "code",
   "execution_count": 6,
   "id": "e4085096",
   "metadata": {},
   "outputs": [],
   "source": [
    "data = df.drop([\"Transaction_ID\",\"Avg_Price\",\"Product_SKU\",\"Product_Description\",\"Product_Category\",\"Month\",\"Coupon_Code\",\"Discount_pct\",\"Transaction_Date\",\"Tenure_Months\"],axis=1)"
   ]
  },
  {
   "cell_type": "code",
   "execution_count": 7,
   "id": "15185a72",
   "metadata": {
    "scrolled": true
   },
   "outputs": [
    {
     "data": {
      "text/html": [
       "<div>\n",
       "<style scoped>\n",
       "    .dataframe tbody tr th:only-of-type {\n",
       "        vertical-align: middle;\n",
       "    }\n",
       "\n",
       "    .dataframe tbody tr th {\n",
       "        vertical-align: top;\n",
       "    }\n",
       "\n",
       "    .dataframe thead th {\n",
       "        text-align: right;\n",
       "    }\n",
       "</style>\n",
       "<table border=\"1\" class=\"dataframe\">\n",
       "  <thead>\n",
       "    <tr style=\"text-align: right;\">\n",
       "      <th></th>\n",
       "      <th>Unnamed: 0</th>\n",
       "      <th>CustomerID</th>\n",
       "      <th>Gender</th>\n",
       "      <th>Location</th>\n",
       "      <th>Quantity</th>\n",
       "      <th>Delivery_Charges</th>\n",
       "      <th>Coupon_Status</th>\n",
       "      <th>GST</th>\n",
       "      <th>Invoice_Value</th>\n",
       "    </tr>\n",
       "  </thead>\n",
       "  <tbody>\n",
       "    <tr>\n",
       "      <th>0</th>\n",
       "      <td>0</td>\n",
       "      <td>12346</td>\n",
       "      <td>F</td>\n",
       "      <td>New York</td>\n",
       "      <td>1</td>\n",
       "      <td>75.0</td>\n",
       "      <td>Used</td>\n",
       "      <td>0.18</td>\n",
       "      <td>91.51174</td>\n",
       "    </tr>\n",
       "    <tr>\n",
       "      <th>1</th>\n",
       "      <td>1</td>\n",
       "      <td>12346</td>\n",
       "      <td>F</td>\n",
       "      <td>New York</td>\n",
       "      <td>2</td>\n",
       "      <td>75.0</td>\n",
       "      <td>Used</td>\n",
       "      <td>0.10</td>\n",
       "      <td>83.47000</td>\n",
       "    </tr>\n",
       "  </tbody>\n",
       "</table>\n",
       "</div>"
      ],
      "text/plain": [
       "   Unnamed: 0  CustomerID Gender  Location  Quantity  Delivery_Charges  \\\n",
       "0           0       12346      F  New York         1              75.0   \n",
       "1           1       12346      F  New York         2              75.0   \n",
       "\n",
       "  Coupon_Status   GST  Invoice_Value  \n",
       "0          Used  0.18       91.51174  \n",
       "1          Used  0.10       83.47000  "
      ]
     },
     "execution_count": 7,
     "metadata": {},
     "output_type": "execute_result"
    }
   ],
   "source": [
    "data.head(2)"
   ]
  },
  {
   "cell_type": "code",
   "execution_count": 8,
   "id": "83ba219e",
   "metadata": {},
   "outputs": [],
   "source": [
    "data_final = data.groupby(\"CustomerID\").agg({\"Invoice_Value\":mean,\"Delivery_Charges\":mean,\"Quantity\":mean,\"Location\":max,\"Gender\":max,\"Coupon_Status\":max,\"Tenure_Months\":max})"
   ]
  },
  {
   "cell_type": "code",
   "execution_count": 9,
   "id": "c82f41e7",
   "metadata": {},
   "outputs": [],
   "source": [
    "data_final[\"Value\"] = df.groupby(\"CustomerID\").sum().apply(value,axis=1)[\"Value\"]"
   ]
  },
  {
   "cell_type": "code",
   "execution_count": 10,
   "id": "c180233f",
   "metadata": {
    "scrolled": false
   },
   "outputs": [
    {
     "data": {
      "text/html": [
       "<div>\n",
       "<style scoped>\n",
       "    .dataframe tbody tr th:only-of-type {\n",
       "        vertical-align: middle;\n",
       "    }\n",
       "\n",
       "    .dataframe tbody tr th {\n",
       "        vertical-align: top;\n",
       "    }\n",
       "\n",
       "    .dataframe thead th {\n",
       "        text-align: right;\n",
       "    }\n",
       "</style>\n",
       "<table border=\"1\" class=\"dataframe\">\n",
       "  <thead>\n",
       "    <tr style=\"text-align: right;\">\n",
       "      <th></th>\n",
       "      <th>Invoice_Value</th>\n",
       "      <th>Delivery_Charges</th>\n",
       "      <th>Quantity</th>\n",
       "      <th>Location</th>\n",
       "      <th>Gender</th>\n",
       "      <th>Coupon_Status</th>\n",
       "      <th>Value</th>\n",
       "    </tr>\n",
       "    <tr>\n",
       "      <th>CustomerID</th>\n",
       "      <th></th>\n",
       "      <th></th>\n",
       "      <th></th>\n",
       "      <th></th>\n",
       "      <th></th>\n",
       "      <th></th>\n",
       "      <th></th>\n",
       "    </tr>\n",
       "  </thead>\n",
       "  <tbody>\n",
       "    <tr>\n",
       "      <th>12346</th>\n",
       "      <td>174.98174</td>\n",
       "      <td>150.00</td>\n",
       "      <td>3</td>\n",
       "      <td>New York</td>\n",
       "      <td>F</td>\n",
       "      <td>Used</td>\n",
       "      <td>Low</td>\n",
       "    </tr>\n",
       "    <tr>\n",
       "      <th>12347</th>\n",
       "      <td>15686.84396</td>\n",
       "      <td>665.14</td>\n",
       "      <td>342</td>\n",
       "      <td>New York</td>\n",
       "      <td>M</td>\n",
       "      <td>Used</td>\n",
       "      <td>High</td>\n",
       "    </tr>\n",
       "    <tr>\n",
       "      <th>12348</th>\n",
       "      <td>1689.55594</td>\n",
       "      <td>197.15</td>\n",
       "      <td>209</td>\n",
       "      <td>California</td>\n",
       "      <td>M</td>\n",
       "      <td>Used</td>\n",
       "      <td>Medium</td>\n",
       "    </tr>\n",
       "    <tr>\n",
       "      <th>12350</th>\n",
       "      <td>1467.43528</td>\n",
       "      <td>127.88</td>\n",
       "      <td>21</td>\n",
       "      <td>California</td>\n",
       "      <td>M</td>\n",
       "      <td>Used</td>\n",
       "      <td>Medium</td>\n",
       "    </tr>\n",
       "    <tr>\n",
       "      <th>12356</th>\n",
       "      <td>2007.42900</td>\n",
       "      <td>637.49</td>\n",
       "      <td>56</td>\n",
       "      <td>Chicago</td>\n",
       "      <td>F</td>\n",
       "      <td>Used</td>\n",
       "      <td>Medium</td>\n",
       "    </tr>\n",
       "  </tbody>\n",
       "</table>\n",
       "</div>"
      ],
      "text/plain": [
       "            Invoice_Value  Delivery_Charges  Quantity    Location Gender  \\\n",
       "CustomerID                                                                 \n",
       "12346           174.98174            150.00         3    New York      F   \n",
       "12347         15686.84396            665.14       342    New York      M   \n",
       "12348          1689.55594            197.15       209  California      M   \n",
       "12350          1467.43528            127.88        21  California      M   \n",
       "12356          2007.42900            637.49        56     Chicago      F   \n",
       "\n",
       "           Coupon_Status   Value  \n",
       "CustomerID                        \n",
       "12346               Used     Low  \n",
       "12347               Used    High  \n",
       "12348               Used  Medium  \n",
       "12350               Used  Medium  \n",
       "12356               Used  Medium  "
      ]
     },
     "execution_count": 10,
     "metadata": {},
     "output_type": "execute_result"
    }
   ],
   "source": [
    "data_final.head()"
   ]
  },
  {
   "cell_type": "code",
   "execution_count": 11,
   "id": "a4618bad",
   "metadata": {},
   "outputs": [],
   "source": [
    "data_final = pd.get_dummies(data_final,columns = [\"Location\",\"Gender\",\"Coupon_Status\"])"
   ]
  },
  {
   "cell_type": "code",
   "execution_count": 12,
   "id": "0de6f24c",
   "metadata": {},
   "outputs": [
    {
     "data": {
      "text/plain": [
       "Index(['Invoice_Value', 'Delivery_Charges', 'Quantity', 'Value',\n",
       "       'Location_California', 'Location_Chicago', 'Location_New Jersey',\n",
       "       'Location_New York', 'Location_Washington DC', 'Gender_F', 'Gender_M',\n",
       "       'Coupon_Status_Clicked', 'Coupon_Status_Not Used',\n",
       "       'Coupon_Status_Used'],\n",
       "      dtype='object')"
      ]
     },
     "execution_count": 12,
     "metadata": {},
     "output_type": "execute_result"
    }
   ],
   "source": [
    "data_final.columns"
   ]
  },
  {
   "cell_type": "code",
   "execution_count": 13,
   "id": "11929e15",
   "metadata": {},
   "outputs": [],
   "source": [
    "X = data_final[['Invoice_Value', 'Delivery_Charges', 'Quantity',\n",
    "       'Location_California', 'Location_Chicago', 'Location_New Jersey',\n",
    "       'Location_New York', 'Location_Washington DC', 'Gender_F', 'Gender_M',\n",
    "       'Coupon_Status_Clicked', 'Coupon_Status_Not Used',\n",
    "       'Coupon_Status_Used']]\n",
    "Y = data_final[\"Value\"]"
   ]
  },
  {
   "cell_type": "code",
   "execution_count": 14,
   "id": "a7571b35",
   "metadata": {},
   "outputs": [],
   "source": [
    "from sklearn.model_selection import train_test_split"
   ]
  },
  {
   "cell_type": "code",
   "execution_count": 15,
   "id": "6e8f1768",
   "metadata": {},
   "outputs": [],
   "source": [
    "X_train,X_test,y_train,y_test = train_test_split(X,Y,test_size=0.2,random_state=123)"
   ]
  },
  {
   "cell_type": "code",
   "execution_count": 16,
   "id": "1087bc8e",
   "metadata": {
    "scrolled": true
   },
   "outputs": [
    {
     "name": "stdout",
     "output_type": "stream",
     "text": [
      "Train set Accuracy:  0.8816013628620102\n",
      "Test set Accuracy:  0.8231292517006803\n"
     ]
    }
   ],
   "source": [
    "from sklearn.linear_model import LogisticRegression\n",
    "from sklearn import metrics\n",
    "\n",
    "log_reg = LogisticRegression(C=0.01, solver='liblinear').fit(X_train,y_train)\n",
    "yhat = log_reg.predict(X_test)\n",
    "print(\"Train set Accuracy: \", metrics.accuracy_score(y_train, log_reg.predict(X_train)))\n",
    "print(\"Test set Accuracy: \", metrics.accuracy_score(y_test, yhat))    "
   ]
  },
  {
   "cell_type": "code",
   "execution_count": 18,
   "id": "d79b7b6c",
   "metadata": {},
   "outputs": [
    {
     "name": "stdout",
     "output_type": "stream",
     "text": [
      "              precision    recall  f1-score   support\n",
      "\n",
      "        High       0.71      1.00      0.83        92\n",
      "         Low       0.97      0.89      0.93       108\n",
      "      Medium       0.82      0.57      0.68        94\n",
      "\n",
      "    accuracy                           0.82       294\n",
      "   macro avg       0.83      0.82      0.81       294\n",
      "weighted avg       0.84      0.82      0.82       294\n",
      "\n"
     ]
    }
   ],
   "source": [
    "print(metrics.classification_report(y_test, yhat))   "
   ]
  }
 ],
 "metadata": {
  "kernelspec": {
   "display_name": "Python 3",
   "language": "python",
   "name": "python3"
  },
  "language_info": {
   "codemirror_mode": {
    "name": "ipython",
    "version": 3
   },
   "file_extension": ".py",
   "mimetype": "text/x-python",
   "name": "python",
   "nbconvert_exporter": "python",
   "pygments_lexer": "ipython3",
   "version": "3.8.8"
  }
 },
 "nbformat": 4,
 "nbformat_minor": 5
}
